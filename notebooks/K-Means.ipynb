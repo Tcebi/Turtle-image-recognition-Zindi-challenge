{
 "cells": [
  {
   "cell_type": "markdown",
   "id": "65caef68-c4aa-460f-b00f-37f0ca45f001",
   "metadata": {},
   "source": [
    "# Introduction\n",
    "\n",
    "Notebook containing \n",
    "* a color analyser for checking out the three color channels\n",
    "* K-Means clustering\n",
    "\n",
    "With K-Means clustering, single images can be checked out and also a whole dataframe can be transformed."
   ]
  },
  {
   "cell_type": "markdown",
   "id": "529ca3d4-e572-4f82-aa9b-14a035b56768",
   "metadata": {},
   "source": [
    "## Imports"
   ]
  },
  {
   "cell_type": "code",
   "execution_count": null,
   "id": "e854e04b-ffdf-410f-a784-c3d623741187",
   "metadata": {},
   "outputs": [],
   "source": [
    "import imageio\n",
    "import matplotlib.pyplot as plt\n",
    "import numpy as np\n",
    "from sklearn.cluster import KMeans\n",
    "import cv2\n",
    "from skimage.color import rgb2lab, deltaE_cie76\n",
    "from collections import Counter\n",
    "import os \n",
    "import pandas as pd"
   ]
  },
  {
   "cell_type": "markdown",
   "id": "cbefdc16-56f0-46d9-b259-78d6ef2e041c",
   "metadata": {
    "tags": []
   },
   "source": [
    "## Color Analyser\n",
    "\n",
    "Output: single color channels (RGB) compared to the original image"
   ]
  },
  {
   "cell_type": "code",
   "execution_count": null,
   "id": "7743c1b2-e236-4700-87a0-93ba59675e0a",
   "metadata": {},
   "outputs": [],
   "source": [
    "pic=imageio.imread('../images/ID_0C6ABQ6L.JPG')\n",
    "\n",
    "print('Maximum RGB value in this image {}'.format(pic.max()))\n",
    "print('Minimum RGB value in this image {}'.format(pic.min())) \n",
    "print('Value of only R channel {}'.format(pic[:,:,0].max()))\n",
    "print('Value of only G channel {}'.format(pic[:,:,1].max()))\n",
    "print('Value of only B channel {}'.format(pic[:,:,2].max()))\n",
    "\n",
    "fig, axs = plt.subplots(1, 4, figsize=(20, 4), sharey=True)\n",
    "axs[0].imshow(pic)\n",
    "axs[1].imshow(pic[ : , : , 0])\n",
    "axs[2].imshow(pic[ : , : , 1])\n",
    "axs[3].imshow(pic[ : , : , 2])\n",
    "fig.suptitle('color channels (full, R, G, B)')\n",
    "plt.show()"
   ]
  },
  {
   "cell_type": "code",
   "execution_count": null,
   "id": "99e932c6-b76e-46a4-a78f-1270383e7713",
   "metadata": {},
   "outputs": [],
   "source": [
    "pic=imageio.imread('../images/ID_0BY2FNBS.JPG')\n",
    "\n",
    "print('Maximum RGB value in this image {}'.format(pic.max()))\n",
    "print('Minimum RGB value in this image {}'.format(pic.min())) \n",
    "print('Value of only R channel {}'.format(pic[:,:,0].max()))\n",
    "print('Value of only G channel {}'.format(pic[:,:,1].max()))\n",
    "print('Value of only B channel {}'.format(pic[:,:,2].max()))\n",
    "\n",
    "fig, axs = plt.subplots(1, 4, figsize=(20, 4), sharey=True)\n",
    "axs[0].imshow(pic)\n",
    "axs[1].imshow(pic[ : , : , 0])\n",
    "axs[2].imshow(pic[ : , : , 1])\n",
    "axs[3].imshow(pic[ : , : , 2])\n",
    "fig.suptitle('color channels (full, R,G,B)')\n",
    "plt.show()"
   ]
  },
  {
   "cell_type": "code",
   "execution_count": null,
   "id": "52597a43-cb25-47e8-ab3a-53b010d8d0f6",
   "metadata": {},
   "outputs": [],
   "source": [
    "pic=imageio.imread('../images/ID_0FEWYAAG.JPG')\n",
    "\n",
    "print('Maximum RGB value in this image {}'.format(pic.max()))\n",
    "print('Minimum RGB value in this image {}'.format(pic.min())) \n",
    "print('Value of only R channel {}'.format(pic[:,:,0].max()))\n",
    "print('Value of only G channel {}'.format(pic[:,:,1].max()))\n",
    "print('Value of only B channel {}'.format(pic[:,:,2].max()))\n",
    "\n",
    "fig, axs = plt.subplots(1, 4, figsize=(20, 4), sharey=True)\n",
    "axs[0].imshow(pic)\n",
    "axs[1].imshow(pic[ : , : , 0])\n",
    "axs[2].imshow(pic[ : , : , 1])\n",
    "axs[3].imshow(pic[ : , : , 2])\n",
    "fig.suptitle('color channels (full, R,G,B)')\n",
    "plt.show()"
   ]
  },
  {
   "cell_type": "code",
   "execution_count": null,
   "id": "951ae430-b4b1-4888-a00d-8044fbfa1731",
   "metadata": {},
   "outputs": [],
   "source": [
    "print(\"The type of image is {}\".format(type(pic)))\n",
    "print(\"Shape of the image: {}\".format(pic.shape)) "
   ]
  },
  {
   "cell_type": "markdown",
   "id": "9e63fc2c-cf8c-48a6-9d0a-aa0886f94d9b",
   "metadata": {},
   "source": [
    "## K-Means\n",
    "\n",
    "* Clustering using K-Means for singe image to fine tune hyperparameters.\n",
    "* Clustering of dataframe with image paths to transform whole dataset."
   ]
  },
  {
   "cell_type": "markdown",
   "id": "e3c593ed-a961-400e-a6bc-5b2c9a245679",
   "metadata": {},
   "source": [
    "### Single image to find best parameters of K-Means, blur and threshold"
   ]
  },
  {
   "cell_type": "code",
   "execution_count": null,
   "id": "b3924190-65b5-40fc-89e2-e4f40ec438e7",
   "metadata": {},
   "outputs": [],
   "source": [
    "picarray = np.asarray(pic)\n",
    "type(picarray)\n",
    "picarray.shape"
   ]
  },
  {
   "cell_type": "code",
   "execution_count": null,
   "id": "8417a949-0a8d-4b11-95e5-555a39732fc3",
   "metadata": {},
   "outputs": [],
   "source": [
    "# convert to 2d array\n",
    "pic2d = picarray.reshape((picarray.shape[0]*picarray.shape[1],picarray.shape[2]))"
   ]
  },
  {
   "cell_type": "code",
   "execution_count": null,
   "id": "27588021-0a7c-4da6-ad3b-2b7ea09c4b4d",
   "metadata": {},
   "outputs": [],
   "source": [
    "pic2d.shape"
   ]
  },
  {
   "cell_type": "code",
   "execution_count": null,
   "id": "9c0d5e3a-8e53-49b8-90e0-f3023d131c0a",
   "metadata": {},
   "outputs": [],
   "source": [
    "# K-Means\n",
    "kmeans_orig = KMeans(n_clusters=5, n_init= 5, \n",
    "               max_iter=50, random_state= 42).fit(pic2d)\n",
    "img_orig = np.reshape(np.array(kmeans_orig.labels_, dtype=np.uint8),(picarray.shape[0], picarray.shape[1]))"
   ]
  },
  {
   "cell_type": "code",
   "execution_count": null,
   "id": "9e205ac6-5e14-40d2-86a3-6f13d5284b36",
   "metadata": {},
   "outputs": [],
   "source": [
    "# Blur-Filter\n",
    "kerne_size = 10\n",
    "kernel = np.ones((kerne_size,kerne_size),np.float32)/(kerne_size**2)\n",
    "dst = cv2.filter2D(img_orig,-1,kernel)"
   ]
  },
  {
   "cell_type": "code",
   "execution_count": null,
   "id": "78ed7256-283a-427b-ab3a-52d7ce166e05",
   "metadata": {},
   "outputs": [],
   "source": [
    "# Binary output\n",
    "threshold = dst.mean()\n",
    "pred_mask = dst.copy()\n",
    "pred_mask[pred_mask <= threshold] = 0\n",
    "pred_mask[pred_mask > threshold] = 255"
   ]
  },
  {
   "cell_type": "code",
   "execution_count": null,
   "id": "8aae69d2-7dd6-466a-9145-8097cd85edc0",
   "metadata": {},
   "outputs": [],
   "source": [
    "dst.max()"
   ]
  },
  {
   "cell_type": "code",
   "execution_count": null,
   "id": "daf1c5c0-4da3-4678-a9a3-738f9af392ab",
   "metadata": {},
   "outputs": [],
   "source": [
    "imageio.imsave(images_path + 'clustered_images/' + 'ID_0FEWYAAG.JPG', pred_mask)"
   ]
  },
  {
   "cell_type": "code",
   "execution_count": null,
   "id": "2fa1a540-3f5e-490e-9d3a-44158420ef9a",
   "metadata": {
    "tags": []
   },
   "outputs": [],
   "source": [
    "fig, axs = plt.subplots(1, 4, figsize=(20, 4), sharey=True)\n",
    "axs[0].imshow(pic)\n",
    "axs[1].imshow(img_orig)\n",
    "axs[2].imshow(dst)\n",
    "axs[3].imshow(pred_mask)\n",
    "fig.suptitle('Clustering with binary output')\n",
    "plt.show()"
   ]
  },
  {
   "cell_type": "markdown",
   "id": "0458a0a9-45be-4048-9eb8-2a18e30f0c40",
   "metadata": {},
   "source": [
    "### Transform dataset"
   ]
  },
  {
   "cell_type": "code",
   "execution_count": null,
   "id": "31a7904d-ad09-4053-9ba6-cfa3b1a1392d",
   "metadata": {},
   "outputs": [],
   "source": [
    "# Dataframe to be transformed\n",
    "df = pd.read_csv('../data/test.csv')"
   ]
  },
  {
   "cell_type": "code",
   "execution_count": null,
   "id": "0a8095d6-49db-4e01-b57f-ee021cf603e0",
   "metadata": {
    "tags": []
   },
   "outputs": [],
   "source": [
    "# image ids as list with suffix .JPG\n",
    "df2 = df.copy()\n",
    "df2.image_id = df2.image_id.apply(lambda x: x.strip()+\".JPG\")\n",
    "images = list(df2['image_id'])"
   ]
  },
  {
   "cell_type": "code",
   "execution_count": null,
   "id": "cd6ed1a2-f398-4b5e-9b1e-dbc43209b8ee",
   "metadata": {},
   "outputs": [],
   "source": [
    "# Path to image folder with images to be transormed\n",
    "images_path = '../images/'"
   ]
  },
  {
   "cell_type": "code",
   "execution_count": null,
   "id": "ada3af4b-7192-4e2b-85b7-e365de167db0",
   "metadata": {},
   "outputs": [],
   "source": [
    "# Transformation of all the images in the dataframe\n",
    "for i, path in enumerate(images):\n",
    "    if i % 10 == 0:\n",
    "        print(i, 'images processed')\n",
    "    \n",
    "    # Read and reshape image\n",
    "    img = imageio.imread(images_path + path)\n",
    "    img_reshaped = img.reshape((img.shape[0]*img.shape[1],img.shape[2]))\n",
    "    \n",
    "    # K-Means-fit for this image\n",
    "    kmeans_orig = KMeans(n_clusters=5, n_init= 5, \n",
    "               max_iter=50, random_state= 42).fit(img_reshaped)\n",
    "    img_orig = np.reshape(np.array(kmeans_orig.labels_, dtype=np.uint8),(img.shape[0], img.shape[1]))\n",
    "    \n",
    "    # Blur filter\n",
    "    kerne_size = 8\n",
    "    kernel = np.ones((kerne_size,kerne_size),np.float32)/(kerne_size**2)\n",
    "    dst = cv2.filter2D(img_orig,-1,kernel)\n",
    "    \n",
    "    # threshold to transform images as black and white\n",
    "    threshold = dst.mean()\n",
    "    pred_mask = dst.copy()\n",
    "    pred_mask[pred_mask <= threshold] = 0\n",
    "    pred_mask[pred_mask > threshold] = 255\n",
    "    \n",
    "    # save clustered image\n",
    "    imageio.imsave(images_path + 'clust_test/' + path, pred_mask)"
   ]
  },
  {
   "cell_type": "code",
   "execution_count": null,
   "id": "1d90ac1a-cd8c-4c1c-8dd7-90b157172562",
   "metadata": {},
   "outputs": [],
   "source": []
  }
 ],
 "metadata": {
  "kernelspec": {
   "display_name": "Python 3 (ipykernel)",
   "language": "python",
   "name": "python3"
  },
  "language_info": {
   "codemirror_mode": {
    "name": "ipython",
    "version": 3
   },
   "file_extension": ".py",
   "mimetype": "text/x-python",
   "name": "python",
   "nbconvert_exporter": "python",
   "pygments_lexer": "ipython3",
   "version": "3.9.4"
  }
 },
 "nbformat": 4,
 "nbformat_minor": 5
}
