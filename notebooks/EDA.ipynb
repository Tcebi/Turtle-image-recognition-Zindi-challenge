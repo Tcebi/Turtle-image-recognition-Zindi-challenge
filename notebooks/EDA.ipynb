{
 "cells": [
  {
   "cell_type": "markdown",
   "id": "92815939-cbcb-4a36-8c54-726401ce4df5",
   "metadata": {},
   "source": [
    "## Schwierigkeiten bei den Fotos\n",
    "\n",
    "* Sand im Gesicht (z.B. ID_0FEWYAAG)\n",
    "* Unschärfe\n",
    "* Gras im Vordergrund\n",
    "* Unterschiedliche Farben der dunklen Bereiche (orange bis schwarz)\n",
    "* Belichtungen (besonders Überbelichtung und starke Unterbelichtung)\n",
    "* Verwackelte Schildkröten\n",
    "* Helle Fäden\n",
    "* Abbröckelnde Haut\n",
    "* Bein mit Maserung im Hintergrund\n",
    "* Datum im Bild\n",
    "* Schwach ausgebildetes Muster\n",
    "* Ganze Schildkröte im Bild (ID_0RNNI62X)\n",
    "* Kopf nimmt nur einen kleinen Teil des Bildes ein (ID_0TN13JTG)"
   ]
  },
  {
   "cell_type": "code",
   "execution_count": null,
   "id": "354e4a2a-94e4-4047-9d8d-14bb582521ef",
   "metadata": {},
   "outputs": [],
   "source": [
    "import pandas as pd\n",
    "import numpy as np\n",
    "import seaborn as sns\n",
    "import matplotlib.pyplot as plt"
   ]
  },
  {
   "cell_type": "code",
   "execution_count": null,
   "id": "1e769cba-3554-413c-a5d9-fce8053c6d64",
   "metadata": {},
   "outputs": [],
   "source": [
    "df_train = pd.read_csv('../data/train.csv')\n",
    "df_test = pd.read_csv('../data/test.csv')\n",
    "df_extra = pd.read_csv('../data/extra_images.csv')"
   ]
  },
  {
   "cell_type": "markdown",
   "id": "dae63faa-e081-4aa6-99cd-82fa88682a53",
   "metadata": {},
   "source": [
    "## Head"
   ]
  },
  {
   "cell_type": "code",
   "execution_count": null,
   "id": "f272a4ae-8826-4fc7-8162-9ee0ac673b4b",
   "metadata": {},
   "outputs": [],
   "source": [
    "df_train.head()"
   ]
  },
  {
   "cell_type": "code",
   "execution_count": null,
   "id": "1b715be5-3fb0-4a79-ba0a-198bb7ac1ff3",
   "metadata": {},
   "outputs": [],
   "source": [
    "df_test.head()"
   ]
  },
  {
   "cell_type": "code",
   "execution_count": null,
   "id": "eaccf488-248f-4f8f-b174-cfa53fb229c5",
   "metadata": {},
   "outputs": [],
   "source": [
    "df_extra.head()"
   ]
  },
  {
   "cell_type": "markdown",
   "id": "55cfa0f5-6ba5-4fd7-98b4-5f2941302c74",
   "metadata": {},
   "source": [
    "## Info"
   ]
  },
  {
   "cell_type": "code",
   "execution_count": null,
   "id": "596a3a6c-683b-4ccd-812a-fa406dc1a66b",
   "metadata": {},
   "outputs": [],
   "source": [
    "df_train.info()"
   ]
  },
  {
   "cell_type": "code",
   "execution_count": null,
   "id": "89e65e96-9ce3-407c-80e5-c10008e03f6c",
   "metadata": {},
   "outputs": [],
   "source": [
    "df_test.info()"
   ]
  },
  {
   "cell_type": "code",
   "execution_count": null,
   "id": "211303cc-4977-44f0-9db4-939d7fbe8f30",
   "metadata": {},
   "outputs": [],
   "source": [
    "df_extra.info()"
   ]
  },
  {
   "cell_type": "markdown",
   "id": "75620abd-a5b9-4523-9faf-d647b5c1abb9",
   "metadata": {},
   "source": [
    "## Image location"
   ]
  },
  {
   "cell_type": "code",
   "execution_count": null,
   "id": "a0523ef8-e0dd-426d-a73d-51c902be609c",
   "metadata": {},
   "outputs": [],
   "source": [
    "# Convert image_location strings to lowercase.\n",
    "for df in [df_train, df_test]:\n",
    "  df.image_location = df.image_location.apply(lambda x: x.lower())"
   ]
  },
  {
   "cell_type": "code",
   "execution_count": null,
   "id": "2b44bcd5-5896-4126-8ba3-d1bf31612987",
   "metadata": {},
   "outputs": [],
   "source": [
    "df_train['image_location'].value_counts()"
   ]
  },
  {
   "cell_type": "code",
   "execution_count": null,
   "id": "7ca70627-0991-4f35-a475-b9e26a9723a2",
   "metadata": {},
   "outputs": [],
   "source": [
    "df_test['image_location'].value_counts()"
   ]
  },
  {
   "cell_type": "markdown",
   "id": "e0af62e0-e06e-4d84-ad65-886b670b5b11",
   "metadata": {},
   "source": [
    "---\n",
    "\n",
    "Ausrichtung der Bilder im Trainings- und Testset ist relativ ausgeglichen!\n",
    "\n",
    "---\n"
   ]
  },
  {
   "cell_type": "markdown",
   "id": "37416eb2-1974-41a2-963d-0ab95487b2c5",
   "metadata": {},
   "source": [
    "## Unique turtles"
   ]
  },
  {
   "cell_type": "code",
   "execution_count": null,
   "id": "771b1121-490e-429d-843b-44b6b889c456",
   "metadata": {},
   "outputs": [],
   "source": [
    "df_train['turtle_id'].nunique()"
   ]
  },
  {
   "cell_type": "code",
   "execution_count": null,
   "id": "a30b571d-2471-4bba-849f-e5e866fc23d5",
   "metadata": {},
   "outputs": [],
   "source": [
    "df_extra['turtle_id'].nunique()"
   ]
  },
  {
   "cell_type": "code",
   "execution_count": null,
   "id": "c9b2fa93-56d9-4aa9-ba93-a7753bb088e8",
   "metadata": {},
   "outputs": [],
   "source": [
    "df_full = pd.concat([df_train, df_extra], axis=0, ignore_index=True)"
   ]
  },
  {
   "cell_type": "code",
   "execution_count": null,
   "id": "262b6bc8-1878-4ec5-a7a4-75208f468cc6",
   "metadata": {},
   "outputs": [],
   "source": [
    "df_full.info()"
   ]
  },
  {
   "cell_type": "code",
   "execution_count": null,
   "id": "0ef7c7a3-f80c-47fb-a3c6-3976fd9616ef",
   "metadata": {},
   "outputs": [],
   "source": [
    "df_full"
   ]
  },
  {
   "cell_type": "code",
   "execution_count": null,
   "id": "32591290-c095-4c24-83ae-7554026ade67",
   "metadata": {},
   "outputs": [],
   "source": [
    "df_full['turtle_id'].nunique()"
   ]
  },
  {
   "cell_type": "code",
   "execution_count": null,
   "id": "68a66f8e-18a8-4da4-81d5-35ed7f69990c",
   "metadata": {},
   "outputs": [],
   "source": [
    "more_turtles = df_full['turtle_id'].nunique() - df_train['turtle_id'].nunique()\n",
    "more_turtles"
   ]
  },
  {
   "cell_type": "markdown",
   "id": "5ed5cfe1-1845-4126-8f90-8ed823c3ad27",
   "metadata": {},
   "source": [
    "---\n",
    "\n",
    "Es gibt 100 Turtles im Trainingsset. Im Extra-Images-Set kommen weitere 2165 Turtles dazu! Insgesamt gibt es 2265 verschiedene Turtles.\n",
    "\n",
    "---"
   ]
  },
  {
   "cell_type": "code",
   "execution_count": null,
   "id": "3cd0732c-fee0-438d-8dda-9c2e9e2eefbd",
   "metadata": {},
   "outputs": [],
   "source": [
    "full_images_per_turtle = pd.value_counts(df_full['turtle_id'])\n",
    "print('The number of training images in train- and extra-set per turtle is: \\n'\n",
    "      f'Mean is {round(np.mean(full_images_per_turtle), 2)}, \\n'\n",
    "      f'Median is {int(np.median(full_images_per_turtle))}.\\n'\n",
    "      f'Maximum is {int(np.max(full_images_per_turtle))}.\\n'\n",
    "      f'Minimum is {int(np.min(full_images_per_turtle))}.')\n",
    "sns.histplot(full_images_per_turtle)\n",
    "plt.xlabel('Images per train turtle in train- and extra-set')\n",
    "plt.show()"
   ]
  },
  {
   "cell_type": "code",
   "execution_count": null,
   "id": "76576fa4-2a42-4f21-8603-7064468c9e96",
   "metadata": {},
   "outputs": [],
   "source": [
    "train_images_per_turtle = pd.value_counts(df_train['turtle_id'])\n",
    "print('The number of training images in train-set per turtle is: \\n'\n",
    "      f'Mean is {round(np.mean(train_images_per_turtle), 2)}. \\n'\n",
    "      f'Median is {int(np.median(train_images_per_turtle))}.\\n'\n",
    "      f'Maximum is {int(np.max(train_images_per_turtle))}.\\n'\n",
    "      f'Minimum is {int(np.min(train_images_per_turtle))}.')\n",
    "sns.histplot(train_images_per_turtle)\n",
    "plt.xlabel('Images per train turtle in train-set')\n",
    "plt.show()"
   ]
  },
  {
   "cell_type": "code",
   "execution_count": null,
   "id": "d4436be1-7659-41a6-9d75-f47461b9b81a",
   "metadata": {},
   "outputs": [],
   "source": [
    "extra_images_per_turtle = pd.value_counts(df_extra['turtle_id'])\n",
    "print('The number of training images in extra-set per turtle is: \\n'\n",
    "      f'Mean is {round(np.mean(extra_images_per_turtle), 2)}. \\n'\n",
    "      f'Median is {int(np.median(extra_images_per_turtle))}.\\n'\n",
    "      f'Maximum is {int(np.max(extra_images_per_turtle))}.\\n'\n",
    "      f'Minimum is {int(np.min(extra_images_per_turtle))}.')\n",
    "sns.histplot(extra_images_per_turtle)\n",
    "plt.xlabel('Images per train turtle in extra-set')\n",
    "plt.show()"
   ]
  },
  {
   "cell_type": "code",
   "execution_count": null,
   "id": "c05e0225-1a61-464a-9d22-1578d4c4fd4d",
   "metadata": {},
   "outputs": [],
   "source": []
  }
 ],
 "metadata": {
  "kernelspec": {
   "display_name": "Python 3 (ipykernel)",
   "language": "python",
   "name": "python3"
  },
  "language_info": {
   "codemirror_mode": {
    "name": "ipython",
    "version": 3
   },
   "file_extension": ".py",
   "mimetype": "text/x-python",
   "name": "python",
   "nbconvert_exporter": "python",
   "pygments_lexer": "ipython3",
   "version": "3.9.4"
  }
 },
 "nbformat": 4,
 "nbformat_minor": 5
}
