{
 "cells": [
  {
   "cell_type": "markdown",
   "id": "9da6cccd-65cd-4995-acf0-3ba9ca71b031",
   "metadata": {},
   "source": [
    "# Canny Edge Detection"
   ]
  },
  {
   "cell_type": "code",
   "execution_count": null,
   "id": "575464ca-c8b5-4dda-9a88-b89b0e2ad017",
   "metadata": {},
   "outputs": [],
   "source": [
    "#Imports\n",
    "import cv2 as cv2\n",
    "import pandas as pd\n",
    "import numpy as np\n",
    "#from PIL import Image\n",
    "import matplotlib.pyplot as plt\n",
    "import os\n",
    "%matplotlib inline"
   ]
  },
  {
   "cell_type": "markdown",
   "id": "fd7bdcbd-d0cb-43fa-b3cd-10b2205fb5b7",
   "metadata": {},
   "source": [
    "## Filter one image"
   ]
  },
  {
   "cell_type": "code",
   "execution_count": null,
   "id": "e30a9641-794f-44d6-8e20-98a7335813c6",
   "metadata": {},
   "outputs": [],
   "source": [
    "# Load one image\n",
    "img = cv2.imread('../images/ID_0PMOARSL.jpg', 1) # ID_0BY2FNBS, ID_0C6ABQ6L, ID_0FEWYAAG, ID_0PMOARSL\n",
    "\n",
    "# Blur filter to reduce impact of sand\n",
    "kerne_size = 10\n",
    "kernel = np.ones((kerne_size,kerne_size),np.float32)/(kerne_size**2)\n",
    "img = cv2.filter2D(img,-1,kernel)\n",
    "\n",
    "# Canny filter for edge detection\n",
    "edges = cv2.Canny(img,50,50, apertureSize = 3)\n",
    "\n",
    "# Plot original image and filtered image to check quality of the filter parameters\n",
    "plt.figure(figsize=(20,20))\n",
    "plt.subplot(121),plt.imshow(img,cmap = 'gray')\n",
    "plt.title('Original Image'), plt.xticks([]), plt.yticks([])\n",
    "plt.subplot(122),plt.imshow(edges,cmap = 'gray')\n",
    "plt.title('Edge Image'), plt.xticks([]), plt.yticks([])\n",
    "plt.show()"
   ]
  },
  {
   "cell_type": "markdown",
   "id": "c50074cc-7edf-4b21-953f-11f9585732e2",
   "metadata": {},
   "source": [
    "## Filter all images in a dataframe"
   ]
  },
  {
   "cell_type": "code",
   "execution_count": null,
   "id": "f12599a1-513c-4d19-8605-72b054f192d6",
   "metadata": {},
   "outputs": [],
   "source": [
    "# Dataframe to be transformed\n",
    "df = pd.read_csv('../data/train.csv')\n",
    "\n",
    "# image ids as list with suffix .JPG\n",
    "df2 = df.copy()\n",
    "df2.image_id = df2.image_id.apply(lambda x: x.strip()+\".JPG\")\n",
    "images = list(df2['image_id'])\n",
    "\n",
    "# Path to image folder with images to be transormed\n",
    "images_path = '../images/'\n",
    "\n",
    "# Transformation of all the images in the dataframe\n",
    "for i, path in enumerate(images):\n",
    "    # Print how many images were processed\n",
    "    if i % 10 == 0:\n",
    "        print(i, 'images processed')\n",
    "    \n",
    "    # Read and reshape image\n",
    "    img = cv2.imread(images_path + path)\n",
    "    \n",
    "    # Blur filter\n",
    "    kerne_size = 10\n",
    "    kernel = np.ones((kerne_size,kerne_size),np.float32)/(kerne_size**2)\n",
    "    dst = cv2.filter2D(img,-1,kernel)\n",
    "    \n",
    "    # Canny Filter for edge detection\n",
    "    edges = cv2.Canny(dst,40,40, apertureSize = 3)\n",
    "    \n",
    "    # save clustered image\n",
    "    cv2.imwrite(images_path + 'canny_train/' + path, edges)"
   ]
  }
 ],
 "metadata": {
  "kernelspec": {
   "display_name": "Python 3 (ipykernel)",
   "language": "python",
   "name": "python3"
  },
  "language_info": {
   "codemirror_mode": {
    "name": "ipython",
    "version": 3
   },
   "file_extension": ".py",
   "mimetype": "text/x-python",
   "name": "python",
   "nbconvert_exporter": "python",
   "pygments_lexer": "ipython3",
   "version": "3.9.4"
  }
 },
 "nbformat": 4,
 "nbformat_minor": 5
}
