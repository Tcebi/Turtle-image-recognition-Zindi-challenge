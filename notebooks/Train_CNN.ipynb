{
 "cells": [
  {
   "cell_type": "code",
   "execution_count": 53,
   "id": "7610afd1-ff7b-40ae-9696-15768d1370ab",
   "metadata": {},
   "outputs": [],
   "source": [
    "#load the modules\n",
    "import keras\n",
    "from keras import models, layers\n",
    "from keras.activations import relu, softmax\n",
    "from tensorflow.keras.applications import VGG19\n",
    "from keras.models import Sequential, load_model, Model\n",
    "from tensorflow.keras.optimizers import Adam, SGD\n",
    "from keras.callbacks import ModelCheckpoint, Callback, EarlyStopping\n",
    "from keras.preprocessing.image import ImageDataGenerator\n",
    "from keras.layers import Activation, Dropout, Dense, Flatten\n",
    "import tensorflow as tf\n",
    "import matplotlib.pyplot as plt\n",
    "import sys\n",
    "import pandas as pd\n",
    "import numpy as np\n",
    "from PIL import Image\n",
    "from tensorflow.keras.metrics import TopKCategoricalAccuracy\n",
    "sys.modules['Image'] = Image"
   ]
  },
  {
   "cell_type": "code",
   "execution_count": 32,
   "id": "d6351521-e0a1-487f-8ddb-62c418f9985e",
   "metadata": {},
   "outputs": [
    {
     "name": "stdout",
     "output_type": "stream",
     "text": [
      "Found 1835 images belonging to 100 classes.\n"
     ]
    }
   ],
   "source": [
    "# Keras' data generator can be used to pass the images through the convolutional neural network and apply\n",
    "#rotation and zoom transformations to the images. Check https://keras.io/preprocessing/image/ for more transformations\n",
    "\n",
    "train_data = ImageDataGenerator(\n",
    "        rotation_range=40,\n",
    "        zoom_range=0.2,\n",
    "        rescale = 1./255)\n",
    "\n",
    "train_generator = train_data.flow_from_directory(\n",
    "        directory=r\"../sorted_images/train\",\n",
    "        target_size=(224, 224),\n",
    "        batch_size=5,\n",
    "        shuffle=True)"
   ]
  },
  {
   "cell_type": "code",
   "execution_count": 31,
   "id": "39f6f3f9-7208-417b-89ee-9b941d07c3ff",
   "metadata": {},
   "outputs": [
    {
     "name": "stdout",
     "output_type": "stream",
     "text": [
      "Found 303 images belonging to 100 classes.\n"
     ]
    }
   ],
   "source": [
    "#defining the validation data generator\n",
    "val_data = ImageDataGenerator(rescale = 1./255)\n",
    "                                 \n",
    "val_generator = val_data.flow_from_directory(\n",
    "        directory=r\"../sorted_images/val\",\n",
    "        target_size=(224, 224),\n",
    "        batch_size=5,\n",
    "        shuffle=True)"
   ]
  },
  {
   "cell_type": "markdown",
   "id": "7eb518d3-c0f0-497e-835b-aefc44a0426e",
   "metadata": {},
   "source": [
    "## Convolutional neural network"
   ]
  },
  {
   "cell_type": "code",
   "execution_count": 19,
   "id": "0264bb18-041e-4672-be30-1734b248bdf3",
   "metadata": {},
   "outputs": [],
   "source": [
    "#load the pre-trained VGG19 from keras\n",
    "vgg19 = VGG19(input_shape=(224,224,3), weights='imagenet', include_top=False)\n",
    "x = vgg19.layers[-1].output\n",
    "#add dropout and the fully connected layer\n",
    "x = Dropout(0.5)(x)\n",
    "x = Flatten()(x)\n",
    "x = Dense(256, activation='relu')(x)\n",
    "#add a dense layer with a value equal to the number of classes\n",
    "predictors = Dense(100, activation='softmax')(x)\n",
    "# Create the model\n",
    "vgg19model = Model(vgg19.input, predictors)"
   ]
  },
  {
   "cell_type": "code",
   "execution_count": 20,
   "id": "fb3ea324-fdf3-47a3-b1ad-997e00fe70ad",
   "metadata": {},
   "outputs": [
    {
     "name": "stdout",
     "output_type": "stream",
     "text": [
      "Model: \"model_1\"\n",
      "_________________________________________________________________\n",
      " Layer (type)                Output Shape              Param #   \n",
      "=================================================================\n",
      " input_5 (InputLayer)        [(None, 224, 224, 3)]     0         \n",
      "                                                                 \n",
      " block1_conv1 (Conv2D)       (None, 224, 224, 64)      1792      \n",
      "                                                                 \n",
      " block1_conv2 (Conv2D)       (None, 224, 224, 64)      36928     \n",
      "                                                                 \n",
      " block1_pool (MaxPooling2D)  (None, 112, 112, 64)      0         \n",
      "                                                                 \n",
      " block2_conv1 (Conv2D)       (None, 112, 112, 128)     73856     \n",
      "                                                                 \n",
      " block2_conv2 (Conv2D)       (None, 112, 112, 128)     147584    \n",
      "                                                                 \n",
      " block2_pool (MaxPooling2D)  (None, 56, 56, 128)       0         \n",
      "                                                                 \n",
      " block3_conv1 (Conv2D)       (None, 56, 56, 256)       295168    \n",
      "                                                                 \n",
      " block3_conv2 (Conv2D)       (None, 56, 56, 256)       590080    \n",
      "                                                                 \n",
      " block3_conv3 (Conv2D)       (None, 56, 56, 256)       590080    \n",
      "                                                                 \n",
      " block3_conv4 (Conv2D)       (None, 56, 56, 256)       590080    \n",
      "                                                                 \n",
      " block3_pool (MaxPooling2D)  (None, 28, 28, 256)       0         \n",
      "                                                                 \n",
      " block4_conv1 (Conv2D)       (None, 28, 28, 512)       1180160   \n",
      "                                                                 \n",
      " block4_conv2 (Conv2D)       (None, 28, 28, 512)       2359808   \n",
      "                                                                 \n",
      " block4_conv3 (Conv2D)       (None, 28, 28, 512)       2359808   \n",
      "                                                                 \n",
      " block4_conv4 (Conv2D)       (None, 28, 28, 512)       2359808   \n",
      "                                                                 \n",
      " block4_pool (MaxPooling2D)  (None, 14, 14, 512)       0         \n",
      "                                                                 \n",
      " block5_conv1 (Conv2D)       (None, 14, 14, 512)       2359808   \n",
      "                                                                 \n",
      " block5_conv2 (Conv2D)       (None, 14, 14, 512)       2359808   \n",
      "                                                                 \n",
      " block5_conv3 (Conv2D)       (None, 14, 14, 512)       2359808   \n",
      "                                                                 \n",
      " block5_conv4 (Conv2D)       (None, 14, 14, 512)       2359808   \n",
      "                                                                 \n",
      " block5_pool (MaxPooling2D)  (None, 7, 7, 512)         0         \n",
      "                                                                 \n",
      " dropout_4 (Dropout)         (None, 7, 7, 512)         0         \n",
      "                                                                 \n",
      " flatten_4 (Flatten)         (None, 25088)             0         \n",
      "                                                                 \n",
      " dense_8 (Dense)             (None, 256)               6422784   \n",
      "                                                                 \n",
      " dense_9 (Dense)             (None, 100)               25700     \n",
      "                                                                 \n",
      "=================================================================\n",
      "Total params: 26,472,868\n",
      "Trainable params: 26,472,868\n",
      "Non-trainable params: 0\n",
      "_________________________________________________________________\n"
     ]
    }
   ],
   "source": [
    "#check the model\n",
    "vgg19model.summary()"
   ]
  },
  {
   "cell_type": "code",
   "execution_count": 21,
   "id": "c652874f-c66e-4a3b-b673-0778e7985d5f",
   "metadata": {},
   "outputs": [],
   "source": [
    "# define where to save the model after each epoch\n",
    "filepath = \"../models/Saved_model.h5\"\n",
    "# add a critera to save only if there was an improvement in the model comparing\n",
    "# to the previous epoch (in this caset the model is saved if there was a decrease in the loss value)\n",
    "checkpoint = ModelCheckpoint(filepath, monitor='val_loss', verbose=1, save_best_only=True, mode='min')\n",
    "# stop training if there is no improvement in model for 3 consecutives epochs.\n",
    "early_stopping_monitor = EarlyStopping(patience=3)\n",
    "callbacks_list = [checkpoint, early_stopping_monitor]"
   ]
  },
  {
   "cell_type": "code",
   "execution_count": 29,
   "id": "49174dd4-0105-46e8-9464-6d3dcc38cc02",
   "metadata": {},
   "outputs": [],
   "source": [
    "# Compile the model\n",
    "vgg19model.compile(loss='categorical_crossentropy',\n",
    "              optimizer=Adam(lr=1e-5),#define the optimizer and the learning rate\n",
    "              metrics=tf.keras.metrics.TopKCategoricalAccuracy(k=5))"
   ]
  },
  {
   "cell_type": "code",
   "execution_count": 34,
   "id": "ac1696c5-4663-496b-b2b8-37c28773dba1",
   "metadata": {},
   "outputs": [
    {
     "name": "stderr",
     "output_type": "stream",
     "text": [
      "/var/folders/jl/yr_857sx3mz_26fn6qdhy_w40000gn/T/ipykernel_2421/2782455145.py:3: UserWarning: `Model.fit_generator` is deprecated and will be removed in a future version. Please use `Model.fit`, which supports generators.\n",
      "  model_history=vgg19model.fit_generator(\n"
     ]
    },
    {
     "name": "stdout",
     "output_type": "stream",
     "text": [
      "Epoch 1/30\n",
      "367/367 [==============================] - ETA: 0s - loss: 4.4675 - top_k_categorical_accuracy: 0.1553\n",
      "Epoch 00001: val_loss improved from inf to 4.75889, saving model to ../models/Saved_model.h5\n",
      "367/367 [==============================] - 178s 485ms/step - loss: 4.4675 - top_k_categorical_accuracy: 0.1553 - val_loss: 4.7589 - val_top_k_categorical_accuracy: 0.0567\n",
      "Epoch 2/30\n",
      "367/367 [==============================] - ETA: 0s - loss: 4.4437 - top_k_categorical_accuracy: 0.1651\n",
      "Epoch 00002: val_loss improved from 4.75889 to 4.72892, saving model to ../models/Saved_model.h5\n",
      "367/367 [==============================] - 192s 523ms/step - loss: 4.4437 - top_k_categorical_accuracy: 0.1651 - val_loss: 4.7289 - val_top_k_categorical_accuracy: 0.0733\n",
      "Epoch 3/30\n",
      "367/367 [==============================] - ETA: 0s - loss: 4.3780 - top_k_categorical_accuracy: 0.1842\n",
      "Epoch 00003: val_loss improved from 4.72892 to 4.66581, saving model to ../models/Saved_model.h5\n",
      "367/367 [==============================] - 198s 540ms/step - loss: 4.3780 - top_k_categorical_accuracy: 0.1842 - val_loss: 4.6658 - val_top_k_categorical_accuracy: 0.0733\n",
      "Epoch 4/30\n",
      "367/367 [==============================] - ETA: 0s - loss: 4.2906 - top_k_categorical_accuracy: 0.1967\n",
      "Epoch 00004: val_loss did not improve from 4.66581\n",
      "367/367 [==============================] - 200s 546ms/step - loss: 4.2906 - top_k_categorical_accuracy: 0.1967 - val_loss: 4.6945 - val_top_k_categorical_accuracy: 0.0800\n",
      "Epoch 5/30\n",
      "367/367 [==============================] - ETA: 0s - loss: 4.1610 - top_k_categorical_accuracy: 0.2490\n",
      "Epoch 00005: val_loss improved from 4.66581 to 4.60854, saving model to ../models/Saved_model.h5\n",
      "367/367 [==============================] - 204s 556ms/step - loss: 4.1610 - top_k_categorical_accuracy: 0.2490 - val_loss: 4.6085 - val_top_k_categorical_accuracy: 0.0833\n",
      "Epoch 6/30\n",
      "367/367 [==============================] - ETA: 0s - loss: 4.0186 - top_k_categorical_accuracy: 0.2910\n",
      "Epoch 00006: val_loss improved from 4.60854 to 4.49030, saving model to ../models/Saved_model.h5\n",
      "367/367 [==============================] - 217s 591ms/step - loss: 4.0186 - top_k_categorical_accuracy: 0.2910 - val_loss: 4.4903 - val_top_k_categorical_accuracy: 0.1200\n",
      "Epoch 7/30\n",
      "367/367 [==============================] - ETA: 0s - loss: 3.8724 - top_k_categorical_accuracy: 0.3324\n",
      "Epoch 00007: val_loss improved from 4.49030 to 4.39658, saving model to ../models/Saved_model.h5\n",
      "367/367 [==============================] - 220s 598ms/step - loss: 3.8724 - top_k_categorical_accuracy: 0.3324 - val_loss: 4.3966 - val_top_k_categorical_accuracy: 0.1600\n",
      "Epoch 8/30\n",
      "367/367 [==============================] - ETA: 0s - loss: 3.6644 - top_k_categorical_accuracy: 0.3853\n",
      "Epoch 00008: val_loss did not improve from 4.39658\n",
      "367/367 [==============================] - 270s 735ms/step - loss: 3.6644 - top_k_categorical_accuracy: 0.3853 - val_loss: 4.3999 - val_top_k_categorical_accuracy: 0.2133\n",
      "Epoch 9/30\n",
      "367/367 [==============================] - ETA: 0s - loss: 3.4150 - top_k_categorical_accuracy: 0.4523\n",
      "Epoch 00009: val_loss improved from 4.39658 to 4.36917, saving model to ../models/Saved_model.h5\n",
      "367/367 [==============================] - 266s 725ms/step - loss: 3.4150 - top_k_categorical_accuracy: 0.4523 - val_loss: 4.3692 - val_top_k_categorical_accuracy: 0.2200\n",
      "Epoch 10/30\n",
      "367/367 [==============================] - ETA: 0s - loss: 3.1615 - top_k_categorical_accuracy: 0.5106\n",
      "Epoch 00010: val_loss improved from 4.36917 to 4.25841, saving model to ../models/Saved_model.h5\n",
      "367/367 [==============================] - 263s 717ms/step - loss: 3.1615 - top_k_categorical_accuracy: 0.5106 - val_loss: 4.2584 - val_top_k_categorical_accuracy: 0.2400\n",
      "Epoch 11/30\n",
      "367/367 [==============================] - ETA: 0s - loss: 2.9500 - top_k_categorical_accuracy: 0.5749\n",
      "Epoch 00011: val_loss did not improve from 4.25841\n",
      "367/367 [==============================] - 269s 732ms/step - loss: 2.9500 - top_k_categorical_accuracy: 0.5749 - val_loss: 4.3722 - val_top_k_categorical_accuracy: 0.2500\n",
      "Epoch 12/30\n",
      "367/367 [==============================] - ETA: 0s - loss: 2.6969 - top_k_categorical_accuracy: 0.6256\n",
      "Epoch 00012: val_loss improved from 4.25841 to 4.11389, saving model to ../models/Saved_model.h5\n",
      "367/367 [==============================] - 273s 743ms/step - loss: 2.6969 - top_k_categorical_accuracy: 0.6256 - val_loss: 4.1139 - val_top_k_categorical_accuracy: 0.2900\n",
      "Epoch 13/30\n",
      "367/367 [==============================] - ETA: 0s - loss: 2.4680 - top_k_categorical_accuracy: 0.6779\n",
      "Epoch 00013: val_loss improved from 4.11389 to 4.06994, saving model to ../models/Saved_model.h5\n",
      "367/367 [==============================] - 277s 754ms/step - loss: 2.4680 - top_k_categorical_accuracy: 0.6779 - val_loss: 4.0699 - val_top_k_categorical_accuracy: 0.3000\n",
      "Epoch 14/30\n",
      "367/367 [==============================] - ETA: 0s - loss: 2.2311 - top_k_categorical_accuracy: 0.7041\n",
      "Epoch 00014: val_loss did not improve from 4.06994\n",
      "367/367 [==============================] - 289s 788ms/step - loss: 2.2311 - top_k_categorical_accuracy: 0.7041 - val_loss: 4.1072 - val_top_k_categorical_accuracy: 0.3467\n",
      "Epoch 15/30\n",
      "367/367 [==============================] - ETA: 0s - loss: 1.9893 - top_k_categorical_accuracy: 0.7580\n",
      "Epoch 00015: val_loss did not improve from 4.06994\n",
      "367/367 [==============================] - 280s 762ms/step - loss: 1.9893 - top_k_categorical_accuracy: 0.7580 - val_loss: 4.3034 - val_top_k_categorical_accuracy: 0.3467\n",
      "Epoch 16/30\n",
      "367/367 [==============================] - ETA: 0s - loss: 1.7397 - top_k_categorical_accuracy: 0.8104\n",
      "Epoch 00016: val_loss did not improve from 4.06994\n",
      "367/367 [==============================] - 274s 746ms/step - loss: 1.7397 - top_k_categorical_accuracy: 0.8104 - val_loss: 4.4837 - val_top_k_categorical_accuracy: 0.3800\n"
     ]
    }
   ],
   "source": [
    "#train the model\n",
    "batch_size=5\n",
    "model_history=vgg19model.fit_generator(\n",
    "        train_generator,\n",
    "        steps_per_epoch=1835//batch_size,#number of pictures in training data set divided by the batch size\n",
    "        epochs=30,\n",
    "        validation_data=val_generator,\n",
    "        validation_steps= 300// batch_size,#number of pictures in validation data set divided by the batch size\n",
    "        callbacks=callbacks_list)"
   ]
  },
  {
   "cell_type": "code",
   "execution_count": null,
   "id": "ae9ee5c4-10b4-459e-8265-a54ff756b8c1",
   "metadata": {},
   "outputs": [],
   "source": []
  },
  {
   "cell_type": "code",
   "execution_count": 36,
   "id": "53dedafa-588d-4194-b009-ff1630d548f6",
   "metadata": {},
   "outputs": [
    {
     "name": "stderr",
     "output_type": "stream",
     "text": [
      "/Users/tobiasengbring/neuefische/Capstone_Project_Turtle_Recall/.venv/lib/python3.9/site-packages/keras/optimizer_v2/gradient_descent.py:102: UserWarning: The `lr` argument is deprecated, use `learning_rate` instead.\n",
      "  super(SGD, self).__init__(name, **kwargs)\n",
      "/var/folders/jl/yr_857sx3mz_26fn6qdhy_w40000gn/T/ipykernel_2421/830658345.py:10: UserWarning: `Model.fit_generator` is deprecated and will be removed in a future version. Please use `Model.fit`, which supports generators.\n",
      "  model_history_2=model.fit_generator(\n"
     ]
    },
    {
     "name": "stdout",
     "output_type": "stream",
     "text": [
      "Epoch 1/30\n",
      "367/367 [==============================] - ETA: 0s - loss: 2.6699 - top_k_categorical_accuracy: 0.6300\n",
      "Epoch 00001: val_loss improved from 4.06994 to 4.05205, saving model to ../models/Saved_model.h5\n",
      "367/367 [==============================] - 201s 546ms/step - loss: 2.6699 - top_k_categorical_accuracy: 0.6300 - val_loss: 4.0521 - val_top_k_categorical_accuracy: 0.3167\n",
      "Epoch 2/30\n",
      "367/367 [==============================] - ETA: 0s - loss: 2.5552 - top_k_categorical_accuracy: 0.6561\n",
      "Epoch 00002: val_loss improved from 4.05205 to 4.03636, saving model to ../models/Saved_model.h5\n",
      "367/367 [==============================] - 233s 634ms/step - loss: 2.5552 - top_k_categorical_accuracy: 0.6561 - val_loss: 4.0364 - val_top_k_categorical_accuracy: 0.3367\n",
      "Epoch 3/30\n",
      "367/367 [==============================] - ETA: 0s - loss: 2.5329 - top_k_categorical_accuracy: 0.6550\n",
      "Epoch 00003: val_loss did not improve from 4.03636\n",
      "367/367 [==============================] - 231s 629ms/step - loss: 2.5329 - top_k_categorical_accuracy: 0.6550 - val_loss: 4.0468 - val_top_k_categorical_accuracy: 0.3333\n",
      "Epoch 4/30\n",
      "367/367 [==============================] - ETA: 0s - loss: 2.4394 - top_k_categorical_accuracy: 0.6785\n",
      "Epoch 00004: val_loss improved from 4.03636 to 4.03291, saving model to ../models/Saved_model.h5\n",
      "367/367 [==============================] - 236s 642ms/step - loss: 2.4394 - top_k_categorical_accuracy: 0.6785 - val_loss: 4.0329 - val_top_k_categorical_accuracy: 0.3333\n",
      "Epoch 5/30\n",
      "367/367 [==============================] - ETA: 0s - loss: 2.4219 - top_k_categorical_accuracy: 0.6796\n",
      "Epoch 00005: val_loss did not improve from 4.03291\n",
      "367/367 [==============================] - 240s 653ms/step - loss: 2.4219 - top_k_categorical_accuracy: 0.6796 - val_loss: 4.0600 - val_top_k_categorical_accuracy: 0.3267\n",
      "Epoch 6/30\n",
      "367/367 [==============================] - ETA: 0s - loss: 2.4322 - top_k_categorical_accuracy: 0.6845\n",
      "Epoch 00006: val_loss did not improve from 4.03291\n",
      "367/367 [==============================] - 239s 649ms/step - loss: 2.4322 - top_k_categorical_accuracy: 0.6845 - val_loss: 4.0595 - val_top_k_categorical_accuracy: 0.3233\n",
      "Epoch 7/30\n",
      "367/367 [==============================] - ETA: 0s - loss: 2.4355 - top_k_categorical_accuracy: 0.6817\n",
      "Epoch 00007: val_loss did not improve from 4.03291\n",
      "367/367 [==============================] - 237s 645ms/step - loss: 2.4355 - top_k_categorical_accuracy: 0.6817 - val_loss: 4.0599 - val_top_k_categorical_accuracy: 0.3167\n"
     ]
    }
   ],
   "source": [
    "#load the model\n",
    "model=load_model(\"../models/Saved_model.h5\")\n",
    "\n",
    "# Compile the model\n",
    "model.compile(loss='categorical_crossentropy',\n",
    "             optimizer=SGD(lr=1e-6),\n",
    "             metrics=tf.keras.metrics.TopKCategoricalAccuracy(k=5))\n",
    "#train the model\n",
    "batch_size=5\n",
    "model_history_2=model.fit_generator(\n",
    "        train_generator,\n",
    "        steps_per_epoch=1835//batch_size,\n",
    "        epochs=30,\n",
    "        validation_data=val_generator,\n",
    "        validation_steps= 300// batch_size,\n",
    "        callbacks=callbacks_list)"
   ]
  },
  {
   "cell_type": "code",
   "execution_count": 37,
   "id": "cb3b38eb-00c2-4aab-b629-1a3e668fe676",
   "metadata": {},
   "outputs": [
    {
     "ename": "KeyError",
     "evalue": "<keras.metrics.TopKCategoricalAccuracy object at 0x2bb616220>",
     "output_type": "error",
     "traceback": [
      "\u001b[0;31m---------------------------------------------------------------------------\u001b[0m",
      "\u001b[0;31mKeyError\u001b[0m                                  Traceback (most recent call last)",
      "Input \u001b[0;32mIn [39]\u001b[0m, in \u001b[0;36m<module>\u001b[0;34m\u001b[0m\n\u001b[1;32m     16\u001b[0m \u001b[38;5;66;03m#plot accuracy\u001b[39;00m\n\u001b[1;32m     17\u001b[0m fig\u001b[38;5;241m.\u001b[39madd_subplot(rows, columns, \u001b[38;5;241m2\u001b[39m)\n\u001b[0;32m---> 18\u001b[0m plt\u001b[38;5;241m.\u001b[39mplot(\u001b[43mmodel_history\u001b[49m\u001b[38;5;241;43m.\u001b[39;49m\u001b[43mhistory\u001b[49m\u001b[43m[\u001b[49m\u001b[43mtf\u001b[49m\u001b[38;5;241;43m.\u001b[39;49m\u001b[43mkeras\u001b[49m\u001b[38;5;241;43m.\u001b[39;49m\u001b[43mmetrics\u001b[49m\u001b[38;5;241;43m.\u001b[39;49m\u001b[43mTopKCategoricalAccuracy\u001b[49m\u001b[43m(\u001b[49m\u001b[43mk\u001b[49m\u001b[38;5;241;43m=\u001b[39;49m\u001b[38;5;241;43m5\u001b[39;49m\u001b[43m)\u001b[49m\u001b[43m]\u001b[49m\u001b[38;5;241m+\u001b[39m model_history_2\u001b[38;5;241m.\u001b[39mhistory[\u001b[38;5;124m'\u001b[39m\u001b[38;5;124macc\u001b[39m\u001b[38;5;124m'\u001b[39m])\n\u001b[1;32m     19\u001b[0m plt\u001b[38;5;241m.\u001b[39mplot(model_history\u001b[38;5;241m.\u001b[39mhistory[\u001b[38;5;124m'\u001b[39m\u001b[38;5;124mval_acc\u001b[39m\u001b[38;5;124m'\u001b[39m]\u001b[38;5;241m+\u001b[39m model_history_2\u001b[38;5;241m.\u001b[39mhistory[\u001b[38;5;124m'\u001b[39m\u001b[38;5;124mval_acc\u001b[39m\u001b[38;5;124m'\u001b[39m])\n\u001b[1;32m     20\u001b[0m plt\u001b[38;5;241m.\u001b[39mtitle(\u001b[38;5;124m'\u001b[39m\u001b[38;5;124maccuracy\u001b[39m\u001b[38;5;124m'\u001b[39m)\n",
      "\u001b[0;31mKeyError\u001b[0m: <keras.metrics.TopKCategoricalAccuracy object at 0x2bb616220>"
     ]
    },
    {
     "data": {
      "image/png": "[encoded data removed]",
      "text/plain": [
       "<Figure size 1080x360 with 2 Axes>"
      ]
     },
     "metadata": {
      "needs_background": "light"
     },
     "output_type": "display_data"
    }
   ],
   "source": [
    "#size of the plots\n",
    "fig=plt.figure(figsize=(15,5))\n",
    "columns = 2\n",
    "rows = 1\n",
    "\n",
    "#plot loss\n",
    "#the accuracy and loss are stored in the \"model_history\"\n",
    "fig.add_subplot(rows, columns, 1)\n",
    "plt.plot(model_history.history['loss']+ model_history_2.history['loss']) #merge the loss from the two training steps\n",
    "plt.plot(model_history.history['val_loss']+ model_history_2.history['val_loss'])\n",
    "plt.title('loss')\n",
    "plt.ylabel('loss')\n",
    "plt.xlabel('epoch')\n",
    "plt.legend(['train', 'val'], loc='upper left')\n",
    "\n",
    "#plot accuracy\n",
    "fig.add_subplot(rows, columns, 2)\n",
    "plt.plot(model_history.history['acc']+ model_history_2.history['acc'])\n",
    "plt.plot(model_history.history['val_acc']+ model_history_2.history['val_acc'])\n",
    "plt.title('accuracy')\n",
    "plt.ylabel('accuracy')\n",
    "plt.xlabel('epoch')\n",
    "plt.legend(['train', 'val'], loc='upper left')\n",
    "plt.show()\n"
   ]
  },
  {
   "cell_type": "markdown",
   "id": "d4ba568e-aa6f-4568-a1c4-2207ab82b957",
   "metadata": {},
   "source": [
    "### Testing the model + submission\n",
    "\n",
    "Prepare the data for submission"
   ]
  },
  {
   "cell_type": "code",
   "execution_count": null,
   "id": "4b1acc3f-db95-4678-9487-692dde87b915",
   "metadata": {},
   "outputs": [],
   "source": [
    "#load the best saved trained model\n",
    "model=load_model(\"../models/Saved_model.h5\")"
   ]
  },
  {
   "cell_type": "code",
   "execution_count": 213,
   "id": "6f308313-5926-471c-a90c-b8d24e1045e0",
   "metadata": {},
   "outputs": [
    {
     "name": "stdout",
     "output_type": "stream",
     "text": [
      "Found 490 images belonging to 491 classes.\n"
     ]
    }
   ],
   "source": [
    "val_sony_datagen1 = ImageDataGenerator(rescale = 1./255)\n",
    "val_sony_datagen = val_sony_datagen1.flow_from_directory(\n",
    "        directory=r\"../sorted_images/test\", #This folder should contain pictures of each bird in a different subfolder (similar to the training data set)\n",
    "        target_size=(224, 224),\n",
    "        batch_size=490, #number of images in the testing dataset\n",
    "        shuffle=False)"
   ]
  },
  {
   "cell_type": "code",
   "execution_count": 214,
   "id": "7cccd0cf-fefc-4272-9f1e-52906640bdfb",
   "metadata": {},
   "outputs": [],
   "source": [
    "#load the pictures in the testing folder. The x_batch contains the pictures and the y_batch contains the\n",
    "#identities of the individuals\n",
    "x_batch, y_batch=next(val_sony_datagen)"
   ]
  },
  {
   "cell_type": "code",
   "execution_count": 215,
   "id": "02938f9a-39d8-4253-99ec-337d3ccdfdd1",
   "metadata": {},
   "outputs": [],
   "source": [
    "predictions_index = []\n",
    "\n",
    "#for i in range(0,len(x_batch)):\n",
    "for i in range(0,len(x_batch)):    \n",
    "    index_sorted = [] \n",
    "    image=np.expand_dims(x_batch[i], axis=0)\n",
    "    result=model.predict(image)\n",
    "    y_preds_indices = np.argsort(result)[:,-5:]\n",
    "\n",
    "    for index in range(1,6):\n",
    "        index_sorted.append(y_preds_indices[0][-index])\n",
    "    predictions_index.append(index_sorted)\n",
    "    "
   ]
  },
  {
   "cell_type": "code",
   "execution_count": 216,
   "id": "193a8892-ccc6-471e-b079-f468976529d5",
   "metadata": {},
   "outputs": [
    {
     "ename": "TypeError",
     "evalue": "'list' object is not callable",
     "output_type": "error",
     "traceback": [
      "\u001b[0;31m---------------------------------------------------------------------------\u001b[0m",
      "\u001b[0;31mTypeError\u001b[0m                                 Traceback (most recent call last)",
      "Input \u001b[0;32mIn [216]\u001b[0m, in \u001b[0;36m<module>\u001b[0;34m\u001b[0m\n\u001b[1;32m      1\u001b[0m train_data \u001b[38;5;241m=\u001b[39m pd\u001b[38;5;241m.\u001b[39mread_csv(\u001b[38;5;124m'\u001b[39m\u001b[38;5;124m../data/train_corrected.csv\u001b[39m\u001b[38;5;124m'\u001b[39m)\n\u001b[0;32m----> 2\u001b[0m unique_turtle_ids \u001b[38;5;241m=\u001b[39m \u001b[38;5;28;43mlist\u001b[39;49m\u001b[43m(\u001b[49m\u001b[43mtrain_data\u001b[49m\u001b[43m[\u001b[49m\u001b[38;5;124;43m'\u001b[39;49m\u001b[38;5;124;43mturtle_id\u001b[39;49m\u001b[38;5;124;43m'\u001b[39;49m\u001b[43m]\u001b[49m\u001b[38;5;241;43m.\u001b[39;49m\u001b[43munique\u001b[49m\u001b[43m(\u001b[49m\u001b[43m)\u001b[49m\u001b[43m)\u001b[49m\n",
      "\u001b[0;31mTypeError\u001b[0m: 'list' object is not callable"
     ]
    }
   ],
   "source": [
    "train_data = pd.read_csv('../data/train_corrected.csv')\n",
    "unique_turtle_ids = list(train_data['turtle_id'].unique())"
   ]
  },
  {
   "cell_type": "code",
   "execution_count": 201,
   "id": "eabc4be0-d90c-4d08-805a-82f36a5ca740",
   "metadata": {},
   "outputs": [
    {
     "ename": "TypeError",
     "evalue": "'numpy.int64' object is not iterable",
     "output_type": "error",
     "traceback": [
      "\u001b[0;31m---------------------------------------------------------------------------\u001b[0m",
      "\u001b[0;31mTypeError\u001b[0m                                 Traceback (most recent call last)",
      "Input \u001b[0;32mIn [207]\u001b[0m, in \u001b[0;36m<module>\u001b[0;34m\u001b[0m\n\u001b[1;32m      2\u001b[0m array \u001b[38;5;241m=\u001b[39m []\n\u001b[1;32m      3\u001b[0m \u001b[38;5;28;01mfor\u001b[39;00m line \u001b[38;5;129;01min\u001b[39;00m index_sorted:\n\u001b[0;32m----> 4\u001b[0m     \u001b[38;5;28;01mfor\u001b[39;00m \u001b[38;5;28mid\u001b[39m \u001b[38;5;129;01min\u001b[39;00m line:\n\u001b[1;32m      5\u001b[0m         \u001b[38;5;28mlist\u001b[39m\u001b[38;5;241m.\u001b[39mappend(unique_turtle_ids[\u001b[38;5;28mid\u001b[39m])\n\u001b[1;32m      6\u001b[0m     array\u001b[38;5;241m.\u001b[39mappend(\u001b[38;5;28mlist\u001b[39m)\n",
      "\u001b[0;31mTypeError\u001b[0m: 'numpy.int64' object is not iterable"
     ]
    }
   ],
   "source": [
    "list = []\n",
    "array = []\n",
    "for line in predictions_index:\n",
    "    for id in line:\n",
    "        list.append(unique_turtle_ids[id])\n",
    "    array.append(list)\n",
    "    list = []"
   ]
  },
  {
   "cell_type": "code",
   "execution_count": 203,
   "id": "4861a2cf-87ac-4c94-823d-39539c29e9a7",
   "metadata": {},
   "outputs": [
    {
     "data": {
      "text/html": [
       "<div>\n",
       "<style scoped>\n",
       "    .dataframe tbody tr th:only-of-type {\n",
       "        vertical-align: middle;\n",
       "    }\n",
       "\n",
       "    .dataframe tbody tr th {\n",
       "        vertical-align: top;\n",
       "    }\n",
       "\n",
       "    .dataframe thead th {\n",
       "        text-align: right;\n",
       "    }\n",
       "</style>\n",
       "<table border=\"1\" class=\"dataframe\">\n",
       "  <thead>\n",
       "    <tr style=\"text-align: right;\">\n",
       "      <th></th>\n",
       "      <th>image_id</th>\n",
       "      <th>prediction1</th>\n",
       "      <th>prediction2</th>\n",
       "      <th>prediction3</th>\n",
       "      <th>prediction4</th>\n",
       "      <th>prediction5</th>\n",
       "    </tr>\n",
       "  </thead>\n",
       "  <tbody>\n",
       "    <tr>\n",
       "      <th>0</th>\n",
       "      <td>ID_6NEDKOYZ</td>\n",
       "      <td>t_id_3K93fQBS</td>\n",
       "      <td>t_id_2QmcRkNj</td>\n",
       "      <td>t_id_7gFFZy7i</td>\n",
       "      <td>t_id_dc6pjonY</td>\n",
       "      <td>t_id_gGQbn7FA</td>\n",
       "    </tr>\n",
       "    <tr>\n",
       "      <th>1</th>\n",
       "      <td>ID_57QZ4S9N</td>\n",
       "      <td>t_id_smNwfXAT</td>\n",
       "      <td>t_id_B7LaSiac</td>\n",
       "      <td>t_id_VFb44eFm</td>\n",
       "      <td>t_id_stWei2Uq</td>\n",
       "      <td>t_id_BI99coHt</td>\n",
       "    </tr>\n",
       "    <tr>\n",
       "      <th>2</th>\n",
       "      <td>ID_OCGGJS5X</td>\n",
       "      <td>t_id_VP2NW7aV</td>\n",
       "      <td>t_id_Kc1tXDbJ</td>\n",
       "      <td>t_id_dc6pjonY</td>\n",
       "      <td>t_id_pCO59rOk</td>\n",
       "      <td>t_id_uMOOrQu7</td>\n",
       "    </tr>\n",
       "    <tr>\n",
       "      <th>3</th>\n",
       "      <td>ID_R2993S3S</td>\n",
       "      <td>t_id_tjWepji1</td>\n",
       "      <td>t_id_MwnEYfqe</td>\n",
       "      <td>t_id_GOIvCduN</td>\n",
       "      <td>t_id_hibDzPAP</td>\n",
       "      <td>t_id_87CLFCvE</td>\n",
       "    </tr>\n",
       "    <tr>\n",
       "      <th>4</th>\n",
       "      <td>ID_2E011NB0</td>\n",
       "      <td>t_id_fxTQ5vHC</td>\n",
       "      <td>t_id_uMOOrQu7</td>\n",
       "      <td>t_id_BI99coHt</td>\n",
       "      <td>t_id_p77GDtzg</td>\n",
       "      <td>t_id_dc6pjonY</td>\n",
       "    </tr>\n",
       "    <tr>\n",
       "      <th>...</th>\n",
       "      <td>...</td>\n",
       "      <td>...</td>\n",
       "      <td>...</td>\n",
       "      <td>...</td>\n",
       "      <td>...</td>\n",
       "      <td>...</td>\n",
       "    </tr>\n",
       "    <tr>\n",
       "      <th>485</th>\n",
       "      <td>ID_0RVNUKK1</td>\n",
       "      <td>t_id_FBsGDJhU</td>\n",
       "      <td>t_id_Kc1tXDbJ</td>\n",
       "      <td>t_id_n2FBHk6d</td>\n",
       "      <td>t_id_D7NA71la</td>\n",
       "      <td>t_id_WDCMGvI4</td>\n",
       "    </tr>\n",
       "    <tr>\n",
       "      <th>486</th>\n",
       "      <td>ID_6405IKG3</td>\n",
       "      <td>t_id_GrxmyS59</td>\n",
       "      <td>t_id_p77GDtzg</td>\n",
       "      <td>t_id_pCO59rOk</td>\n",
       "      <td>t_id_k1rScFLB</td>\n",
       "      <td>t_id_smNwfXAT</td>\n",
       "    </tr>\n",
       "    <tr>\n",
       "      <th>487</th>\n",
       "      <td>ID_6WVPVB7S</td>\n",
       "      <td>t_id_4ZfTUmwL</td>\n",
       "      <td>t_id_MwnEYfqe</td>\n",
       "      <td>t_id_UVQa4BMz</td>\n",
       "      <td>t_id_utw0thCe</td>\n",
       "      <td>t_id_e9i3Lbq4</td>\n",
       "    </tr>\n",
       "    <tr>\n",
       "      <th>488</th>\n",
       "      <td>ID_47C5LL2G</td>\n",
       "      <td>t_id_Kc1tXDbJ</td>\n",
       "      <td>t_id_VFb44eFm</td>\n",
       "      <td>t_id_4ZfTUmwL</td>\n",
       "      <td>t_id_WDCMGvI4</td>\n",
       "      <td>t_id_G5JLzvai</td>\n",
       "    </tr>\n",
       "    <tr>\n",
       "      <th>489</th>\n",
       "      <td>ID_HZP6EJAK</td>\n",
       "      <td>t_id_HcnnlRda</td>\n",
       "      <td>t_id_n2FBHk6d</td>\n",
       "      <td>t_id_72SiiZCp</td>\n",
       "      <td>t_id_AMnriNb5</td>\n",
       "      <td>t_id_ksTLswDT</td>\n",
       "    </tr>\n",
       "  </tbody>\n",
       "</table>\n",
       "<p>490 rows × 6 columns</p>\n",
       "</div>"
      ],
      "text/plain": [
       "        image_id    prediction1    prediction2    prediction3    prediction4  \\\n",
       "0    ID_6NEDKOYZ  t_id_3K93fQBS  t_id_2QmcRkNj  t_id_7gFFZy7i  t_id_dc6pjonY   \n",
       "1    ID_57QZ4S9N  t_id_smNwfXAT  t_id_B7LaSiac  t_id_VFb44eFm  t_id_stWei2Uq   \n",
       "2    ID_OCGGJS5X  t_id_VP2NW7aV  t_id_Kc1tXDbJ  t_id_dc6pjonY  t_id_pCO59rOk   \n",
       "3    ID_R2993S3S  t_id_tjWepji1  t_id_MwnEYfqe  t_id_GOIvCduN  t_id_hibDzPAP   \n",
       "4    ID_2E011NB0  t_id_fxTQ5vHC  t_id_uMOOrQu7  t_id_BI99coHt  t_id_p77GDtzg   \n",
       "..           ...            ...            ...            ...            ...   \n",
       "485  ID_0RVNUKK1  t_id_FBsGDJhU  t_id_Kc1tXDbJ  t_id_n2FBHk6d  t_id_D7NA71la   \n",
       "486  ID_6405IKG3  t_id_GrxmyS59  t_id_p77GDtzg  t_id_pCO59rOk  t_id_k1rScFLB   \n",
       "487  ID_6WVPVB7S  t_id_4ZfTUmwL  t_id_MwnEYfqe  t_id_UVQa4BMz  t_id_utw0thCe   \n",
       "488  ID_47C5LL2G  t_id_Kc1tXDbJ  t_id_VFb44eFm  t_id_4ZfTUmwL  t_id_WDCMGvI4   \n",
       "489  ID_HZP6EJAK  t_id_HcnnlRda  t_id_n2FBHk6d  t_id_72SiiZCp  t_id_AMnriNb5   \n",
       "\n",
       "       prediction5  \n",
       "0    t_id_gGQbn7FA  \n",
       "1    t_id_BI99coHt  \n",
       "2    t_id_uMOOrQu7  \n",
       "3    t_id_87CLFCvE  \n",
       "4    t_id_dc6pjonY  \n",
       "..             ...  \n",
       "485  t_id_WDCMGvI4  \n",
       "486  t_id_smNwfXAT  \n",
       "487  t_id_e9i3Lbq4  \n",
       "488  t_id_G5JLzvai  \n",
       "489  t_id_ksTLswDT  \n",
       "\n",
       "[490 rows x 6 columns]"
      ]
     },
     "execution_count": 203,
     "metadata": {},
     "output_type": "execute_result"
    }
   ],
   "source": [
    "titles = ['prediction1', 'prediction2','prediction3','prediction4','prediction5']\n",
    "submission = pd.DataFrame(array, columns= titles)\n",
    "\n",
    "#Insert image_ids from test_data\n",
    "test_data = pd.read_csv('../data/test.csv')\n",
    "submission.insert(loc=0, column='image_id', value=test_data['image_id'])\n",
    "submission"
   ]
  },
  {
   "cell_type": "code",
   "execution_count": 206,
   "id": "f586af11-99be-4fd1-9e6d-da8ca82d415b",
   "metadata": {},
   "outputs": [],
   "source": [
    "#Save submission data as CSV\n",
    "submission.to_csv('../data/submission_new_pipeline.csv', index = False)"
   ]
  },
  {
   "cell_type": "code",
   "execution_count": null,
   "id": "6aa54acf-68a7-4e8f-975d-be8301a161e6",
   "metadata": {},
   "outputs": [],
   "source": []
  }
 ],
 "metadata": {
  "kernelspec": {
   "display_name": "Python 3 (ipykernel)",
   "language": "python",
   "name": "python3"
  },
  "language_info": {
   "codemirror_mode": {
    "name": "ipython",
    "version": 3
   },
   "file_extension": ".py",
   "mimetype": "text/x-python",
   "name": "python",
   "nbconvert_exporter": "python",
   "pygments_lexer": "ipython3",
   "version": "3.9.4"
  }
 },
 "nbformat": 4,
 "nbformat_minor": 5
}
