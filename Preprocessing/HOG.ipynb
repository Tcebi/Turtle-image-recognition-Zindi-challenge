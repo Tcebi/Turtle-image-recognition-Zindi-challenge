{
 "cells": [
  {
   "cell_type": "markdown",
   "id": "afb166f6-3d9f-4f07-b32a-4c0c257fbc0a",
   "metadata": {
    "tags": []
   },
   "source": [
    "## Histogram of Gradients (HOG)"
   ]
  },
  {
   "cell_type": "markdown",
   "id": "08a80454-b84d-4e5f-99e3-217528e16904",
   "metadata": {},
   "source": [
    "The aim of this notebook is to obtain merely HOG images out of the original images. The HOG images are being used as the 4th channel, next to the 3 channels RGB."
   ]
  },
  {
   "cell_type": "markdown",
   "id": "c5ec8160-7f7b-471d-a657-57368bcdc08b",
   "metadata": {},
   "source": [
    "### Importing"
   ]
  },
  {
   "cell_type": "code",
   "execution_count": 1,
   "id": "a1d8a6c4-8f26-4711-84e0-7584791d47d0",
   "metadata": {},
   "outputs": [
    {
     "name": "stderr",
     "output_type": "stream",
     "text": [
      "/Users/lee/neuefische/Capstone_Project_Turtle_Recall/.venv/lib/python3.9/site-packages/jax/_src/lib/__init__.py:32: UserWarning: JAX on Mac ARM machines is experimental and minimally tested. Please see https://github.com/google/jax/issues/5501 in the event of problems.\n",
      "  warnings.warn(\"JAX on Mac ARM machines is experimental and minimally tested. \"\n"
     ]
    }
   ],
   "source": [
    "# Import required packages \n",
    "import tensorflow as tf\n",
    "import image_modeling   # import image_modeling.py file\n",
    "import tensorflow_hub as hub\n",
    "import datetime\n",
    "import csv\n",
    "import numpy as np\n",
    "import pandas as pd\n",
    "import matplotlib.pyplot as plt\n",
    "from skimage.feature import hog\n",
    "from skimage import data, exposure\n",
    "import cv2 as cv2\n",
    "import pickle\n",
    "\n",
    "# Load the TensorBoard notebook extension\n",
    "%load_ext tensorboard"
   ]
  },
  {
   "cell_type": "code",
   "execution_count": null,
   "id": "f756697b-3d59-46d7-a0be-5930e5e9ce83",
   "metadata": {},
   "outputs": [],
   "source": [
    "#!python -m pip install -U scikit-image\n",
    "#!pip install opencv-python"
   ]
  },
  {
   "cell_type": "code",
   "execution_count": 2,
   "id": "0e7fdf30-85ca-4116-8678-91d327409d73",
   "metadata": {},
   "outputs": [],
   "source": [
    "# Clear any logs from previous runs\n",
    "!rm -rf ./logs/"
   ]
  },
  {
   "cell_type": "code",
   "execution_count": 3,
   "id": "c5dc8bf5-967a-41a3-b77b-9f474ab46906",
   "metadata": {},
   "outputs": [],
   "source": [
    "# Import variables from image_modelling.py file\n",
    "HEIGHT = image_modeling.HEIGHT\n",
    "WIDTH = image_modeling.WIDTH\n",
    "NCLASSES = image_modeling.NCLASSES\n",
    "CLASS_NAMES = image_modeling.CLASS_NAMES\n",
    "BATCH_SIZE = image_modeling.BATCH_SIZE\n",
    "TRAINING_SIZE = image_modeling.TRAINING_SIZE\n",
    "TRAINING_STEPS = (TRAINING_SIZE // BATCH_SIZE)\n",
    "\n",
    "train_data = image_modeling.train_data\n",
    "test_data = image_modeling.test_data\n",
    "lines = image_modeling.lines\n",
    "image_dir = image_modeling.image_dir\n",
    "length_data = image_modeling.length_data\n"
   ]
  },
  {
   "cell_type": "markdown",
   "id": "5d424c26-8179-4fc7-b4e1-2c83c7f41875",
   "metadata": {},
   "source": [
    "#### Just another version: Change sequence to alphabetically ordered: First turtle_id then image_idf"
   ]
  },
  {
   "cell_type": "code",
   "execution_count": 234,
   "id": "fb358fa1-3f24-46a4-bbf3-0ec2e5ff8bd2",
   "metadata": {},
   "outputs": [
    {
     "data": {
      "text/html": [
       "<div>\n",
       "<style scoped>\n",
       "    .dataframe tbody tr th:only-of-type {\n",
       "        vertical-align: middle;\n",
       "    }\n",
       "\n",
       "    .dataframe tbody tr th {\n",
       "        vertical-align: top;\n",
       "    }\n",
       "\n",
       "    .dataframe thead th {\n",
       "        text-align: right;\n",
       "    }\n",
       "</style>\n",
       "<table border=\"1\" class=\"dataframe\">\n",
       "  <thead>\n",
       "    <tr style=\"text-align: right;\">\n",
       "      <th></th>\n",
       "      <th>image_id</th>\n",
       "      <th>image_location</th>\n",
       "    </tr>\n",
       "  </thead>\n",
       "  <tbody>\n",
       "    <tr>\n",
       "      <th>0</th>\n",
       "      <td>ID_03QDH152.JPG</td>\n",
       "      <td>right</td>\n",
       "    </tr>\n",
       "    <tr>\n",
       "      <th>1</th>\n",
       "      <td>ID_04DSD8ZP.JPG</td>\n",
       "      <td>right</td>\n",
       "    </tr>\n",
       "    <tr>\n",
       "      <th>2</th>\n",
       "      <td>ID_07VVCQWI.JPG</td>\n",
       "      <td>right</td>\n",
       "    </tr>\n",
       "    <tr>\n",
       "      <th>3</th>\n",
       "      <td>ID_0D2ZIRZK.JPG</td>\n",
       "      <td>right</td>\n",
       "    </tr>\n",
       "    <tr>\n",
       "      <th>4</th>\n",
       "      <td>ID_0FEWYAAG.JPG</td>\n",
       "      <td>right</td>\n",
       "    </tr>\n",
       "    <tr>\n",
       "      <th>...</th>\n",
       "      <td>...</td>\n",
       "      <td>...</td>\n",
       "    </tr>\n",
       "    <tr>\n",
       "      <th>485</th>\n",
       "      <td>ID_ZM5P7VES.JPG</td>\n",
       "      <td>top</td>\n",
       "    </tr>\n",
       "    <tr>\n",
       "      <th>486</th>\n",
       "      <td>ID_ZMV66T7A.JPG</td>\n",
       "      <td>top</td>\n",
       "    </tr>\n",
       "    <tr>\n",
       "      <th>487</th>\n",
       "      <td>ID_ZVLZRL7E.JPG</td>\n",
       "      <td>left</td>\n",
       "    </tr>\n",
       "    <tr>\n",
       "      <th>488</th>\n",
       "      <td>ID_ZXB8UFLV.JPG</td>\n",
       "      <td>left</td>\n",
       "    </tr>\n",
       "    <tr>\n",
       "      <th>489</th>\n",
       "      <td>ID_ZZJTYG67.JPG</td>\n",
       "      <td>right</td>\n",
       "    </tr>\n",
       "  </tbody>\n",
       "</table>\n",
       "<p>490 rows × 2 columns</p>\n",
       "</div>"
      ],
      "text/plain": [
       "            image_id image_location\n",
       "0    ID_03QDH152.JPG          right\n",
       "1    ID_04DSD8ZP.JPG          right\n",
       "2    ID_07VVCQWI.JPG          right\n",
       "3    ID_0D2ZIRZK.JPG          right\n",
       "4    ID_0FEWYAAG.JPG          right\n",
       "..               ...            ...\n",
       "485  ID_ZM5P7VES.JPG            top\n",
       "486  ID_ZMV66T7A.JPG            top\n",
       "487  ID_ZVLZRL7E.JPG           left\n",
       "488  ID_ZXB8UFLV.JPG           left\n",
       "489  ID_ZZJTYG67.JPG          right\n",
       "\n",
       "[490 rows x 2 columns]"
      ]
     },
     "execution_count": 234,
     "metadata": {},
     "output_type": "execute_result"
    }
   ],
   "source": [
    "train_data_sorted = train_data.sort_values(by=['turtle_id','image_id'],ignore_index=True)\n",
    "test_data_sorted = test_data.sort_values(by=['image_id'],ignore_index=True)"
   ]
  },
  {
   "cell_type": "code",
   "execution_count": null,
   "id": "04d3c09f-7f73-40a4-a9f2-509f109bc614",
   "metadata": {},
   "outputs": [],
   "source": []
  },
  {
   "cell_type": "code",
   "execution_count": null,
   "id": "51d057a1-e1c7-4bd9-a3a9-c28edc42ef12",
   "metadata": {},
   "outputs": [],
   "source": []
  },
  {
   "cell_type": "code",
   "execution_count": null,
   "id": "86760477-e9d8-41dc-b4c4-3fc5d5736e13",
   "metadata": {},
   "outputs": [],
   "source": []
  },
  {
   "cell_type": "markdown",
   "id": "083a0118-d3c3-49c4-9be2-35e0821c7296",
   "metadata": {},
   "source": [
    "### Rescaling"
   ]
  },
  {
   "cell_type": "markdown",
   "id": "d036baa3-10ad-4e9f-a29a-2f5f32395013",
   "metadata": {},
   "source": [
    "To create HOG images out of the original images, they have to be preprocessed: rescaled, but not augmentated, hence augment = False. Here, train_datagen and test_datagen are identical, just the information of rescaling, the images itself are not involved yet."
   ]
  },
  {
   "cell_type": "code",
   "execution_count": 4,
   "id": "3a8cb083-66b8-4b9c-b07b-e703480e5344",
   "metadata": {},
   "outputs": [],
   "source": [
    "train_datagen, test_datagen = image_modeling.preprocess(augment=False)"
   ]
  },
  {
   "cell_type": "markdown",
   "id": "9c9d377a-bcde-4a3c-bd97-2e2a1f970dfe",
   "metadata": {},
   "source": [
    "### From dataframe to arrays: train validation split and batches"
   ]
  },
  {
   "cell_type": "markdown",
   "id": "201f3659-5c7d-46ee-864f-db2d90e4d9a2",
   "metadata": {},
   "source": [
    "The function use_image_generator is also used in the notebook \"Create Pipeline\" and copied into image_modeling.py. Now the data were split into a test and validation dataset. However, much has to be changed here, that's why use_image_generator is defined newly with updated changes: class_mode = None, because the label data are cumbersome, therefore also shuffle = False."
   ]
  },
  {
   "cell_type": "code",
   "execution_count": 5,
   "id": "279c4743-357c-46bb-b8eb-c6a2056ac5ce",
   "metadata": {},
   "outputs": [],
   "source": [
    "def use_image_generator(train_datagen, test_datagen): \n",
    "        train_generator = train_datagen.flow_from_dataframe(dataframe =train_data[0:lines], \n",
    "                directory   = image_dir,\n",
    "                x_col       = \"image_id\" ,\n",
    "                target_size = (HEIGHT, WIDTH),\n",
    "                batch_size  = BATCH_SIZE,\n",
    "                classes     = CLASS_NAMES,\n",
    "                class_mode  = None,\n",
    "                #color_mode  = 'grayscale',                                            \n",
    "                shuffle     = False)\n",
    "        \n",
    "        validation_generator = test_datagen.flow_from_dataframe(dataframe = train_data[lines:], \n",
    "                directory    = image_dir,\n",
    "                x_col        = \"image_id\",\n",
    "                target_size  = (HEIGHT, WIDTH),\n",
    "                batch_size   = BATCH_SIZE,\n",
    "                classes      = CLASS_NAMES,\n",
    "                class_mode   = None,\n",
    "                #color_mode  = 'grayscale',                                                \n",
    "                shuffle      = False)\n",
    "        \n",
    "        return train_generator, validation_generator"
   ]
  },
  {
   "cell_type": "markdown",
   "id": "29b0b099-57d6-4e83-b560-61cfadad86b2",
   "metadata": {},
   "source": [
    "For test data:"
   ]
  },
  {
   "cell_type": "code",
   "execution_count": 6,
   "id": "c90ca5f6-a0ba-4527-906e-84deac4bb35a",
   "metadata": {},
   "outputs": [],
   "source": [
    "def use_image_generator_test(test_datagen): \n",
    "\n",
    "        test_generator = test_datagen.flow_from_dataframe(dataframe = test_data, \n",
    "                directory    = image_dir,\n",
    "                x_col        = \"image_id\",\n",
    "                target_size  = (HEIGHT, WIDTH),\n",
    "                batch_size   = BATCH_SIZE,\n",
    "                classes      = CLASS_NAMES,\n",
    "                class_mode   = None,\n",
    "                #color_mode  = 'grayscale',                                                \n",
    "                shuffle      = False)\n",
    "        \n",
    "        return test_generator"
   ]
  },
  {
   "cell_type": "markdown",
   "id": "b5a80848-345c-423c-808d-8896917c2892",
   "metadata": {},
   "source": [
    "Now the images were loaded from the dataframe using the use_image_generator function above. They are loaded into batches with the size BATCH_SIZE. The batching process is unnecessary but uncommenting \"batch_size\" didn't help to avoid batching."
   ]
  },
  {
   "cell_type": "code",
   "execution_count": 7,
   "id": "269cbcc7-2ae8-44f6-9a98-0011e43cffb9",
   "metadata": {},
   "outputs": [
    {
     "name": "stdout",
     "output_type": "stream",
     "text": [
      "Found 1502 validated image filenames.\n",
      "Found 643 validated image filenames.\n"
     ]
    },
    {
     "name": "stderr",
     "output_type": "stream",
     "text": [
      "/Users/lee/neuefische/Capstone_Project_Turtle_Recall/.venv/lib/python3.9/site-packages/keras_preprocessing/image/dataframe_iterator.py:219: UserWarning: `classes` will be ignored given the class_mode=\"None\"\n",
      "  warnings.warn('`classes` will be ignored given the class_mode=\"{}\"'\n"
     ]
    }
   ],
   "source": [
    "train_generator, validation_generator = use_image_generator(train_datagen, test_datagen)"
   ]
  },
  {
   "cell_type": "code",
   "execution_count": 8,
   "id": "fc307925-4982-44cc-bb7d-6c142582d6cb",
   "metadata": {},
   "outputs": [
    {
     "name": "stdout",
     "output_type": "stream",
     "text": [
      "Found 490 validated image filenames.\n"
     ]
    }
   ],
   "source": [
    "test_generator = use_image_generator_test(test_datagen)"
   ]
  },
  {
   "cell_type": "markdown",
   "id": "bf8c14ff-07f9-4fdc-954b-318bb9b7d02a",
   "metadata": {},
   "source": [
    "### Get the labels"
   ]
  },
  {
   "cell_type": "code",
   "execution_count": 9,
   "id": "3bcbcf81-283c-42ad-a866-14ee5867ef7a",
   "metadata": {},
   "outputs": [],
   "source": [
    "train_labels_list = list(train_data.iloc[0:lines][\"turtle_id\"])\n",
    "validation_labels_list = list(train_data.iloc[lines:][\"turtle_id\"])"
   ]
  },
  {
   "cell_type": "code",
   "execution_count": 10,
   "id": "5d9135f2-cd55-4620-9a97-59b7307ec44f",
   "metadata": {},
   "outputs": [],
   "source": [
    "train_labels_array = np.array(train_labels_list)\n",
    "validation_labels_array = np.array(validation_labels_list)"
   ]
  },
  {
   "cell_type": "code",
   "execution_count": 11,
   "id": "59d8a4d8-7429-478c-9751-4a75b3a3fd29",
   "metadata": {},
   "outputs": [],
   "source": [
    "#Convert label names from string to numbers by creating a dictionary\n",
    "unique_label_dict = {}\n",
    "for n, i in enumerate(CLASS_NAMES):\n",
    "    unique_label_dict[i] = n\n",
    "\n",
    "#Using this dictionary to convert train labels and store into a new list    \n",
    "train_labels_list_float = []    \n",
    "for i in train_labels_list:\n",
    "    train_labels_list_float.append(unique_label_dict[i])\n",
    "\n",
    "#Same with validation labels    \n",
    "validation_labels_list_float = []    \n",
    "for i in validation_labels_list:\n",
    "    validation_labels_list_float.append(unique_label_dict[i])   \n",
    "\n",
    "#Convert both new lists into arrays (if required)\n",
    "train_labels_array_float = np.array(train_labels_list_float)\n",
    "validation_labels_array_float = np.array(validation_labels_list_float)"
   ]
  },
  {
   "cell_type": "markdown",
   "id": "ef5d01ee-202c-4275-9ce6-294305cf9381",
   "metadata": {},
   "source": [
    "### Create HOG images"
   ]
  },
  {
   "cell_type": "markdown",
   "id": "731be132-8791-414e-8c75-8a8d8523cc4d",
   "metadata": {},
   "source": [
    "The function get_hog takes the generators generated by the use_image_generator function as input. The outputs are all 1D HOG images and all 2D images, if visualize = True."
   ]
  },
  {
   "cell_type": "code",
   "execution_count": 12,
   "id": "95878b1a-769f-4617-8c36-a131c7a640d7",
   "metadata": {},
   "outputs": [],
   "source": [
    "def get_hog(images_in_batches, visualize=True):    \n",
    "    if visualize == True:\n",
    "        hog_images = []\n",
    "        bilder = []\n",
    "        _ = 0\n",
    "        for i in range(len(images_in_batches)):\n",
    "            for j in range(BATCH_SIZE):\n",
    "                fd, bild = hog(images_in_batches[i][j], orientations=9, pixels_per_cell=(16, 16),cells_per_block=(2, 2), channel_axis=-1, visualize=True)\n",
    "                hog_images.append(fd)\n",
    "                bilder.append(bild)\n",
    "                _ += 1\n",
    "                if _ >= images_in_batches.samples:\n",
    "                    break\n",
    "        hog_images = np.array(hog_images)\n",
    "        bilder = np.array(bilder)\n",
    "        return hog_images, bilder\n",
    "\n",
    "    else:\n",
    "        hog_images = []\n",
    "        _ = 0\n",
    "        for i in range(len(images_in_batches)):\n",
    "            for j in range(BATCH_SIZE):\n",
    "                fd = hog(images_in_batches[i][j], orientations=9, pixels_per_cell=(16, 16),cells_per_block=(2, 2), channel_axis=-1)\n",
    "                hog_images.append(fd)\n",
    "                _ += 1\n",
    "                if _ >= images_in_batches.samples:\n",
    "                    break\n",
    "        hog_images = np.array(hog_images)            \n",
    "        return hog_images"
   ]
  },
  {
   "cell_type": "markdown",
   "id": "979cd12b-62bd-4218-803c-d6045182f543",
   "metadata": {},
   "source": [
    "As a next step, the get_hoc function can be used. Attention, it takes long time to run through:"
   ]
  },
  {
   "cell_type": "code",
   "execution_count": null,
   "id": "c7919d15-0ec0-4dfa-bc8d-f9448997bb00",
   "metadata": {},
   "outputs": [],
   "source": [
    "# 15 Minuten ACHTUNG\n",
    "train_hog, train_hog_2d = get_hog(train_generator)\n",
    "validation_hog, validation_hog_2d = get_hog(validation_generator)"
   ]
  },
  {
   "cell_type": "code",
   "execution_count": null,
   "id": "7f0568a7-108f-425c-97e6-f5950da7286c",
   "metadata": {},
   "outputs": [],
   "source": [
    "# 5 Minuten ACHTUNG\n",
    "test_hog, test_hog_2d = get_hog(test_generator)"
   ]
  },
  {
   "cell_type": "markdown",
   "id": "6c87ab80-b1da-40c7-b68e-6feb27d1a680",
   "metadata": {},
   "source": [
    "### Add HOG images as a 4th channel"
   ]
  },
  {
   "cell_type": "code",
   "execution_count": 13,
   "id": "d2a82c61-4eaa-4ee6-9a63-cafacb2caeae",
   "metadata": {},
   "outputs": [],
   "source": [
    "def add_fourth_channel(existing_images_in_batches,new_images_2d):    \n",
    "    merged_all = []\n",
    "    _ = 0\n",
    "    for i in range(len(existing_images_in_batches)):\n",
    "        for j in range(BATCH_SIZE):\n",
    "            c1,c2,c3 = cv2.split(existing_images_in_batches[i][j])\n",
    "            merged_image = cv2.merge((c1,c2,c3,new_images_2d[_]))\n",
    "            merged_all.append(merged_image)\n",
    "            _ += 1\n",
    "            if _ >= existing_images_in_batches.samples:\n",
    "                break        \n",
    "    return np.array(merged_all)"
   ]
  },
  {
   "cell_type": "code",
   "execution_count": 14,
   "id": "6dee18ee-2821-49b5-9950-69a6691da5ca",
   "metadata": {},
   "outputs": [
    {
     "ename": "NameError",
     "evalue": "name 'train_hog_2d' is not defined",
     "output_type": "error",
     "traceback": [
      "\u001b[0;31m---------------------------------------------------------------------------\u001b[0m",
      "\u001b[0;31mNameError\u001b[0m                                 Traceback (most recent call last)",
      "Input \u001b[0;32mIn [14]\u001b[0m, in \u001b[0;36m<module>\u001b[0;34m\u001b[0m\n\u001b[0;32m----> 1\u001b[0m alles \u001b[38;5;241m=\u001b[39m add_fourth_channel(train_generator,\u001b[43mtrain_hog_2d\u001b[49m)\n",
      "\u001b[0;31mNameError\u001b[0m: name 'train_hog_2d' is not defined"
     ]
    }
   ],
   "source": [
    "alles = add_fourth_channel(train_generator,train_hog_2d)"
   ]
  },
  {
   "cell_type": "code",
   "execution_count": null,
   "id": "6ed04a02-5ebc-447e-868e-72e441d77077",
   "metadata": {},
   "outputs": [],
   "source": [
    "alles_validation = add_fourth_channel(validation_generator,validation_hog_2d)"
   ]
  },
  {
   "cell_type": "code",
   "execution_count": null,
   "id": "c4269aa3-bbcb-483a-a166-63bafa31ab8e",
   "metadata": {},
   "outputs": [],
   "source": [
    "alles_test = add_fourth_channel(test_generator,test_hog_2d)"
   ]
  },
  {
   "cell_type": "code",
   "execution_count": null,
   "id": "78f4e008-5e03-4cb7-a670-6fae55e91f70",
   "metadata": {},
   "outputs": [],
   "source": []
  },
  {
   "cell_type": "markdown",
   "id": "3a8df238-d9d4-4e59-b0cc-309998f3fa41",
   "metadata": {},
   "source": [
    "### Save files with pickle"
   ]
  },
  {
   "cell_type": "code",
   "execution_count": null,
   "id": "cb0714dd-a9c5-424e-aa09-72f9464581a7",
   "metadata": {},
   "outputs": [],
   "source": [
    "# train data HOG ONLY\n",
    "pickle_out_HOG_only_train = open(\"../data/pickles/HOG_only_train.pickle\",\"wb\") #wb write binary\n",
    "pickle.dump(train_hog_2d,pickle_out_HOG_only_train) #dump train to pickle_out\n",
    "pickle_out_HOG_only_train.close()\n",
    "\n",
    "# validation data HOG ONLY\n",
    "pickle_out_HOG_only_validation = open(\"../data/pickles/HOG_only_validation.pickle\",\"wb\") #wb write binary\n",
    "pickle.dump(validation_hog_2d,pickle_out_HOG_only_validation) #dump train to pickle_out\n",
    "pickle_out_HOG_only_validation.close()"
   ]
  },
  {
   "cell_type": "code",
   "execution_count": null,
   "id": "94032555-1a2f-4114-9fe4-0331fe041200",
   "metadata": {},
   "outputs": [],
   "source": [
    "# train data all four channels\n",
    "pickle_out_four_channels_train = open(\"../data/pickles/four_channels_train.pickle\",\"wb\") #wb write binary\n",
    "pickle.dump(alles,pickle_out_four_channels_train) #dump train to pickle_out\n",
    "pickle_out_four_channels_train.close()"
   ]
  },
  {
   "cell_type": "code",
   "execution_count": null,
   "id": "da550347-610b-41dc-9fad-c24c2d3bf618",
   "metadata": {},
   "outputs": [],
   "source": [
    "# validation data all four channels\n",
    "pickle_out_four_channels_validation = open(\"../data/pickles/four_channels_validation.pickle\",\"wb\") #wb write binary\n",
    "pickle.dump(alles_validation,pickle_out_four_channels_validation) #dump train to pickle_out\n",
    "pickle_out_four_channels_validation.close()"
   ]
  },
  {
   "cell_type": "code",
   "execution_count": null,
   "id": "9d576069-631e-4f63-afe7-a0ccd8205cb7",
   "metadata": {},
   "outputs": [],
   "source": [
    "# test data all four channels\n",
    "pickle_out_four_channels_test = open(\"../data/pickles/four_channels_test.pickle\",\"wb\") #wb write binary\n",
    "pickle.dump(alles_test,pickle_out_four_channels_test) #dump train to pickle_out\n",
    "pickle_out_four_channels_test.close()"
   ]
  },
  {
   "cell_type": "markdown",
   "id": "7d2a3ce2-e4e5-4c24-88fe-6f6b887aa226",
   "metadata": {},
   "source": [
    "### Load files with pickle"
   ]
  },
  {
   "cell_type": "code",
   "execution_count": 14,
   "id": "cf65a78c-9774-4a0e-9809-398228aece1f",
   "metadata": {},
   "outputs": [],
   "source": [
    "# load pickled train data\n",
    "pickle_in_four_channels_train = open(\"../data/pickles/four_channels_train.pickle\",\"rb\") #read binary\n",
    "pickle_in_four_channels_train_load =  pickle.load(pickle_in_four_channels_train) #load pickle file"
   ]
  },
  {
   "cell_type": "code",
   "execution_count": 15,
   "id": "a299a46a-c67d-49a2-ae51-b5fda464e5b7",
   "metadata": {},
   "outputs": [],
   "source": [
    "# load pickled validation data\n",
    "pickle_in_four_channels_validation = open(\"../data/pickles/four_channels_validation.pickle\",\"rb\") #read binary\n",
    "pickle_in_four_channels_validation_load =  pickle.load(pickle_in_four_channels_validation) #load pickle file"
   ]
  },
  {
   "cell_type": "code",
   "execution_count": 16,
   "id": "084a67a1-ddb2-4321-8e80-513b78c62c9d",
   "metadata": {},
   "outputs": [],
   "source": [
    "# load pickled test data\n",
    "pickle_in_four_channels_test = open(\"../data/pickles/four_channels_test.pickle\",\"rb\") #read binary\n",
    "pickle_in_four_channels_test_load =  pickle.load(pickle_in_four_channels_test) #load pickle file"
   ]
  },
  {
   "cell_type": "code",
   "execution_count": 211,
   "id": "ad0fa4d5-289a-4cd2-b521-bcc8458e624e",
   "metadata": {},
   "outputs": [],
   "source": [
    "# load pickled HOG ONLY train and validation\n",
    "pickle_in_HOG_only_train = open(\"../data/pickles/HOG_only_train.pickle\",\"rb\") #read binary\n",
    "pickle_in_HOG_only_train_load =  pickle.load(pickle_in_HOG_only_train) #load pickle file\n",
    "\n",
    "pickle_in_HOG_only_validation = open(\"../data/pickles/HOG_only_validation.pickle\",\"rb\") #read binary\n",
    "pickle_in_HOG_only_validation_load =  pickle.load(pickle_in_HOG_only_validation) #load pickle file"
   ]
  },
  {
   "cell_type": "markdown",
   "id": "af9a514e-1200-40dc-be69-25a6fae69b81",
   "metadata": {},
   "source": [
    "### InceptionV3"
   ]
  },
  {
   "cell_type": "code",
   "execution_count": 177,
   "id": "2fea16e8-cdd7-49d7-abed-ed67b02e59d4",
   "metadata": {},
   "outputs": [],
   "source": [
    "from tensorflow.keras.optimizers import RMSprop\n",
    "from tensorflow.keras import datasets, layers, models\n",
    "from tensorflow.keras.applications.inception_v3 import InceptionV3\n",
    "from tensorflow.keras.applications import VGG19\n",
    "from keras.models import Sequential\n",
    "from tensorflow.keras.layers import Dense, Flatten, Conv2D, Input, Concatenate, Dropout\n",
    "from keras.layers import concatenate"
   ]
  },
  {
   "cell_type": "code",
   "execution_count": 173,
   "id": "0bfd0dd9-c8cc-42e0-8d8e-05035cf690c9",
   "metadata": {},
   "outputs": [
    {
     "ename": "NameError",
     "evalue": "name 'VGG19' is not defined",
     "output_type": "error",
     "traceback": [
      "\u001b[0;31m---------------------------------------------------------------------------\u001b[0m",
      "\u001b[0;31mNameError\u001b[0m                                 Traceback (most recent call last)",
      "Input \u001b[0;32mIn [173]\u001b[0m, in \u001b[0;36m<module>\u001b[0;34m\u001b[0m\n\u001b[1;32m      3\u001b[0m input_shape \u001b[38;5;241m=\u001b[39m (\u001b[38;5;241m224\u001b[39m, \u001b[38;5;241m224\u001b[39m, \u001b[38;5;241m4\u001b[39m)\n\u001b[1;32m      4\u001b[0m model\u001b[38;5;241m.\u001b[39madd(Conv2D(\u001b[38;5;241m3\u001b[39m, kernel_size\u001b[38;5;241m=\u001b[39m(\u001b[38;5;241m7\u001b[39m, \u001b[38;5;241m7\u001b[39m), activation\u001b[38;5;241m=\u001b[39m\u001b[38;5;124m'\u001b[39m\u001b[38;5;124mrelu\u001b[39m\u001b[38;5;124m'\u001b[39m, input_shape\u001b[38;5;241m=\u001b[39minput_shape,padding\u001b[38;5;241m=\u001b[39m\u001b[38;5;124m'\u001b[39m\u001b[38;5;124msame\u001b[39m\u001b[38;5;124m'\u001b[39m))\n\u001b[0;32m----> 8\u001b[0m base_model \u001b[38;5;241m=\u001b[39m \u001b[43mVGG19\u001b[49m(weights\u001b[38;5;241m=\u001b[39m\u001b[38;5;124m'\u001b[39m\u001b[38;5;124mimagenet\u001b[39m\u001b[38;5;124m'\u001b[39m, \n\u001b[1;32m      9\u001b[0m                                 include_top\u001b[38;5;241m=\u001b[39m\u001b[38;5;28;01mFalse\u001b[39;00m, \n\u001b[1;32m     10\u001b[0m                                 input_shape\u001b[38;5;241m=\u001b[39m(\u001b[38;5;241m224\u001b[39m, \u001b[38;5;241m224\u001b[39m, \u001b[38;5;241m3\u001b[39m))\n\u001b[1;32m     11\u001b[0m base_model\u001b[38;5;241m.\u001b[39mtrainable \u001b[38;5;241m=\u001b[39m \u001b[38;5;28;01mFalse\u001b[39;00m\n\u001b[1;32m     14\u001b[0m model\u001b[38;5;241m.\u001b[39madd(base_model)\n",
      "\u001b[0;31mNameError\u001b[0m: name 'VGG19' is not defined"
     ]
    }
   ],
   "source": [
    "# Sequential\n",
    "model = Sequential()\n",
    "input_shape = (224, 224, 4)\n",
    "model.add(Conv2D(3, kernel_size=(7, 7), activation='relu', input_shape=input_shape,padding='same'))\n",
    "\n",
    "\n",
    "\n",
    "base_model = InceptionV3(weights='imagenet', \n",
    "                                include_top=False, \n",
    "                                input_shape=(224, 224, 3))\n",
    "base_model.trainable = False\n",
    "\n",
    "\n",
    "model.add(base_model)\n",
    "model.add(Flatten())\n",
    "model.add(Dense(1024, activation='relu'))\n",
    "model.add(Dropout(0.2))\n",
    "model.add(Dense(NCLASSES, activation='softmax'))\n",
    "#lossfunc = tf.keras.losses.CategoricalCrossentropy(from_logits=True)\n",
    "model.compile(optimizer = 'adam', loss = 'sparse_categorical_crossentropy', metrics = tf.keras.metrics.TopKCategoricalAccuracy(k=5))\n",
    "\n",
    "log_dir = \"logs/fit/\" + datetime.datetime.now().strftime(\"%Y%m%d-%H%M%S\")\n",
    "tensorboard_callback = tf.keras.callbacks.TensorBoard(log_dir=log_dir, histogram_freq=1)\n",
    "\n"
   ]
  },
  {
   "cell_type": "code",
   "execution_count": null,
   "id": "e1a5224f-1b2f-4339-95d4-848f15c855b9",
   "metadata": {},
   "outputs": [],
   "source": [
    "model.summary()"
   ]
  },
  {
   "cell_type": "code",
   "execution_count": null,
   "id": "6bd0e300-2408-418f-a76f-100969b0a6f5",
   "metadata": {},
   "outputs": [],
   "source": [
    "inception =  model.fit(\n",
    "        x=pickle_in_four_channels_train_load, \n",
    "        y=train_labels_array_float,\n",
    "        validation_data=(pickle_in_four_channels_validation_load,validation_labels_array_float),\n",
    "        steps_per_epoch=(TRAINING_SIZE // BATCH_SIZE), \n",
    "        epochs=10,\n",
    "        callbacks=[tensorboard_callback])"
   ]
  },
  {
   "cell_type": "code",
   "execution_count": null,
   "id": "a2a89382-1edc-4d33-ba9a-069a59bb37ab",
   "metadata": {},
   "outputs": [],
   "source": [
    "#Get probabilities for all turtle id's\n",
    "y_preds = model.predict(pickle_in_four_channels_test_load)"
   ]
  },
  {
   "cell_type": "markdown",
   "id": "8772310c-d8a5-4a40-a9ad-f2c78136325f",
   "metadata": {},
   "source": [
    "Fit the test data:"
   ]
  },
  {
   "cell_type": "code",
   "execution_count": null,
   "id": "76e453e0-8514-4233-b53b-59461775847e",
   "metadata": {},
   "outputs": [],
   "source": [
    "#Get indices from top 5 predictions\n",
    "# Corrected: [:,:-6:-1] instead of [:,-5:]\n",
    "y_preds_sorted = np.argsort(y_preds, axis=1)[:,:-6:-1]\n",
    "\n",
    "#Save indices of top 5 predictions as dataframe\n",
    "df = pd.DataFrame(y_preds_sorted)"
   ]
  },
  {
   "cell_type": "code",
   "execution_count": null,
   "id": "85c61b17-9970-4cbe-9821-eceb4b4d6961",
   "metadata": {},
   "outputs": [],
   "source": [
    "#Create a DataFrame with top 5 predictions in submission form\n",
    "list = []\n",
    "array = []\n",
    "for line in y_preds_sorted:\n",
    "    for id in line:\n",
    "        list.append(CLASS_NAMES[id])\n",
    "    array.append(list)\n",
    "    list = []\n",
    "\n",
    "titles = ['prediction1', 'prediction2','prediction3','prediction4','prediction5']\n",
    "\n",
    "submission = pd.DataFrame(array, columns= titles)\n",
    "\n",
    "#Insert image_ids from test_data\n",
    "test_data = pd.read_csv('../data/test.csv')\n",
    "submission.insert(loc=0, column='image_id', value=test_data['image_id'])"
   ]
  },
  {
   "cell_type": "code",
   "execution_count": null,
   "id": "2ebc6d90-a134-4493-958a-7d581b64457d",
   "metadata": {},
   "outputs": [],
   "source": [
    "#Save submission data as CSV\n",
    "submission.to_csv('../data/submission_hog_test.csv', index = False)"
   ]
  },
  {
   "cell_type": "markdown",
   "id": "62b02add-bb08-4dc8-b8cb-4a9a8d8835fe",
   "metadata": {},
   "source": [
    "### Auxiliary Labels"
   ]
  },
  {
   "cell_type": "markdown",
   "id": "5f8ba522-51e8-4be2-b1f5-0add51f69f78",
   "metadata": {},
   "source": [
    "Following https://www.pyimagesearch.com/2019/02/04/keras-multiple-inputs-and-mixed-data/\n",
    "\n",
    "First, we load the labels, with train-validation split:"
   ]
  },
  {
   "cell_type": "code",
   "execution_count": 18,
   "id": "82f5d12b-5572-4b16-b5cc-5f97feaf7416",
   "metadata": {},
   "outputs": [],
   "source": [
    "train_data_locations = train_data['image_location'][0:lines]\n",
    "train_data_locations = train_data_locations.apply(lambda x: x.lower())\n",
    "train_data_locations = train_data_locations.tolist()\n",
    "\n",
    "validation_data_locations = train_data['image_location'][lines:]\n",
    "validation_data_locations = validation_data_locations.apply(lambda x: x.lower())\n",
    "validation_data_locations = validation_data_locations.tolist()"
   ]
  },
  {
   "cell_type": "code",
   "execution_count": 19,
   "id": "24b7888b-3a30-40b9-9118-ca1d6ac585d9",
   "metadata": {},
   "outputs": [],
   "source": [
    "#Convert to integers if necessary\n",
    "for i in range(len(train_data_locations)):\n",
    "    if train_data_locations[i] == 'top':\n",
    "        train_data_locations[i] = int(0)\n",
    "    elif train_data_locations[i] == 'left':\n",
    "        train_data_locations[i] = int(1)\n",
    "    elif train_data_locations[i] == 'right':\n",
    "        train_data_locations[i] = int(2)\n",
    "            \n",
    "for i in range(len(validation_data_locations)):\n",
    "    if validation_data_locations[i] == 'top':\n",
    "        validation_data_locations[i] = int(0)\n",
    "    elif validation_data_locations[i] == 'left':\n",
    "        validation_data_locations[i] = int(1)\n",
    "    elif validation_data_locations[i] == 'right':\n",
    "        validation_data_locations[i] = int(2)"
   ]
  },
  {
   "cell_type": "code",
   "execution_count": null,
   "id": "a4989bd5-cfd6-4244-89c4-da485a03dfb2",
   "metadata": {},
   "outputs": [],
   "source": []
  },
  {
   "cell_type": "code",
   "execution_count": null,
   "id": "4948c659-1e1b-4547-9af8-bb7144076c92",
   "metadata": {},
   "outputs": [],
   "source": []
  },
  {
   "cell_type": "code",
   "execution_count": null,
   "id": "ef8f78bd-882d-40af-82ce-a0fbf61be18d",
   "metadata": {},
   "outputs": [],
   "source": []
  },
  {
   "cell_type": "code",
   "execution_count": null,
   "id": "7c6f50f3-7e43-48f5-ac13-e8a7a7758a8a",
   "metadata": {},
   "outputs": [],
   "source": []
  },
  {
   "cell_type": "code",
   "execution_count": null,
   "id": "bd88aa1b-7081-48fc-a145-3491ff857f36",
   "metadata": {},
   "outputs": [],
   "source": []
  },
  {
   "cell_type": "code",
   "execution_count": null,
   "id": "db896c5f-d2be-4252-9bde-e5ae628b5b85",
   "metadata": {},
   "outputs": [],
   "source": []
  },
  {
   "cell_type": "code",
   "execution_count": null,
   "id": "84a1d72a-341d-40b6-a888-09ce6d20e2c5",
   "metadata": {},
   "outputs": [],
   "source": []
  },
  {
   "cell_type": "code",
   "execution_count": null,
   "id": "c6eb72d5-f7dc-4f01-84b4-9af05186bbef",
   "metadata": {},
   "outputs": [],
   "source": []
  },
  {
   "cell_type": "code",
   "execution_count": null,
   "id": "035eed90-d20b-47b3-b5dd-5422ec036e7f",
   "metadata": {},
   "outputs": [],
   "source": []
  },
  {
   "cell_type": "code",
   "execution_count": null,
   "id": "32f37552-0120-4ffd-8f93-42c971c6761a",
   "metadata": {},
   "outputs": [],
   "source": []
  },
  {
   "cell_type": "code",
   "execution_count": null,
   "id": "bda3ead8-47ae-49d0-aa7b-056a9997199b",
   "metadata": {},
   "outputs": [],
   "source": []
  },
  {
   "cell_type": "code",
   "execution_count": 214,
   "id": "e5b41bda-f838-493b-92c8-d299c4cabcbb",
   "metadata": {},
   "outputs": [],
   "source": [
    "def create_mlp(dim):\n",
    "    # define our MLP network\n",
    "    model = Sequential()\n",
    "    input_shape = (224, 224, 4)\n",
    "    model.add(Conv2D(3, kernel_size=(7, 7), activation='relu', input_shape=input_shape,padding='same'))\n",
    "\n",
    "    base_model = VGG19(weights='imagenet', \n",
    "                                    include_top=False, \n",
    "                                    input_shape=(224, 224, 3))\n",
    "    base_model.trainable = False\n",
    "\n",
    "    model.add(base_model)\n",
    "    model.add(Flatten())\n",
    "    \n",
    "    model.add(Dense(8, input_dim=dim, activation=\"relu\"))\n",
    "    model.add(Dense(4, activation=\"relu\"))\n",
    "\n",
    "    # return our model\n",
    "    return model"
   ]
  },
  {
   "cell_type": "code",
   "execution_count": 215,
   "id": "ed50d722-a26c-44ec-982c-26bef5a54ebf",
   "metadata": {},
   "outputs": [],
   "source": [
    "# Probiere hier Sequential weil es klappte vorher\n",
    "# Sequential\n",
    "def create_cnn():\n",
    "    model = Sequential()\n",
    "    input_shape = (224, 224, 1)\n",
    "    model.add(Conv2D(3, kernel_size=(7, 7), activation='relu', input_shape=input_shape,padding='same'))\n",
    "\n",
    "    base_model2 = InceptionV3(weights='imagenet', \n",
    "                                    include_top=False, \n",
    "                                    input_shape=(224, 224, 3))\n",
    "    base_model2.trainable = False\n",
    "\n",
    "    model.add(base_model)\n",
    "    model.add(Flatten())\n",
    "    model.add(Dense(1024, activation='relu'))\n",
    "    model.add(Dropout(0.2))\n",
    "    model.add(Dense(4, activation=\"relu\"))\n",
    "    #model.add(Dense(NCLASSES, activation='softmax'))\n",
    "    #lossfunc = tf.keras.losses.CategoricalCrossentropy(from_logits=True)\n",
    "    return model"
   ]
  },
  {
   "cell_type": "code",
   "execution_count": 216,
   "id": "6ef42d16-a1b3-4d55-8949-fd0f902ca4a6",
   "metadata": {},
   "outputs": [],
   "source": [
    "# create the MLP and CNN models\n",
    "mlp = create_mlp(len(train_data_locations))\n",
    "cnn = create_cnn()\n",
    "\n",
    "# create the input to our final set of layers as the *output* of both the MLP and CNN\n",
    "combinedInput = concatenate([mlp.output, cnn.output])\n",
    "\n",
    "# our final FC layer head will have two dense layers, the final one being our regression head\n",
    "#x = Dense(4, activation=\"relu\")(combinedInput)\n",
    "#x = Dense(1, activation=\"linear\")(x)\n",
    "x = Dense(4, activation=\"relu\")(combinedInput)\n",
    "x = Dense(NCLASSES, activation=\"relu\")(x)\n",
    "# our final model will accept categorical/numerical data on the MLP\n",
    "# input and images on the CNN input, outputting a single value (the\n",
    "# predicted price of the house)\n",
    "#model = Model(inputs=[mlp.input, cnn.input], outputs=x)\n",
    "model = tf.keras.models.Model(inputs=[mlp.input, cnn.input], outputs=x)"
   ]
  },
  {
   "cell_type": "code",
   "execution_count": 217,
   "id": "a47c6056-ab4d-4fd2-b8eb-90deaebe2c52",
   "metadata": {},
   "outputs": [],
   "source": [
    "model.compile(optimizer = 'adam', loss = 'sparse_categorical_crossentropy', metrics = tf.keras.metrics.TopKCategoricalAccuracy(k=5))\n",
    "log_dir = \"logs/fit/\" + datetime.datetime.now().strftime(\"%Y%m%d-%H%M%S\")\n",
    "tensorboard_callback = tf.keras.callbacks.TensorBoard(log_dir=log_dir, histogram_freq=1)"
   ]
  },
  {
   "cell_type": "code",
   "execution_count": null,
   "id": "a48e8dde-48ea-4245-bdfd-645167f5554a",
   "metadata": {},
   "outputs": [],
   "source": [
    "combined = model.fit(\n",
    "    x = [pickle_in_four_channels_train_load,pickle_in_four_channels_train_load],\n",
    "    y = train_labels_array_float,\n",
    "    validation_data=([pickle_in_four_channels_validation_load, pickle_in_four_channels_validation_load], validation_labels_array_float),\n",
    "    steps_per_epoch=(TRAINING_SIZE // BATCH_SIZE), \n",
    "    epochs=10,\n",
    "    callbacks=[tensorboard_callback])\n",
    "\n",
    "#model.fit(\n",
    "#\tx=[trainAttrX, trainImagesX], y=trainY,\n",
    "#\tvalidation_data=([testAttrX, testImagesX], testY),\n",
    "#\tepochs=200, batch_size=8)"
   ]
  },
  {
   "cell_type": "code",
   "execution_count": null,
   "id": "7a07e0b2-af95-4f1c-950a-f5dcec2269cf",
   "metadata": {},
   "outputs": [],
   "source": [
    "import tensorflow as tf\n",
    "\n",
    "# Image\n",
    "input_1 = tf.keras.layers.Input(shape=(28, 28, 1))\n",
    "conv2d_1 = tf.keras.layers.Conv2D(64, kernel_size=3,\n",
    "                                  activation=tf.keras.activations.relu)(input_1)\n",
    "\n",
    "# Second conv layer :\n",
    "conv2d_2 = tf.keras.layers.Conv2D(32, kernel_size=3,\n",
    "                                  activation=tf.keras.activations.relu)(conv2d_1)\n",
    "\n",
    "# Flatten layer :\n",
    "flatten = tf.keras.layers.Flatten()(conv2d_2)\n",
    "\n",
    "# The other input\n",
    "input_2 = tf.keras.layers.Input(shape=(1,))\n",
    "dense_2 = tf.keras.layers.Dense(5, activation=tf.keras.activations.relu)(input_2)\n",
    "\n",
    "# Concatenate\n",
    "concat = tf.keras.layers.Concatenate()([flatten, dense_2])\n",
    "\n",
    "n_classes = 4\n",
    "# output layer\n",
    "output = tf.keras.layers.Dense(units=n_classes,\n",
    "                               activation=tf.keras.activations.softmax)(concat)\n",
    "\n",
    "full_model = tf.keras.Model(inputs=[input_1, input_2], outputs=[output])\n",
    "\n",
    "print(full_model.summary())"
   ]
  },
  {
   "cell_type": "code",
   "execution_count": null,
   "id": "fe5cac98-f244-4641-82a0-307399d2c694",
   "metadata": {},
   "outputs": [],
   "source": []
  },
  {
   "cell_type": "code",
   "execution_count": null,
   "id": "05ba7d3e-c82c-4c05-9224-925fc65aa3d4",
   "metadata": {},
   "outputs": [],
   "source": []
  },
  {
   "cell_type": "code",
   "execution_count": null,
   "id": "42872be8-bd4f-49e6-a243-440687f45b7d",
   "metadata": {},
   "outputs": [],
   "source": []
  },
  {
   "cell_type": "code",
   "execution_count": null,
   "id": "77cd031a-25dc-456f-833f-c53abf65444c",
   "metadata": {},
   "outputs": [],
   "source": []
  },
  {
   "cell_type": "code",
   "execution_count": null,
   "id": "61d7cfcf-f95c-477c-bab7-4563c6ddad34",
   "metadata": {},
   "outputs": [],
   "source": []
  },
  {
   "cell_type": "code",
   "execution_count": null,
   "id": "d0869748-f172-494e-a960-5e4c8bd8d929",
   "metadata": {},
   "outputs": [],
   "source": []
  },
  {
   "cell_type": "code",
   "execution_count": null,
   "id": "6d7d4e62-8dd3-49c0-9115-736fcedc91fd",
   "metadata": {},
   "outputs": [],
   "source": []
  },
  {
   "cell_type": "code",
   "execution_count": null,
   "id": "d524da1a-e30a-459e-bdb3-f39a23ee6096",
   "metadata": {},
   "outputs": [],
   "source": []
  },
  {
   "cell_type": "code",
   "execution_count": null,
   "id": "40d3c00f-1317-4eaf-b262-ec6da0c4b04a",
   "metadata": {},
   "outputs": [],
   "source": []
  },
  {
   "cell_type": "code",
   "execution_count": null,
   "id": "5eac4247-8d6a-40da-aa00-cf0e54f5b41a",
   "metadata": {},
   "outputs": [],
   "source": []
  },
  {
   "cell_type": "code",
   "execution_count": 123,
   "id": "4d52e295-24ca-4410-bdbd-c1ee3a778b3f",
   "metadata": {},
   "outputs": [
    {
     "data": {
      "image/png": "[encoded data removed]",
      "text/plain": [
       "<Figure size 432x288 with 1 Axes>"
      ]
     },
     "metadata": {
      "needs_background": "light"
     },
     "output_type": "display_data"
    }
   ],
   "source": [
    "import numpy as np\n",
    "import matplotlib.pyplot as plt\n",
    "\n",
    "x = range(len(train_labels_list_float))\n",
    "y = train_labels_list_float\n",
    "\n",
    "plt.scatter(x, y,marker=\".\")\n",
    "plt.show()"
   ]
  },
  {
   "cell_type": "markdown",
   "id": "02590b61-f51c-4841-9f7f-16d677ff3f53",
   "metadata": {},
   "source": [
    "### Visualize HOG images"
   ]
  },
  {
   "cell_type": "code",
   "execution_count": null,
   "id": "71bbca1c-cf32-4cd6-bd1c-07abd568818f",
   "metadata": {},
   "outputs": [],
   "source": [
    "import matplotlib.pyplot as plt\n",
    "from skimage.feature import hog\n",
    "from skimage import data, exposure\n",
    "\n",
    "for i in range(3):\n",
    "    fig, (ax1, ax2) = plt.subplots(1, 2, figsize=(8, 4), sharex=True, sharey=True)\n",
    "    ax1.axis('off')\n",
    "    ax1.imshow(train_generator[0][i], cmap=plt.cm.gray)\n",
    "    ax1.set_title('Input image')\n",
    "\n",
    "# Rescale histogram for better display\n",
    "    hog_image_rescaled = exposure.rescale_intensity(train_hog_2d[i], in_range=(0, 10))\n",
    "\n",
    "    ax2.axis('off')\n",
    "    ax2.imshow(train_hog_2d[i], cmap=plt.cm.gray)\n",
    "    ax2.set_title('Histogram of Oriented Gradients')\n",
    "    plt.show()"
   ]
  },
  {
   "cell_type": "code",
   "execution_count": null,
   "id": "8a8ea849-f651-4729-944d-06cc4612475a",
   "metadata": {},
   "outputs": [],
   "source": []
  }
 ],
 "metadata": {
  "kernelspec": {
   "display_name": "Python 3 (ipykernel)",
   "language": "python",
   "name": "python3"
  },
  "language_info": {
   "codemirror_mode": {
    "name": "ipython",
    "version": 3
   },
   "file_extension": ".py",
   "mimetype": "text/x-python",
   "name": "python",
   "nbconvert_exporter": "python",
   "pygments_lexer": "ipython3",
   "version": "3.9.4"
  }
 },
 "nbformat": 4,
 "nbformat_minor": 5
}
