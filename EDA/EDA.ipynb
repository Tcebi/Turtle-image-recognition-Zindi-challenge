{
 "cells": [
  {
   "cell_type": "markdown",
   "id": "92815939-cbcb-4a36-8c54-726401ce4df5",
   "metadata": {},
   "source": [
    "## Schwierigkeiten bei den Fotos\n",
    "\n",
    "* Sand im Gesicht (z.B. ID_0FEWYAAG)\n",
    "* Unschärfe\n",
    "* Gras im Vordergrund\n",
    "* Unterschiedliche Farben der dunklen Bereiche (orange bis schwarz)\n",
    "* Belichtungen (besonders Überbelichtung und starke Unterbelichtung)\n",
    "* Verwackelte Schildkröten\n",
    "* Helle Fäden\n",
    "* Abbröckelnde Haut\n",
    "* Bein mit Maserung im Hintergrund\n",
    "* Datum im Bild\n",
    "* Schwach ausgebildetes Muster\n",
    "* Ganze Schildkröte im Bild (ID_0RNNI62X)\n",
    "* Kopf nimmt nur einen kleinen Teil des Bildes ein (ID_0TN13JTG)"
   ]
  },
  {
   "cell_type": "code",
   "execution_count": 1,
   "id": "354e4a2a-94e4-4047-9d8d-14bb582521ef",
   "metadata": {},
   "outputs": [],
   "source": [
    "import pandas as pd\n",
    "import numpy as np\n",
    "import seaborn as sns\n",
    "import matplotlib.pyplot as plt"
   ]
  },
  {
   "cell_type": "code",
   "execution_count": 2,
   "id": "1e769cba-3554-413c-a5d9-fce8053c6d64",
   "metadata": {},
   "outputs": [],
   "source": [
    "df_train = pd.read_csv('../data/train.csv')\n",
    "df_test = pd.read_csv('../data/test.csv')\n",
    "df_extra = pd.read_csv('../data/extra_images.csv')"
   ]
  },
  {
   "cell_type": "markdown",
   "id": "dae63faa-e081-4aa6-99cd-82fa88682a53",
   "metadata": {},
   "source": [
    "## Head"
   ]
  },
  {
   "cell_type": "code",
   "execution_count": 3,
   "id": "f272a4ae-8826-4fc7-8162-9ee0ac673b4b",
   "metadata": {},
   "outputs": [
    {
     "data": {
      "text/html": [
       "<div>\n",
       "<style scoped>\n",
       "    .dataframe tbody tr th:only-of-type {\n",
       "        vertical-align: middle;\n",
       "    }\n",
       "\n",
       "    .dataframe tbody tr th {\n",
       "        vertical-align: top;\n",
       "    }\n",
       "\n",
       "    .dataframe thead th {\n",
       "        text-align: right;\n",
       "    }\n",
       "</style>\n",
       "<table border=\"1\" class=\"dataframe\">\n",
       "  <thead>\n",
       "    <tr style=\"text-align: right;\">\n",
       "      <th></th>\n",
       "      <th>image_id</th>\n",
       "      <th>image_location</th>\n",
       "      <th>turtle_id</th>\n",
       "    </tr>\n",
       "  </thead>\n",
       "  <tbody>\n",
       "    <tr>\n",
       "      <th>0</th>\n",
       "      <td>ID_2RK4WLN8</td>\n",
       "      <td>top</td>\n",
       "      <td>t_id_VP2NW7aV</td>\n",
       "    </tr>\n",
       "    <tr>\n",
       "      <th>1</th>\n",
       "      <td>ID_VVW0QXLX</td>\n",
       "      <td>left</td>\n",
       "      <td>t_id_qZ0iZYsC</td>\n",
       "    </tr>\n",
       "    <tr>\n",
       "      <th>2</th>\n",
       "      <td>ID_RVATH2HZ</td>\n",
       "      <td>Right</td>\n",
       "      <td>t_id_3b65X5Lw</td>\n",
       "    </tr>\n",
       "    <tr>\n",
       "      <th>3</th>\n",
       "      <td>ID_2GB90GPS</td>\n",
       "      <td>left</td>\n",
       "      <td>t_id_YjXYTCGC</td>\n",
       "    </tr>\n",
       "    <tr>\n",
       "      <th>4</th>\n",
       "      <td>ID_LM6S0B1M</td>\n",
       "      <td>top</td>\n",
       "      <td>t_id_d6aYXtor</td>\n",
       "    </tr>\n",
       "  </tbody>\n",
       "</table>\n",
       "</div>"
      ],
      "text/plain": [
       "      image_id image_location      turtle_id\n",
       "0  ID_2RK4WLN8            top  t_id_VP2NW7aV\n",
       "1  ID_VVW0QXLX           left  t_id_qZ0iZYsC\n",
       "2  ID_RVATH2HZ          Right  t_id_3b65X5Lw\n",
       "3  ID_2GB90GPS           left  t_id_YjXYTCGC\n",
       "4  ID_LM6S0B1M            top  t_id_d6aYXtor"
      ]
     },
     "execution_count": 3,
     "metadata": {},
     "output_type": "execute_result"
    }
   ],
   "source": [
    "df_train.head()"
   ]
  },
  {
   "cell_type": "code",
   "execution_count": 4,
   "id": "1b715be5-3fb0-4a79-ba0a-198bb7ac1ff3",
   "metadata": {},
   "outputs": [
    {
     "data": {
      "text/html": [
       "<div>\n",
       "<style scoped>\n",
       "    .dataframe tbody tr th:only-of-type {\n",
       "        vertical-align: middle;\n",
       "    }\n",
       "\n",
       "    .dataframe tbody tr th {\n",
       "        vertical-align: top;\n",
       "    }\n",
       "\n",
       "    .dataframe thead th {\n",
       "        text-align: right;\n",
       "    }\n",
       "</style>\n",
       "<table border=\"1\" class=\"dataframe\">\n",
       "  <thead>\n",
       "    <tr style=\"text-align: right;\">\n",
       "      <th></th>\n",
       "      <th>image_id</th>\n",
       "      <th>image_location</th>\n",
       "    </tr>\n",
       "  </thead>\n",
       "  <tbody>\n",
       "    <tr>\n",
       "      <th>0</th>\n",
       "      <td>ID_6NEDKOYZ</td>\n",
       "      <td>top</td>\n",
       "    </tr>\n",
       "    <tr>\n",
       "      <th>1</th>\n",
       "      <td>ID_57QZ4S9N</td>\n",
       "      <td>left</td>\n",
       "    </tr>\n",
       "    <tr>\n",
       "      <th>2</th>\n",
       "      <td>ID_OCGGJS5X</td>\n",
       "      <td>left</td>\n",
       "    </tr>\n",
       "    <tr>\n",
       "      <th>3</th>\n",
       "      <td>ID_R2993S3S</td>\n",
       "      <td>top</td>\n",
       "    </tr>\n",
       "    <tr>\n",
       "      <th>4</th>\n",
       "      <td>ID_2E011NB0</td>\n",
       "      <td>left</td>\n",
       "    </tr>\n",
       "  </tbody>\n",
       "</table>\n",
       "</div>"
      ],
      "text/plain": [
       "      image_id image_location\n",
       "0  ID_6NEDKOYZ            top\n",
       "1  ID_57QZ4S9N           left\n",
       "2  ID_OCGGJS5X           left\n",
       "3  ID_R2993S3S            top\n",
       "4  ID_2E011NB0           left"
      ]
     },
     "execution_count": 4,
     "metadata": {},
     "output_type": "execute_result"
    }
   ],
   "source": [
    "df_test.head()"
   ]
  },
  {
   "cell_type": "code",
   "execution_count": 5,
   "id": "eaccf488-248f-4f8f-b174-cfa53fb229c5",
   "metadata": {},
   "outputs": [
    {
     "data": {
      "text/html": [
       "<div>\n",
       "<style scoped>\n",
       "    .dataframe tbody tr th:only-of-type {\n",
       "        vertical-align: middle;\n",
       "    }\n",
       "\n",
       "    .dataframe tbody tr th {\n",
       "        vertical-align: top;\n",
       "    }\n",
       "\n",
       "    .dataframe thead th {\n",
       "        text-align: right;\n",
       "    }\n",
       "</style>\n",
       "<table border=\"1\" class=\"dataframe\">\n",
       "  <thead>\n",
       "    <tr style=\"text-align: right;\">\n",
       "      <th></th>\n",
       "      <th>image_id</th>\n",
       "      <th>turtle_id</th>\n",
       "    </tr>\n",
       "  </thead>\n",
       "  <tbody>\n",
       "    <tr>\n",
       "      <th>0</th>\n",
       "      <td>ID_Y0KYE5XD</td>\n",
       "      <td>t_id_he7JTQxO</td>\n",
       "    </tr>\n",
       "    <tr>\n",
       "      <th>1</th>\n",
       "      <td>ID_8JTIQ4UI</td>\n",
       "      <td>t_id_he7JTQxO</td>\n",
       "    </tr>\n",
       "    <tr>\n",
       "      <th>2</th>\n",
       "      <td>ID_LSXPZYSN</td>\n",
       "      <td>t_id_he7JTQxO</td>\n",
       "    </tr>\n",
       "    <tr>\n",
       "      <th>3</th>\n",
       "      <td>ID_SHZ2HDSP</td>\n",
       "      <td>t_id_he7JTQxO</td>\n",
       "    </tr>\n",
       "    <tr>\n",
       "      <th>4</th>\n",
       "      <td>ID_6TOFB06E</td>\n",
       "      <td>t_id_xry0Yg2j</td>\n",
       "    </tr>\n",
       "  </tbody>\n",
       "</table>\n",
       "</div>"
      ],
      "text/plain": [
       "      image_id      turtle_id\n",
       "0  ID_Y0KYE5XD  t_id_he7JTQxO\n",
       "1  ID_8JTIQ4UI  t_id_he7JTQxO\n",
       "2  ID_LSXPZYSN  t_id_he7JTQxO\n",
       "3  ID_SHZ2HDSP  t_id_he7JTQxO\n",
       "4  ID_6TOFB06E  t_id_xry0Yg2j"
      ]
     },
     "execution_count": 5,
     "metadata": {},
     "output_type": "execute_result"
    }
   ],
   "source": [
    "df_extra.head()"
   ]
  },
  {
   "cell_type": "markdown",
   "id": "55cfa0f5-6ba5-4fd7-98b4-5f2941302c74",
   "metadata": {},
   "source": [
    "## Info"
   ]
  },
  {
   "cell_type": "code",
   "execution_count": 6,
   "id": "596a3a6c-683b-4ccd-812a-fa406dc1a66b",
   "metadata": {},
   "outputs": [
    {
     "name": "stdout",
     "output_type": "stream",
     "text": [
      "<class 'pandas.core.frame.DataFrame'>\n",
      "RangeIndex: 2145 entries, 0 to 2144\n",
      "Data columns (total 3 columns):\n",
      " #   Column          Non-Null Count  Dtype \n",
      "---  ------          --------------  ----- \n",
      " 0   image_id        2145 non-null   object\n",
      " 1   image_location  2145 non-null   object\n",
      " 2   turtle_id       2145 non-null   object\n",
      "dtypes: object(3)\n",
      "memory usage: 50.4+ KB\n"
     ]
    }
   ],
   "source": [
    "df_train.info()"
   ]
  },
  {
   "cell_type": "code",
   "execution_count": 7,
   "id": "89e65e96-9ce3-407c-80e5-c10008e03f6c",
   "metadata": {},
   "outputs": [
    {
     "name": "stdout",
     "output_type": "stream",
     "text": [
      "<class 'pandas.core.frame.DataFrame'>\n",
      "RangeIndex: 490 entries, 0 to 489\n",
      "Data columns (total 2 columns):\n",
      " #   Column          Non-Null Count  Dtype \n",
      "---  ------          --------------  ----- \n",
      " 0   image_id        490 non-null    object\n",
      " 1   image_location  490 non-null    object\n",
      "dtypes: object(2)\n",
      "memory usage: 7.8+ KB\n"
     ]
    }
   ],
   "source": [
    "df_test.info()"
   ]
  },
  {
   "cell_type": "code",
   "execution_count": 8,
   "id": "211303cc-4977-44f0-9db4-939d7fbe8f30",
   "metadata": {},
   "outputs": [
    {
     "name": "stdout",
     "output_type": "stream",
     "text": [
      "<class 'pandas.core.frame.DataFrame'>\n",
      "RangeIndex: 10658 entries, 0 to 10657\n",
      "Data columns (total 2 columns):\n",
      " #   Column     Non-Null Count  Dtype \n",
      "---  ------     --------------  ----- \n",
      " 0   image_id   10658 non-null  object\n",
      " 1   turtle_id  10658 non-null  object\n",
      "dtypes: object(2)\n",
      "memory usage: 166.7+ KB\n"
     ]
    }
   ],
   "source": [
    "df_extra.info()"
   ]
  },
  {
   "cell_type": "markdown",
   "id": "75620abd-a5b9-4523-9faf-d647b5c1abb9",
   "metadata": {},
   "source": [
    "## Image location"
   ]
  },
  {
   "cell_type": "code",
   "execution_count": 9,
   "id": "a0523ef8-e0dd-426d-a73d-51c902be609c",
   "metadata": {},
   "outputs": [],
   "source": [
    "# Convert image_location strings to lowercase.\n",
    "for df in [df_train, df_test]:\n",
    "  df.image_location = df.image_location.apply(lambda x: x.lower())"
   ]
  },
  {
   "cell_type": "code",
   "execution_count": 10,
   "id": "2b44bcd5-5896-4126-8ba3-d1bf31612987",
   "metadata": {},
   "outputs": [
    {
     "data": {
      "text/plain": [
       "right    726\n",
       "top      717\n",
       "left     702\n",
       "Name: image_location, dtype: int64"
      ]
     },
     "execution_count": 10,
     "metadata": {},
     "output_type": "execute_result"
    }
   ],
   "source": [
    "df_train['image_location'].value_counts()"
   ]
  },
  {
   "cell_type": "code",
   "execution_count": 11,
   "id": "7ca70627-0991-4f35-a475-b9e26a9723a2",
   "metadata": {},
   "outputs": [
    {
     "data": {
      "text/plain": [
       "right    170\n",
       "top      168\n",
       "left     152\n",
       "Name: image_location, dtype: int64"
      ]
     },
     "execution_count": 11,
     "metadata": {},
     "output_type": "execute_result"
    }
   ],
   "source": [
    "df_test['image_location'].value_counts()"
   ]
  },
  {
   "cell_type": "markdown",
   "id": "e0af62e0-e06e-4d84-ad65-886b670b5b11",
   "metadata": {},
   "source": [
    "---\n",
    "\n",
    "Ausrichtung der Bilder im Trainings- und Testset ist relativ ausgeglichen!\n",
    "\n",
    "---\n"
   ]
  },
  {
   "cell_type": "markdown",
   "id": "0dca7b33-8356-4de2-9190-f1705fdd5f61",
   "metadata": {},
   "source": [
    "Number of left, right and top images per turtle ID:"
   ]
  },
  {
   "cell_type": "code",
   "execution_count": 37,
   "id": "574f5bfb-7c92-4c5f-8e06-b1962260b9cd",
   "metadata": {},
   "outputs": [
    {
     "data": {
      "text/html": [
       "<div>\n",
       "<style scoped>\n",
       "    .dataframe tbody tr th:only-of-type {\n",
       "        vertical-align: middle;\n",
       "    }\n",
       "\n",
       "    .dataframe tbody tr th {\n",
       "        vertical-align: top;\n",
       "    }\n",
       "\n",
       "    .dataframe thead tr th {\n",
       "        text-align: left;\n",
       "    }\n",
       "\n",
       "    .dataframe thead tr:last-of-type th {\n",
       "        text-align: right;\n",
       "    }\n",
       "</style>\n",
       "<table border=\"1\" class=\"dataframe\">\n",
       "  <thead>\n",
       "    <tr>\n",
       "      <th></th>\n",
       "      <th colspan=\"3\" halign=\"left\">image_id</th>\n",
       "    </tr>\n",
       "    <tr>\n",
       "      <th>image_location</th>\n",
       "      <th>left</th>\n",
       "      <th>right</th>\n",
       "      <th>top</th>\n",
       "    </tr>\n",
       "    <tr>\n",
       "      <th>turtle_id</th>\n",
       "      <th></th>\n",
       "      <th></th>\n",
       "      <th></th>\n",
       "    </tr>\n",
       "  </thead>\n",
       "  <tbody>\n",
       "    <tr>\n",
       "      <th>t_id_0DPPpRUz</th>\n",
       "      <td>2</td>\n",
       "      <td>5</td>\n",
       "      <td>3</td>\n",
       "    </tr>\n",
       "    <tr>\n",
       "      <th>t_id_0g31STvR</th>\n",
       "      <td>2</td>\n",
       "      <td>8</td>\n",
       "      <td>7</td>\n",
       "    </tr>\n",
       "    <tr>\n",
       "      <th>t_id_15bo4NKD</th>\n",
       "      <td>10</td>\n",
       "      <td>12</td>\n",
       "      <td>7</td>\n",
       "    </tr>\n",
       "    <tr>\n",
       "      <th>t_id_1KIezxkh</th>\n",
       "      <td>4</td>\n",
       "      <td>5</td>\n",
       "      <td>5</td>\n",
       "    </tr>\n",
       "    <tr>\n",
       "      <th>t_id_2E8o5Jtl</th>\n",
       "      <td>5</td>\n",
       "      <td>6</td>\n",
       "      <td>6</td>\n",
       "    </tr>\n",
       "    <tr>\n",
       "      <th>...</th>\n",
       "      <td>...</td>\n",
       "      <td>...</td>\n",
       "      <td>...</td>\n",
       "    </tr>\n",
       "    <tr>\n",
       "      <th>t_id_uIlC9Gfo</th>\n",
       "      <td>7</td>\n",
       "      <td>10</td>\n",
       "      <td>9</td>\n",
       "    </tr>\n",
       "    <tr>\n",
       "      <th>t_id_uJXT7dGu</th>\n",
       "      <td>14</td>\n",
       "      <td>11</td>\n",
       "      <td>8</td>\n",
       "    </tr>\n",
       "    <tr>\n",
       "      <th>t_id_uMOOrQu7</th>\n",
       "      <td>3</td>\n",
       "      <td>3</td>\n",
       "      <td>5</td>\n",
       "    </tr>\n",
       "    <tr>\n",
       "      <th>t_id_uVgs53Cz</th>\n",
       "      <td>2</td>\n",
       "      <td>6</td>\n",
       "      <td>3</td>\n",
       "    </tr>\n",
       "    <tr>\n",
       "      <th>t_id_utw0thCe</th>\n",
       "      <td>8</td>\n",
       "      <td>12</td>\n",
       "      <td>9</td>\n",
       "    </tr>\n",
       "  </tbody>\n",
       "</table>\n",
       "<p>100 rows × 3 columns</p>\n",
       "</div>"
      ],
      "text/plain": [
       "               image_id          \n",
       "image_location     left right top\n",
       "turtle_id                        \n",
       "t_id_0DPPpRUz         2     5   3\n",
       "t_id_0g31STvR         2     8   7\n",
       "t_id_15bo4NKD        10    12   7\n",
       "t_id_1KIezxkh         4     5   5\n",
       "t_id_2E8o5Jtl         5     6   6\n",
       "...                 ...   ...  ..\n",
       "t_id_uIlC9Gfo         7    10   9\n",
       "t_id_uJXT7dGu        14    11   8\n",
       "t_id_uMOOrQu7         3     3   5\n",
       "t_id_uVgs53Cz         2     6   3\n",
       "t_id_utw0thCe         8    12   9\n",
       "\n",
       "[100 rows x 3 columns]"
      ]
     },
     "execution_count": 37,
     "metadata": {},
     "output_type": "execute_result"
    }
   ],
   "source": [
    "table = pd.pivot_table(df_train, index='turtle_id', columns=\"image_location\",aggfunc='count')\n",
    "table"
   ]
  },
  {
   "cell_type": "markdown",
   "id": "212284fa-79df-4071-9f9f-8cc8c8b82b4f",
   "metadata": {},
   "source": [
    "There are no turtles without images of a specific position:"
   ]
  },
  {
   "cell_type": "code",
   "execution_count": 41,
   "id": "d00a24fa-2017-4546-bf5e-d07420699fc2",
   "metadata": {},
   "outputs": [
    {
     "data": {
      "text/plain": [
       "          image_location\n",
       "image_id  left              0\n",
       "          right             0\n",
       "          top               0\n",
       "dtype: int64"
      ]
     },
     "execution_count": 41,
     "metadata": {},
     "output_type": "execute_result"
    }
   ],
   "source": [
    "table.isnull().sum()"
   ]
  },
  {
   "cell_type": "markdown",
   "id": "37416eb2-1974-41a2-963d-0ab95487b2c5",
   "metadata": {},
   "source": [
    "## Unique turtles"
   ]
  },
  {
   "cell_type": "code",
   "execution_count": 42,
   "id": "771b1121-490e-429d-843b-44b6b889c456",
   "metadata": {},
   "outputs": [
    {
     "data": {
      "text/plain": [
       "100"
      ]
     },
     "execution_count": 42,
     "metadata": {},
     "output_type": "execute_result"
    }
   ],
   "source": [
    "df_train['turtle_id'].nunique()"
   ]
  },
  {
   "cell_type": "code",
   "execution_count": 43,
   "id": "a30b571d-2471-4bba-849f-e5e866fc23d5",
   "metadata": {},
   "outputs": [
    {
     "data": {
      "text/plain": [
       "2231"
      ]
     },
     "execution_count": 43,
     "metadata": {},
     "output_type": "execute_result"
    }
   ],
   "source": [
    "df_extra['turtle_id'].nunique()"
   ]
  },
  {
   "cell_type": "code",
   "execution_count": 44,
   "id": "c9b2fa93-56d9-4aa9-ba93-a7753bb088e8",
   "metadata": {},
   "outputs": [],
   "source": [
    "df_full = pd.concat([df_train, df_extra], axis=0, ignore_index=True)"
   ]
  },
  {
   "cell_type": "code",
   "execution_count": 45,
   "id": "262b6bc8-1878-4ec5-a7a4-75208f468cc6",
   "metadata": {},
   "outputs": [
    {
     "name": "stdout",
     "output_type": "stream",
     "text": [
      "<class 'pandas.core.frame.DataFrame'>\n",
      "RangeIndex: 12803 entries, 0 to 12802\n",
      "Data columns (total 3 columns):\n",
      " #   Column          Non-Null Count  Dtype \n",
      "---  ------          --------------  ----- \n",
      " 0   image_id        12803 non-null  object\n",
      " 1   image_location  2145 non-null   object\n",
      " 2   turtle_id       12803 non-null  object\n",
      "dtypes: object(3)\n",
      "memory usage: 300.2+ KB\n"
     ]
    }
   ],
   "source": [
    "df_full.info()"
   ]
  },
  {
   "cell_type": "code",
   "execution_count": null,
   "id": "0ef7c7a3-f80c-47fb-a3c6-3976fd9616ef",
   "metadata": {},
   "outputs": [],
   "source": [
    "df_full"
   ]
  },
  {
   "cell_type": "code",
   "execution_count": 46,
   "id": "32591290-c095-4c24-83ae-7554026ade67",
   "metadata": {},
   "outputs": [
    {
     "data": {
      "text/plain": [
       "2265"
      ]
     },
     "execution_count": 46,
     "metadata": {},
     "output_type": "execute_result"
    }
   ],
   "source": [
    "df_full['turtle_id'].nunique()"
   ]
  },
  {
   "cell_type": "code",
   "execution_count": 47,
   "id": "68a66f8e-18a8-4da4-81d5-35ed7f69990c",
   "metadata": {},
   "outputs": [
    {
     "data": {
      "text/plain": [
       "2165"
      ]
     },
     "execution_count": 47,
     "metadata": {},
     "output_type": "execute_result"
    }
   ],
   "source": [
    "more_turtles = df_full['turtle_id'].nunique() - df_train['turtle_id'].nunique()\n",
    "more_turtles"
   ]
  },
  {
   "cell_type": "markdown",
   "id": "5ed5cfe1-1845-4126-8f90-8ed823c3ad27",
   "metadata": {},
   "source": [
    "---\n",
    "\n",
    "Es gibt 100 Turtles im Trainingsset. Im Extra-Images-Set kommen weitere 2165 Turtles dazu! Insgesamt gibt es 2265 verschiedene Turtles.\n",
    "\n",
    "---"
   ]
  },
  {
   "cell_type": "code",
   "execution_count": 48,
   "id": "3cd0732c-fee0-438d-8dda-9c2e9e2eefbd",
   "metadata": {},
   "outputs": [
    {
     "name": "stdout",
     "output_type": "stream",
     "text": [
      "The number of training images in train- and extra-set per turtle is: \n",
      "Mean is 5.65, \n",
      "Median is 3.\n",
      "Maximum is 115.\n",
      "Minimum is 1.\n"
     ]
    },
    {
     "data": {
      "image/png": "[encoded data removed]",
      "text/plain": [
       "<Figure size 432x288 with 1 Axes>"
      ]
     },
     "metadata": {
      "needs_background": "light"
     },
     "output_type": "display_data"
    }
   ],
   "source": [
    "full_images_per_turtle = pd.value_counts(df_full['turtle_id'])\n",
    "print('The number of training images in train- and extra-set per turtle is: \\n'\n",
    "      f'Mean is {round(np.mean(full_images_per_turtle), 2)}, \\n'\n",
    "      f'Median is {int(np.median(full_images_per_turtle))}.\\n'\n",
    "      f'Maximum is {int(np.max(full_images_per_turtle))}.\\n'\n",
    "      f'Minimum is {int(np.min(full_images_per_turtle))}.')\n",
    "sns.histplot(full_images_per_turtle)\n",
    "plt.xlabel('Images per train turtle in train- and extra-set')\n",
    "plt.show()"
   ]
  },
  {
   "cell_type": "code",
   "execution_count": 49,
   "id": "76576fa4-2a42-4f21-8603-7064468c9e96",
   "metadata": {},
   "outputs": [
    {
     "name": "stdout",
     "output_type": "stream",
     "text": [
      "The number of training images in train-set per turtle is: \n",
      "Mean is 21.45. \n",
      "Median is 16.\n",
      "Maximum is 77.\n",
      "Minimum is 8.\n"
     ]
    },
    {
     "data": {
      "image/png": "[encoded data removed]",
      "text/plain": [
       "<Figure size 432x288 with 1 Axes>"
      ]
     },
     "metadata": {
      "needs_background": "light"
     },
     "output_type": "display_data"
    }
   ],
   "source": [
    "train_images_per_turtle = pd.value_counts(df_train['turtle_id'])\n",
    "print('The number of training images in train-set per turtle is: \\n'\n",
    "      f'Mean is {round(np.mean(train_images_per_turtle), 2)}. \\n'\n",
    "      f'Median is {int(np.median(train_images_per_turtle))}.\\n'\n",
    "      f'Maximum is {int(np.max(train_images_per_turtle))}.\\n'\n",
    "      f'Minimum is {int(np.min(train_images_per_turtle))}.')\n",
    "sns.histplot(train_images_per_turtle)\n",
    "plt.xlabel('Images per train turtle in train-set')\n",
    "plt.show()"
   ]
  },
  {
   "cell_type": "code",
   "execution_count": 50,
   "id": "d4436be1-7659-41a6-9d75-f47461b9b81a",
   "metadata": {},
   "outputs": [
    {
     "name": "stdout",
     "output_type": "stream",
     "text": [
      "The number of training images in extra-set per turtle is: \n",
      "Mean is 4.78. \n",
      "Median is 3.\n",
      "Maximum is 68.\n",
      "Minimum is 1.\n"
     ]
    },
    {
     "data": {
      "image/png": "[encoded data removed]",
      "text/plain": [
       "<Figure size 432x288 with 1 Axes>"
      ]
     },
     "metadata": {
      "needs_background": "light"
     },
     "output_type": "display_data"
    }
   ],
   "source": [
    "extra_images_per_turtle = pd.value_counts(df_extra['turtle_id'])\n",
    "print('The number of training images in extra-set per turtle is: \\n'\n",
    "      f'Mean is {round(np.mean(extra_images_per_turtle), 2)}. \\n'\n",
    "      f'Median is {int(np.median(extra_images_per_turtle))}.\\n'\n",
    "      f'Maximum is {int(np.max(extra_images_per_turtle))}.\\n'\n",
    "      f'Minimum is {int(np.min(extra_images_per_turtle))}.')\n",
    "sns.histplot(extra_images_per_turtle)\n",
    "plt.xlabel('Images per train turtle in extra-set')\n",
    "plt.show()"
   ]
  },
  {
   "cell_type": "code",
   "execution_count": null,
   "id": "c05e0225-1a61-464a-9d22-1578d4c4fd4d",
   "metadata": {},
   "outputs": [],
   "source": []
  }
 ],
 "metadata": {
  "kernelspec": {
   "display_name": "Python 3 (ipykernel)",
   "language": "python",
   "name": "python3"
  },
  "language_info": {
   "codemirror_mode": {
    "name": "ipython",
    "version": 3
   },
   "file_extension": ".py",
   "mimetype": "text/x-python",
   "name": "python",
   "nbconvert_exporter": "python",
   "pygments_lexer": "ipython3",
   "version": "3.9.4"
  }
 },
 "nbformat": 4,
 "nbformat_minor": 5
}
