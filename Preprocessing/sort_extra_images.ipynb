{
 "cells": [
  {
   "cell_type": "markdown",
   "id": "593e6339-8e63-4fcc-aba5-21cf26fb36e0",
   "metadata": {},
   "source": [
    "# Sort images\n",
    "## Extra images\n",
    "This notebook is based on sort_images.ipynb and is adapted to sort the extra images."
   ]
  },
  {
   "cell_type": "code",
   "execution_count": 1,
   "id": "a32f1139-e183-475c-ae8d-61a2897e514e",
   "metadata": {},
   "outputs": [],
   "source": [
    "#importing the necessary modules\n",
    "import shutil\n",
    "from imutils import paths\n",
    "from random import shuffle\n",
    "import os\n",
    "from datetime import datetime\n",
    "import numpy as np\n",
    "import pathlib\n",
    "import pandas as pd"
   ]
  },
  {
   "cell_type": "markdown",
   "id": "461a6c72-215d-4438-b64c-ab227420b478",
   "metadata": {},
   "source": [
    "## Sort train images into train and validation folders"
   ]
  },
  {
   "cell_type": "code",
   "execution_count": 2,
   "id": "48fd1b0f-676f-41ad-85d7-4d165fb5ccae",
   "metadata": {},
   "outputs": [],
   "source": [
    "train_data = pd.read_csv('../data/extra_images_loc.csv')\n",
    "train_data.image_id = train_data.image_id.apply(lambda x: x.strip()+\".jpg\")\n",
    "train_data['turtle_id-image_id'] = train_data.turtle_id + \"-\" + train_data.image_id\n",
    "train_data['turtle_id-image_location'] = train_data.turtle_id + \"-\" + train_data.image_location"
   ]
  },
  {
   "cell_type": "code",
   "execution_count": 3,
   "id": "835d1a2c-96a0-4419-a743-ae9848365bc6",
   "metadata": {},
   "outputs": [
    {
     "data": {
      "text/html": [
       "<div>\n",
       "<style scoped>\n",
       "    .dataframe tbody tr th:only-of-type {\n",
       "        vertical-align: middle;\n",
       "    }\n",
       "\n",
       "    .dataframe tbody tr th {\n",
       "        vertical-align: top;\n",
       "    }\n",
       "\n",
       "    .dataframe thead th {\n",
       "        text-align: right;\n",
       "    }\n",
       "</style>\n",
       "<table border=\"1\" class=\"dataframe\">\n",
       "  <thead>\n",
       "    <tr style=\"text-align: right;\">\n",
       "      <th></th>\n",
       "      <th>image_id</th>\n",
       "      <th>image_location</th>\n",
       "      <th>turtle_id</th>\n",
       "      <th>turtle_id-image_id</th>\n",
       "      <th>turtle_id-image_location</th>\n",
       "    </tr>\n",
       "  </thead>\n",
       "  <tbody>\n",
       "    <tr>\n",
       "      <th>0</th>\n",
       "      <td>ID_Y0KYE5XD.jpg</td>\n",
       "      <td>left</td>\n",
       "      <td>t_id_he7JTQxO</td>\n",
       "      <td>t_id_he7JTQxO-ID_Y0KYE5XD.jpg</td>\n",
       "      <td>t_id_he7JTQxO-left</td>\n",
       "    </tr>\n",
       "    <tr>\n",
       "      <th>1</th>\n",
       "      <td>ID_8JTIQ4UI.jpg</td>\n",
       "      <td>top</td>\n",
       "      <td>t_id_he7JTQxO</td>\n",
       "      <td>t_id_he7JTQxO-ID_8JTIQ4UI.jpg</td>\n",
       "      <td>t_id_he7JTQxO-top</td>\n",
       "    </tr>\n",
       "    <tr>\n",
       "      <th>2</th>\n",
       "      <td>ID_LSXPZYSN.jpg</td>\n",
       "      <td>left</td>\n",
       "      <td>t_id_he7JTQxO</td>\n",
       "      <td>t_id_he7JTQxO-ID_LSXPZYSN.jpg</td>\n",
       "      <td>t_id_he7JTQxO-left</td>\n",
       "    </tr>\n",
       "    <tr>\n",
       "      <th>3</th>\n",
       "      <td>ID_SHZ2HDSP.jpg</td>\n",
       "      <td>left</td>\n",
       "      <td>t_id_he7JTQxO</td>\n",
       "      <td>t_id_he7JTQxO-ID_SHZ2HDSP.jpg</td>\n",
       "      <td>t_id_he7JTQxO-left</td>\n",
       "    </tr>\n",
       "    <tr>\n",
       "      <th>4</th>\n",
       "      <td>ID_6TOFB06E.jpg</td>\n",
       "      <td>top</td>\n",
       "      <td>t_id_xry0Yg2j</td>\n",
       "      <td>t_id_xry0Yg2j-ID_6TOFB06E.jpg</td>\n",
       "      <td>t_id_xry0Yg2j-top</td>\n",
       "    </tr>\n",
       "    <tr>\n",
       "      <th>...</th>\n",
       "      <td>...</td>\n",
       "      <td>...</td>\n",
       "      <td>...</td>\n",
       "      <td>...</td>\n",
       "      <td>...</td>\n",
       "    </tr>\n",
       "    <tr>\n",
       "      <th>10653</th>\n",
       "      <td>ID_PLYDY39S.jpg</td>\n",
       "      <td>right</td>\n",
       "      <td>t_id_9YXAIhtI</td>\n",
       "      <td>t_id_9YXAIhtI-ID_PLYDY39S.jpg</td>\n",
       "      <td>t_id_9YXAIhtI-right</td>\n",
       "    </tr>\n",
       "    <tr>\n",
       "      <th>10654</th>\n",
       "      <td>ID_1EJCP0DF.jpg</td>\n",
       "      <td>left</td>\n",
       "      <td>t_id_9YXAIhtI</td>\n",
       "      <td>t_id_9YXAIhtI-ID_1EJCP0DF.jpg</td>\n",
       "      <td>t_id_9YXAIhtI-left</td>\n",
       "    </tr>\n",
       "    <tr>\n",
       "      <th>10655</th>\n",
       "      <td>ID_WXIGYROR.jpg</td>\n",
       "      <td>top</td>\n",
       "      <td>t_id_ajlHbN2F</td>\n",
       "      <td>t_id_ajlHbN2F-ID_WXIGYROR.jpg</td>\n",
       "      <td>t_id_ajlHbN2F-top</td>\n",
       "    </tr>\n",
       "    <tr>\n",
       "      <th>10656</th>\n",
       "      <td>ID_UAU4GUNK.jpg</td>\n",
       "      <td>right</td>\n",
       "      <td>t_id_ajlHbN2F</td>\n",
       "      <td>t_id_ajlHbN2F-ID_UAU4GUNK.jpg</td>\n",
       "      <td>t_id_ajlHbN2F-right</td>\n",
       "    </tr>\n",
       "    <tr>\n",
       "      <th>10657</th>\n",
       "      <td>ID_Z02Y4N4V.jpg</td>\n",
       "      <td>left</td>\n",
       "      <td>t_id_ajlHbN2F</td>\n",
       "      <td>t_id_ajlHbN2F-ID_Z02Y4N4V.jpg</td>\n",
       "      <td>t_id_ajlHbN2F-left</td>\n",
       "    </tr>\n",
       "  </tbody>\n",
       "</table>\n",
       "<p>10658 rows × 5 columns</p>\n",
       "</div>"
      ],
      "text/plain": [
       "              image_id image_location      turtle_id  \\\n",
       "0      ID_Y0KYE5XD.jpg           left  t_id_he7JTQxO   \n",
       "1      ID_8JTIQ4UI.jpg            top  t_id_he7JTQxO   \n",
       "2      ID_LSXPZYSN.jpg           left  t_id_he7JTQxO   \n",
       "3      ID_SHZ2HDSP.jpg           left  t_id_he7JTQxO   \n",
       "4      ID_6TOFB06E.jpg            top  t_id_xry0Yg2j   \n",
       "...                ...            ...            ...   \n",
       "10653  ID_PLYDY39S.jpg          right  t_id_9YXAIhtI   \n",
       "10654  ID_1EJCP0DF.jpg           left  t_id_9YXAIhtI   \n",
       "10655  ID_WXIGYROR.jpg            top  t_id_ajlHbN2F   \n",
       "10656  ID_UAU4GUNK.jpg          right  t_id_ajlHbN2F   \n",
       "10657  ID_Z02Y4N4V.jpg           left  t_id_ajlHbN2F   \n",
       "\n",
       "                  turtle_id-image_id turtle_id-image_location  \n",
       "0      t_id_he7JTQxO-ID_Y0KYE5XD.jpg       t_id_he7JTQxO-left  \n",
       "1      t_id_he7JTQxO-ID_8JTIQ4UI.jpg        t_id_he7JTQxO-top  \n",
       "2      t_id_he7JTQxO-ID_LSXPZYSN.jpg       t_id_he7JTQxO-left  \n",
       "3      t_id_he7JTQxO-ID_SHZ2HDSP.jpg       t_id_he7JTQxO-left  \n",
       "4      t_id_xry0Yg2j-ID_6TOFB06E.jpg        t_id_xry0Yg2j-top  \n",
       "...                              ...                      ...  \n",
       "10653  t_id_9YXAIhtI-ID_PLYDY39S.jpg      t_id_9YXAIhtI-right  \n",
       "10654  t_id_9YXAIhtI-ID_1EJCP0DF.jpg       t_id_9YXAIhtI-left  \n",
       "10655  t_id_ajlHbN2F-ID_WXIGYROR.jpg        t_id_ajlHbN2F-top  \n",
       "10656  t_id_ajlHbN2F-ID_UAU4GUNK.jpg      t_id_ajlHbN2F-right  \n",
       "10657  t_id_ajlHbN2F-ID_Z02Y4N4V.jpg       t_id_ajlHbN2F-left  \n",
       "\n",
       "[10658 rows x 5 columns]"
      ]
     },
     "execution_count": 3,
     "metadata": {},
     "output_type": "execute_result"
    }
   ],
   "source": [
    "train_data"
   ]
  },
  {
   "cell_type": "code",
   "execution_count": 4,
   "id": "5c2b574b-e894-433a-9860-a7551aa8d9f0",
   "metadata": {},
   "outputs": [],
   "source": [
    "#list all pictures in the image_dir\n",
    "image_dir = '../images/'\n",
    "imagePaths = sorted(list(paths.list_images(image_dir)))"
   ]
  },
  {
   "cell_type": "code",
   "execution_count": 5,
   "id": "1e895be3-fd96-4662-aa80-6ec5695b793b",
   "metadata": {},
   "outputs": [
    {
     "data": {
      "text/plain": [
       "0        t_id_he7JTQxO\n",
       "1        t_id_he7JTQxO\n",
       "2        t_id_he7JTQxO\n",
       "3        t_id_he7JTQxO\n",
       "4        t_id_xry0Yg2j\n",
       "             ...      \n",
       "10653    t_id_9YXAIhtI\n",
       "10654    t_id_9YXAIhtI\n",
       "10655    t_id_ajlHbN2F\n",
       "10656    t_id_ajlHbN2F\n",
       "10657    t_id_ajlHbN2F\n",
       "Name: turtle_id, Length: 10658, dtype: object"
      ]
     },
     "execution_count": 5,
     "metadata": {},
     "output_type": "execute_result"
    }
   ],
   "source": [
    "# Store all the turtle_ids in train_data\n",
    "turtle_ids = train_data['turtle_id']\n",
    "turtle_ids"
   ]
  },
  {
   "cell_type": "markdown",
   "id": "b8b70d75-e294-4ec2-a361-d280fca5da91",
   "metadata": {},
   "source": [
    "## Sort images\n",
    "To sort the images you need to create a subfolder \"sorted_images\" into the main folder"
   ]
  },
  {
   "cell_type": "code",
   "execution_count": 6,
   "id": "9f26a674-4bad-469d-aecc-938a6dfc0a4d",
   "metadata": {},
   "outputs": [],
   "source": [
    "#after listing all individuals create two empty folders for each individual \n",
    "#one for the training and another for the validaiton dataset\n",
    "\n",
    "#define the folder were the training and validation datasets will be placed\n",
    "if not os.path.exists(\"../sorted_extra_images\"):\n",
    "    os.makedirs(\"../sorted_extra_images\")\n",
    "root_dir=\"../sorted_extra_images\"\n",
    "\n",
    "#loop through all individuals and create a folder for the training dataset\n",
    "# and a folder for the validation dataset\n",
    "for i in range(0, len(turtle_ids)):\n",
    "    train_dir=root_dir+\"/train/\"+turtle_ids[i]#variable with the full path of the training folder\n",
    "    val_dir=root_dir+\"/val/\"+turtle_ids[i]#variable with the full path of the validation folder\n",
    "    if not os.path.exists(train_dir):#condition for if the folder already exists\n",
    "        os.makedirs(train_dir)#create the folder\n",
    "    if not os.path.exists(val_dir):\n",
    "        os.makedirs(val_dir)   \n",
    "\n"
   ]
  },
  {
   "cell_type": "code",
   "execution_count": 7,
   "id": "2f0bc9e9-a3e5-449d-bf20-8ce312df8480",
   "metadata": {},
   "outputs": [],
   "source": [
    "# These lines will create a folder called \"new_turtle\" into our train and validation sub-folders. \n",
    "#This is necessary for our specific task. (Reminder: if the image most likelx does not belong to any turtle_id, the models needs to output \"new_turtle\")\n",
    "#These folders will not contain any pictures\n",
    "#os.makedirs(\"../sorted_images/train/new_turtle\")\n",
    "#os.makedirs(\"../sorted_images/val/new_turtle\")"
   ]
  },
  {
   "cell_type": "code",
   "execution_count": 15,
   "id": "a92a27e5-d06b-456b-a0a4-c2ee9da7af77",
   "metadata": {},
   "outputs": [
    {
     "data": {
      "text/plain": [
       "10658"
      ]
     },
     "execution_count": 15,
     "metadata": {},
     "output_type": "execute_result"
    }
   ],
   "source": [
    "#Check length of train_data, i.e. number of relevant pictures\n",
    "round(len(train_data))"
   ]
  },
  {
   "cell_type": "code",
   "execution_count": 16,
   "id": "da1fa194-42dc-4bd7-a454-dcf7b5fff1d8",
   "metadata": {},
   "outputs": [],
   "source": [
    "#in this example we are going to select 1822 (approx 86%) pictures for training and 300 (approx 14%) pictures for validation.\n",
    "#We setup the condition that the validation pictures should contain at least one picture per turtle_id for each image_location\n",
    "#as per now we have nothing to avoid having pictures that are very similiar in both datasets, which could result in overfitting the CNN\n",
    "\n",
    "#define the number of validation pictures and the number of training pictures\n",
    "N_val_pics=2231\n",
    "N_train_pics=8427\n",
    "\n",
    "#create two empty lists to store the pictures files that are going to be moved to the training \n",
    "#and validation fodlers\n",
    "training_pictures=[]\n",
    "validation_pictures=[]\n",
    "\n",
    "#list to check if combination is already used\n",
    "turtle_id=[]\n",
    "\n",
    "#loop through each individual turtle_id and secondary image_location\n",
    "for index in range(0, len(train_data)):\n",
    "    if train_data['turtle_id'][index] not in turtle_id:\n",
    "        validation_pictures.append(train_data['turtle_id-image_id'][index])\n",
    "        turtle_id.append(train_data['turtle_id'][index])\n",
    "    else:\n",
    "        training_pictures.append(train_data['turtle_id-image_id'][index])"
   ]
  },
  {
   "cell_type": "code",
   "execution_count": 13,
   "id": "633cf98a-d8d6-41f0-9173-76548ee0aa26",
   "metadata": {},
   "outputs": [
    {
     "data": {
      "text/plain": [
       "2231"
      ]
     },
     "execution_count": 13,
     "metadata": {},
     "output_type": "execute_result"
    }
   ],
   "source": [
    "#Check if number of validation pictures is indeed 300\n",
    "len(validation_pictures)"
   ]
  },
  {
   "cell_type": "code",
   "execution_count": 14,
   "id": "bc75d9e1-a0fd-4721-83fc-ae3f4fac24fc",
   "metadata": {},
   "outputs": [
    {
     "data": {
      "text/plain": [
       "8427"
      ]
     },
     "execution_count": 14,
     "metadata": {},
     "output_type": "execute_result"
    }
   ],
   "source": [
    "len(training_pictures)"
   ]
  },
  {
   "cell_type": "code",
   "execution_count": 17,
   "id": "92407290-a1af-43f1-ae76-402df33094f9",
   "metadata": {},
   "outputs": [],
   "source": [
    "val_images = []\n",
    "train_images = []\n",
    "#loop through the list of pictures\n",
    "#move the pictures files to the validation folder\n",
    "for i in range(0, len(validation_pictures)):\n",
    "    #get the picture name\n",
    "    val_file_name = image_dir + validation_pictures[i].split('-')[-1]\n",
    "    image_name = validation_pictures[i].split('-')[-1]\n",
    "\n",
    "    #create a variable with the directory and the name of the pictures file\n",
    "    output_name_val=root_dir+\"/val/\"+validation_pictures[i].split('-')[-0]+\"/\"+image_name\n",
    "       \n",
    "    #move the file\n",
    "    shutil.copy(val_file_name, output_name_val)\n",
    "    \n",
    "    # put the information into a DataFrame\n",
    "    val_images.append(image_name)\n",
    "\n",
    "for i in range(0, len(training_pictures)):\n",
    "    #get the picture name (e.g. \"01103F7D5A_2018-11-26_07-56-03.jpg\")\n",
    "    train_file_name = image_dir + training_pictures[i].split('-')[-1]\n",
    "    image_name = training_pictures[i].split('-')[-1]\n",
    "\n",
    "    #create a variable with the directory and the name of the pictures file\n",
    "    output_name_train=root_dir+\"/train/\"+training_pictures[i].split('-')[-0]+\"/\"+image_name\n",
    "       \n",
    "    #move the file\n",
    "    shutil.copy(train_file_name, output_name_train)    \n",
    "    \n",
    "    train_images.append(image_name)"
   ]
  },
  {
   "cell_type": "markdown",
   "id": "919454d5-e8cc-4f97-a8de-efb339033b90",
   "metadata": {},
   "source": [
    "## Create dataframes with new folder structure"
   ]
  },
  {
   "cell_type": "code",
   "execution_count": 19,
   "id": "f7f6ebce-b817-492d-9a34-47f7b02907ea",
   "metadata": {},
   "outputs": [],
   "source": [
    "import os\n",
    "import pandas as pd"
   ]
  },
  {
   "cell_type": "code",
   "execution_count": 18,
   "id": "d4b0500a-7599-45a9-aa1e-6ef24c73737a",
   "metadata": {},
   "outputs": [],
   "source": [
    "train = []\n",
    "train_dir=\"../sorted_extra_images/train/\"\n",
    "\n",
    "for r, d, f in os.walk(train_dir):\n",
    "    d.sort()#key=str.lower)\n",
    "    for file in sorted(f):\n",
    "        if \".jpg\" in file:\n",
    "            train.append((d,os.path.join(r,file)))\n",
    "\n",
    "df_train = pd.DataFrame(train,columns=['folder','image_id'])\n",
    "\n",
    "val = []\n",
    "val_dir=\"../sorted_extra_images/val/\"\n",
    "\n",
    "for r, d, f in os.walk(val_dir):\n",
    "    d.sort()#key=str.lower)\n",
    "    for file in sorted(f):\n",
    "        if \".jpg\" in file:\n",
    "            val.append((d,os.path.join(r,file)))\n",
    "\n",
    "df_val = pd.DataFrame(val,columns=['folder','image_id'])\n"
   ]
  },
  {
   "cell_type": "code",
   "execution_count": 20,
   "id": "936bb9a7-ae03-466f-a21d-aa2f8097ed41",
   "metadata": {},
   "outputs": [],
   "source": [
    "df_train = df_train['image_id']\n",
    "df_val = df_val['image_id']"
   ]
  },
  {
   "cell_type": "code",
   "execution_count": 21,
   "id": "8c391b2f-86ed-4886-9827-7292073a5205",
   "metadata": {},
   "outputs": [
    {
     "data": {
      "text/plain": [
       "0       ../sorted_extra_images/train/t_id_01N0gNOT/ID_...\n",
       "1       ../sorted_extra_images/train/t_id_01N0gNOT/ID_...\n",
       "2       ../sorted_extra_images/train/t_id_01N0gNOT/ID_...\n",
       "3       ../sorted_extra_images/train/t_id_01N0gNOT/ID_...\n",
       "4       ../sorted_extra_images/train/t_id_01N0gNOT/ID_...\n",
       "                              ...                        \n",
       "8422    ../sorted_extra_images/train/t_id_zqaXahAn/ID_...\n",
       "8423    ../sorted_extra_images/train/t_id_zqaXahAn/ID_...\n",
       "8424    ../sorted_extra_images/train/t_id_zqaXahAn/ID_...\n",
       "8425    ../sorted_extra_images/train/t_id_zxFUnL5e/ID_...\n",
       "8426    ../sorted_extra_images/train/t_id_zxFUnL5e/ID_...\n",
       "Name: image_id, Length: 8427, dtype: object"
      ]
     },
     "execution_count": 21,
     "metadata": {},
     "output_type": "execute_result"
    }
   ],
   "source": [
    "df_train"
   ]
  },
  {
   "cell_type": "code",
   "execution_count": 22,
   "id": "868ddfc5-eeac-42ad-b7e2-dd1b38df0d56",
   "metadata": {},
   "outputs": [],
   "source": [
    "train = []\n",
    "for line in range(len(df_train)):\n",
    "    train.append(df_train[line][-15:])\n",
    "\n",
    "val = []\n",
    "for line in range(len(df_val)):\n",
    "    val.append(df_val[line][-15:])"
   ]
  },
  {
   "cell_type": "code",
   "execution_count": 23,
   "id": "741fa2d4-4901-4852-b982-b7ab46f5aee5",
   "metadata": {},
   "outputs": [
    {
     "data": {
      "text/plain": [
       "'ID_9DUMXX40.jpg'"
      ]
     },
     "execution_count": 23,
     "metadata": {},
     "output_type": "execute_result"
    }
   ],
   "source": [
    "train[-1]"
   ]
  },
  {
   "cell_type": "code",
   "execution_count": 24,
   "id": "a3872f90-4dcc-4fd6-a54a-256b1eb60336",
   "metadata": {},
   "outputs": [],
   "source": [
    "image_location_train = []\n",
    "for i in range(len(train)):\n",
    "    for j in range(len(train_data)):\n",
    "        if train[i] in train_data['image_id'][j]: \n",
    "            image_location_train.append(train_data['image_location'][j])\n",
    "            \n",
    "d_train = {'image_id':train,'image_location':image_location_train}   \n",
    "df_train = pd.DataFrame(d_train)\n",
    "df_train.to_csv('../data/df_sorted_extra_train.csv', index = False)"
   ]
  },
  {
   "cell_type": "code",
   "execution_count": 25,
   "id": "bde54d88-e905-4336-9c4d-42c47e5bf23d",
   "metadata": {},
   "outputs": [],
   "source": [
    "image_location_val = []\n",
    "for i in range(len(val)):\n",
    "    for j in range(len(train_data)):\n",
    "        if val[i] in train_data['image_id'][j]: \n",
    "            image_location_val.append(train_data['image_location'][j])\n",
    "            \n",
    "d_val = {'image_id':val,'image_location':image_location_val}   \n",
    "df_val = pd.DataFrame(d_val)\n",
    "df_val.to_csv('../data/df_sorted_extra_val.csv', index = False)"
   ]
  }
 ],
 "metadata": {
  "kernelspec": {
   "display_name": "Python 3 (ipykernel)",
   "language": "python",
   "name": "python3"
  },
  "language_info": {
   "codemirror_mode": {
    "name": "ipython",
    "version": 3
   },
   "file_extension": ".py",
   "mimetype": "text/x-python",
   "name": "python",
   "nbconvert_exporter": "python",
   "pygments_lexer": "ipython3",
   "version": "3.9.4"
  }
 },
 "nbformat": 4,
 "nbformat_minor": 5
}
