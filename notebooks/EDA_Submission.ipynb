{
 "cells": [
  {
   "cell_type": "code",
   "execution_count": null,
   "id": "23e4ab9e-8b38-4f29-8ad1-715ab2a98eb3",
   "metadata": {},
   "outputs": [],
   "source": [
    "import pandas as pd\n",
    "import numpy as np\n",
    "import matplotlib.pyplot as plt\n",
    "from matplotlib.patches import Patch\n",
    "%matplotlib inline"
   ]
  },
  {
   "cell_type": "markdown",
   "id": "a86f7f44-27f3-41c9-994f-8736d90cb7c0",
   "metadata": {},
   "source": [
    "## Submission results"
   ]
  },
  {
   "cell_type": "code",
   "execution_count": null,
   "id": "f0181477-28bd-437a-a8e8-78e8d2d773b6",
   "metadata": {},
   "outputs": [],
   "source": [
    "results = {'Baseline': 0.0229,\n",
    "           'Baseline + augment': 0.0278,\n",
    "           \n",
    "           #Using baseline model\n",
    "           'HOG as 4th channel': 0.0346,\n",
    "           'Clustered images': 0.0202,\n",
    "           'Canny edge detection': 0.0247,\n",
    "                      \n",
    "           #Three models using location\n",
    "           'Three models for location': 0.0280,\n",
    "           \n",
    "           #Structured pipeline\n",
    "           'Sorted train/val split': 0.0416,\n",
    "           'Blur-Noise': 0.0396,\n",
    "           'Canny edge detection 2': 0.0304,\n",
    "           \n",
    "           #Structured pipeline and concatenation\n",
    "           'Images + location': 0.0357,\n",
    "           'Images + HOG': 0.0304,\n",
    "           'Images + location + HOG': 0.0265,\n",
    "           'Images + location + HOG + Canny': 0.0178\n",
    "          }\n",
    "\n",
    "comparisons = {'Zindi benchmark': 0.0387, \n",
    "               'Randomized': 0.0228,\n",
    "               'Zindi top score': 0.0752\n",
    "              }"
   ]
  },
  {
   "cell_type": "code",
   "execution_count": null,
   "id": "e672d590-63ac-4562-8203-b2910786855a",
   "metadata": {},
   "outputs": [],
   "source": [
    "color = ['coral', 'coral', 'coral', 'coral', 'coral', #Baseline\n",
    "         'gold', #Three models for location\n",
    "         'yellowgreen', 'yellowgreen', 'yellowgreen', #Structured data\n",
    "         'lightblue', 'lightblue', 'lightblue', 'lightblue'] #Concat Models\n",
    "\n",
    "plt.rcParams.update({'font.size': 14})\n",
    "\n",
    "plt.figure(figsize=(18,10))\n",
    "hbars = plt.barh(range(len(results)), list(results.values()), align='center', color=color)\n",
    "plt.yticks(range(len(results)), list(results.keys()))\n",
    "plt.axvline(x=comparisons['Zindi benchmark'], color='red')\n",
    "plt.axvline(x=comparisons['Randomized'], color='black')\n",
    "plt.axvline(x=comparisons['Zindi top score'], color='darkgreen')\n",
    "plt.bar_label(hbars, fmt='%.3f', padding=3)\n",
    "plt.text(comparisons['Zindi benchmark']+0.0002, len(results)-.5, 'Zindi Benchmark')\n",
    "plt.text(comparisons['Randomized']+0.0002, len(results)-.5, 'Randomized')\n",
    "plt.text(comparisons['Zindi top score']+0.0002, len(results)-.5, 'Zindi Top Score')\n",
    "plt.xlim(right=0.09)\n",
    "plt.xlabel('top 5 mean average precision (mAP5)')\n",
    "\n",
    "\n",
    "legend_elements = [Patch(facecolor='lightblue', label='Sorted + Concat Models'),\n",
    "                   Patch(facecolor='yellowgreen', label='Sorted'),\n",
    "                   Patch(facecolor='gold', label='3 Models'),\n",
    "                   Patch(facecolor='coral', label='Baseline'),\n",
    "                  ]\n",
    "\n",
    "# Create the figure\n",
    "#fig, ax = plt.subplots()\n",
    "plt.legend(handles=legend_elements, loc='lower right')\n",
    "\n",
    "#plt.title('Results')\n",
    "plt.show()\n",
    "#plt.savefig('results_barplot.png', bbox_inches='tight', dpi=300)"
   ]
  },
  {
   "cell_type": "code",
   "execution_count": null,
   "id": "d8ef379b-9cc5-4a7d-8b24-d083654ca198",
   "metadata": {},
   "outputs": [],
   "source": [
    "results['Zindi benchmark']"
   ]
  },
  {
   "cell_type": "markdown",
   "id": "0993d6c3-40a1-4157-aaad-a06a9484c67e",
   "metadata": {},
   "source": [
    "## EDA submission files (turtle ids)"
   ]
  },
  {
   "cell_type": "code",
   "execution_count": null,
   "id": "7ab4f309-82ff-4f3f-a869-2c9993f16688",
   "metadata": {},
   "outputs": [],
   "source": [
    "df = pd.read_csv('../data/submission.csv')\n",
    "train = pd.read_csv('../data/train_corrected.csv')"
   ]
  },
  {
   "cell_type": "code",
   "execution_count": null,
   "id": "23649b5d-7b1e-4fe0-9d8a-4e2ca7b0bd0b",
   "metadata": {},
   "outputs": [],
   "source": [
    "df"
   ]
  },
  {
   "cell_type": "code",
   "execution_count": null,
   "id": "68669a0e-500a-4461-b09c-7885e0e68f66",
   "metadata": {},
   "outputs": [],
   "source": [
    "df.nunique()"
   ]
  },
  {
   "cell_type": "code",
   "execution_count": null,
   "id": "2ef6146d-5e48-47e8-83fc-dfac6ed49078",
   "metadata": {},
   "outputs": [],
   "source": [
    "p1=df['prediction1'].value_counts()"
   ]
  },
  {
   "cell_type": "code",
   "execution_count": null,
   "id": "13c2fecb-d59c-4abd-8575-a0f7bdeb5340",
   "metadata": {},
   "outputs": [],
   "source": [
    "p2=df['prediction2'].value_counts()"
   ]
  },
  {
   "cell_type": "code",
   "execution_count": null,
   "id": "d33b7546-af11-4714-a31d-692b934d64dd",
   "metadata": {},
   "outputs": [],
   "source": [
    "p3=df['prediction3'].value_counts()"
   ]
  },
  {
   "cell_type": "code",
   "execution_count": null,
   "id": "d99bb083-a84c-448f-aafc-4c1dc95546ea",
   "metadata": {},
   "outputs": [],
   "source": [
    "p4=df['prediction4'].value_counts()"
   ]
  },
  {
   "cell_type": "code",
   "execution_count": null,
   "id": "66acc0e2-4fb5-4ec6-95b7-3dba21ddc217",
   "metadata": {},
   "outputs": [],
   "source": [
    "p5=df['prediction5'].value_counts()"
   ]
  },
  {
   "cell_type": "code",
   "execution_count": null,
   "id": "1e478ab6-cf9e-442c-b5ab-f26a90094906",
   "metadata": {},
   "outputs": [],
   "source": [
    "p_full = pd.concat([p1, p2, p3, p4, p5], axis=0)"
   ]
  },
  {
   "cell_type": "code",
   "execution_count": null,
   "id": "c1e9672e-bf0c-4417-8218-59eb415a11a8",
   "metadata": {},
   "outputs": [],
   "source": [
    "p_full.nunique()"
   ]
  },
  {
   "cell_type": "code",
   "execution_count": null,
   "id": "59ad5870-3b6e-4354-ba03-1a55a197f357",
   "metadata": {},
   "outputs": [],
   "source": [
    "df = p_full.reset_index()\n",
    "df = df.rename(columns={'index': 'turtle_id', 0: 'count'})\n",
    "df"
   ]
  },
  {
   "cell_type": "code",
   "execution_count": null,
   "id": "bd280234-f48e-442a-91cf-f2febee47e35",
   "metadata": {},
   "outputs": [],
   "source": [
    "df['turtle_id'].nunique()"
   ]
  },
  {
   "cell_type": "code",
   "execution_count": null,
   "id": "9fedc1f2-5b79-404b-9063-ae1c5507f6c0",
   "metadata": {},
   "outputs": [],
   "source": [
    "df.groupby('turtle_id').sum().sort_values(by='count')"
   ]
  },
  {
   "cell_type": "code",
   "execution_count": null,
   "id": "4b6b8436-469b-432e-8c8b-b96814dc61ba",
   "metadata": {},
   "outputs": [],
   "source": [
    "train['turtle_id'].value_counts()"
   ]
  },
  {
   "cell_type": "code",
   "execution_count": null,
   "id": "4c7b887d-a01a-4cc7-9579-2a421bac6a8a",
   "metadata": {},
   "outputs": [],
   "source": [
    "df_id = df.groupby('turtle_id').sum().sort_values(by='turtle_id').reset_index()\n",
    "train_id = pd.DataFrame(train['turtle_id'].value_counts()).reset_index()\n",
    "train_id = train_id.rename(columns={'index': 'turtle_id', 'turtle_id': 'count'}).sort_values(by='turtle_id')"
   ]
  },
  {
   "cell_type": "code",
   "execution_count": null,
   "id": "d73f04b0-b7ae-4221-a290-d8832ca9d759",
   "metadata": {},
   "outputs": [],
   "source": [
    "df_id"
   ]
  },
  {
   "cell_type": "code",
   "execution_count": null,
   "id": "ef3c4901-7370-4872-92b5-15557aebcbce",
   "metadata": {},
   "outputs": [],
   "source": [
    "train_id"
   ]
  },
  {
   "cell_type": "code",
   "execution_count": null,
   "id": "cf3ea082-4e40-4fa5-9543-ac6c1ef64a6b",
   "metadata": {},
   "outputs": [],
   "source": [
    "#pred_train = pd.concat([df_id, train_id], axis=1)\n",
    "pred_train = df_id.merge(train_id, on='turtle_id', how='outer', suffixes=('_pred', '_train'))\n",
    "pred_train"
   ]
  },
  {
   "cell_type": "code",
   "execution_count": null,
   "id": "7a654bb1-2770-4906-96aa-76d6f344cde7",
   "metadata": {},
   "outputs": [],
   "source": [
    "pred_train.sort_values(by='count_pred', ascending=False).head(20)"
   ]
  },
  {
   "cell_type": "code",
   "execution_count": null,
   "id": "9a80052d-084e-4f97-b592-09d556ffeb25",
   "metadata": {},
   "outputs": [],
   "source": [
    "pred_train.sort_values(by='count_pred', ascending=False).tail(20)"
   ]
  },
  {
   "cell_type": "code",
   "execution_count": null,
   "id": "67acc7f7-5a64-409d-9d95-ffc2c850202b",
   "metadata": {},
   "outputs": [],
   "source": [
    "pred_train.sort_values(by='count_train', ascending=False).head(20)"
   ]
  },
  {
   "cell_type": "code",
   "execution_count": null,
   "id": "8579d7f5-9f52-4e85-86e8-6f09de916a91",
   "metadata": {},
   "outputs": [],
   "source": [
    "pred_train.sort_values(by='count_train', ascending=False).tail(20)"
   ]
  },
  {
   "cell_type": "code",
   "execution_count": null,
   "id": "034bfd6e-01f4-451b-a15a-fde230000ef0",
   "metadata": {},
   "outputs": [],
   "source": []
  }
 ],
 "metadata": {
  "kernelspec": {
   "display_name": "Python 3 (ipykernel)",
   "language": "python",
   "name": "python3"
  },
  "language_info": {
   "codemirror_mode": {
    "name": "ipython",
    "version": 3
   },
   "file_extension": ".py",
   "mimetype": "text/x-python",
   "name": "python",
   "nbconvert_exporter": "python",
   "pygments_lexer": "ipython3",
   "version": "3.9.4"
  }
 },
 "nbformat": 4,
 "nbformat_minor": 5
}
