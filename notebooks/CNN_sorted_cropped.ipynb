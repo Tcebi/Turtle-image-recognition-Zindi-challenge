{
 "cells": [
  {
   "cell_type": "markdown",
   "id": "acdfb5e6-05fe-4f1e-a9c4-53f4ff510652",
   "metadata": {},
   "source": [
    "# Train CNN-Model\n",
    "\n",
    "This notebook will train our model based on pictures in our sorted_images folder and sub-folders."
   ]
  },
  {
   "cell_type": "code",
   "execution_count": null,
   "id": "5e84b761-518c-4be5-9632-bafc13cc458b",
   "metadata": {},
   "outputs": [],
   "source": [
    "#load the modules\n",
    "import keras\n",
    "from keras import models, layers\n",
    "from tensorflow.keras import regularizers\n",
    "from keras.activations import relu, softmax\n",
    "from tensorflow.keras.applications import VGG19\n",
    "from keras.models import Sequential, load_model, Model\n",
    "from tensorflow.keras.optimizers import Adam, SGD\n",
    "from keras.callbacks import ModelCheckpoint, Callback, EarlyStopping\n",
    "from keras.preprocessing.image import ImageDataGenerator\n",
    "from keras.layers import Activation, Dropout, Dense, Flatten, concatenate\n",
    "from matplotlib import pyplot as plt\n",
    "import tensorflow as tf\n",
    "import matplotlib.pyplot as plt\n",
    "import sys\n",
    "import pandas as pd\n",
    "import numpy as np\n",
    "from PIL import Image\n",
    "from tensorflow.keras.metrics import TopKCategoricalAccuracy\n",
    "\n",
    "from sklearn.preprocessing import OneHotEncoder\n",
    "\n",
    "sys.modules['Image'] = Image"
   ]
  },
  {
   "cell_type": "code",
   "execution_count": null,
   "id": "1bec197e-f4ff-42f4-af65-5a9e3bc361b6",
   "metadata": {},
   "outputs": [],
   "source": [
    "# Keras' data generator can be used to pass the images through the convolutional neural network and apply\n",
    "#rotation and zoom transformations to the images. Check https://keras.io/preprocessing/image/ for more transformations\n",
    "\n",
    "train_data = ImageDataGenerator(\n",
    "        rescale = 1./255,\n",
    "        rotation_range=40,\n",
    "        #zoom_range=0.2,\n",
    "        #width_shift_range=0.2,\n",
    "        #height_shift_range=0.2,\n",
    "        shear_range=0.2,\n",
    "        fill_mode='nearest'\n",
    ")\n",
    "\n",
    "train_generator = train_data.flow_from_directory(\n",
    "        directory=r\"../cropped_sorted/train\",\n",
    "        target_size=(224, 224),\n",
    "        batch_size=64,\n",
    "        shuffle=True)"
   ]
  },
  {
   "cell_type": "code",
   "execution_count": null,
   "id": "fe672c08-1b8b-47f8-a782-6acad1f857d7",
   "metadata": {},
   "outputs": [],
   "source": [
    "#defining the validation data generator\n",
    "val_data = ImageDataGenerator(rescale = 1./255)\n",
    "                                 \n",
    "val_generator = val_data.flow_from_directory(\n",
    "        directory=r\"../cropped_sorted/val\",\n",
    "        target_size=(224, 224),\n",
    "        batch_size=64,\n",
    "        shuffle=True)"
   ]
  },
  {
   "cell_type": "markdown",
   "id": "06dc4016-8ace-4f71-8921-6070f7d29755",
   "metadata": {},
   "source": [
    "## Convolutional neural network: \n",
    "\n",
    "### VGG19"
   ]
  },
  {
   "cell_type": "code",
   "execution_count": null,
   "id": "28c7fcb7-ed89-4479-b165-7580d66d77e3",
   "metadata": {},
   "outputs": [],
   "source": [
    "'''\n",
    "#load the pre-trained VGG19 from keras\n",
    "vgg19 = VGG19(input_shape=(224,224,3), weights='imagenet', include_top=False)\n",
    "\n",
    "#the transfer learned model should be not trainable\n",
    "for layer in vgg19.layers:\n",
    "    layer.trainable = False\n",
    "\n",
    "x = vgg19.layers[-1].output\n",
    "#add dropout and the fully connected layer\n",
    "x = Flatten()(x)\n",
    "x = Dense(1024, activation='relu')(x)\n",
    "x = Dropout(0.2)(x)\n",
    "x = Dense(1024, activation='relu')(x)\n",
    "\n",
    "#add a dense layer with a value equal to the number of classes\n",
    "predictors = Dense(100, activation='softmax')(x)\n",
    "# Create the model\n",
    "vgg19model = Model(vgg19.input, predictors)\n",
    "'''"
   ]
  },
  {
   "cell_type": "markdown",
   "id": "7c315435-72f2-48e4-9eb2-a15ca3c6bc8d",
   "metadata": {},
   "source": [
    "### Inception model"
   ]
  },
  {
   "cell_type": "code",
   "execution_count": null,
   "id": "c9f1d620-a0c3-4174-9142-af3870cd8e57",
   "metadata": {},
   "outputs": [],
   "source": [
    "from tensorflow.keras.optimizers import RMSprop\n",
    "from tensorflow.keras import datasets, layers, models\n",
    "from tensorflow.keras.applications.inception_v3 import InceptionV3"
   ]
  },
  {
   "cell_type": "code",
   "execution_count": null,
   "id": "8b027a32-d511-4905-8aef-1702c2825050",
   "metadata": {},
   "outputs": [],
   "source": [
    "inception = InceptionV3(input_shape = (224, 224, 3), include_top = False, weights = 'imagenet')\n",
    "\n",
    "#the transfer learned model should be not trainable\n",
    "for layer in inception.layers:\n",
    "    layer.trainable = False\n",
    "\n",
    "y = layers.Flatten()(inception.output)\n",
    "y = layers.Dense(1024, activation='relu', kernel_regularizer=regularizers.l2(0.0001))(y)\n",
    "y = layers.Dropout(0.2)(y)\n",
    "y = layers.Dense(1024, activation='relu', kernel_regularizer=regularizers.l2(0.0001))(y)\n",
    "\n",
    "# Add a final softmax layer with 101 nodes for classification output\n",
    "predictors = layers.Dense(100, activation='softmax')(y)\n",
    "\n",
    "inceptionmodel = Model(inception.input, predictors)"
   ]
  },
  {
   "cell_type": "code",
   "execution_count": null,
   "id": "2d907bc5-dece-457d-98cf-c581497abce2",
   "metadata": {},
   "outputs": [],
   "source": [
    "#check the model\n",
    "#inceptionmodel.summary()"
   ]
  },
  {
   "cell_type": "code",
   "execution_count": null,
   "id": "b43724f5-c39d-4599-976e-75be81ea119e",
   "metadata": {},
   "outputs": [],
   "source": [
    "# define where to save the model after each epoch\n",
    "filepath = \"../models/inception_model_cropped.h5\"\n",
    "# add a critera to save only if there was an improvement in the model comparing\n",
    "# to the previous epoch (in this caset the model is saved if there was a decrease in the loss value)\n",
    "checkpoint = ModelCheckpoint(filepath, monitor='val_loss', verbose=1, save_best_only=True, mode='min')\n",
    "# stop training if there is no improvement in model for 4 consecutives epochs.\n",
    "early_stopping_monitor = EarlyStopping(patience=4)\n",
    "callbacks_list = [checkpoint, early_stopping_monitor]"
   ]
  },
  {
   "cell_type": "code",
   "execution_count": null,
   "id": "b80676fa-cc61-4ecd-9abc-fd1e7ddca3b7",
   "metadata": {},
   "outputs": [],
   "source": [
    "# Compile the model\n",
    "inceptionmodel.compile(loss='categorical_crossentropy',\n",
    "              optimizer=Adam(lr=1e-5),#define the optimizer and the learning rate\n",
    "              metrics=tf.keras.metrics.TopKCategoricalAccuracy(k=5))"
   ]
  },
  {
   "cell_type": "code",
   "execution_count": null,
   "id": "daff2362-bed4-4fd4-b90a-f992ea6cfc12",
   "metadata": {},
   "outputs": [],
   "source": [
    "#train the model\n",
    "batch_size=64\n",
    "model_history=inceptionmodel.fit(\n",
    "        train_generator,\n",
    "        steps_per_epoch=1822//batch_size,#number of pictures in training data set divided by the batch size\n",
    "        epochs=30,\n",
    "        validation_data=val_generator,\n",
    "        validation_steps= 300// batch_size,#number of pictures in validation data set divided by the batch size\n",
    "        callbacks=callbacks_list)"
   ]
  },
  {
   "cell_type": "markdown",
   "id": "593371fe-164d-4967-a22f-974397d6ea94",
   "metadata": {},
   "source": [
    "### A second iteration with smaller learning rate "
   ]
  },
  {
   "cell_type": "code",
   "execution_count": null,
   "id": "a1eb08e3-b469-4d51-a2e5-42afd1ecd7bf",
   "metadata": {},
   "outputs": [],
   "source": [
    "# define where to save the model after each epoch\n",
    "filepath = \"../models/inception_model_cropped_lre-6.h5\"\n",
    "# add a critera to save only if there was an improvement in the model comparing\n",
    "# to the previous epoch (in this caset the model is saved if there was a decrease in the loss value)\n",
    "checkpoint = ModelCheckpoint(filepath, monitor='val_loss', verbose=1, save_best_only=True, mode='min')\n",
    "# stop training if there is no improvement in model for 3 consecutives epochs.\n",
    "early_stopping_monitor = EarlyStopping(patience=3)\n",
    "callbacks_list = [checkpoint, early_stopping_monitor]"
   ]
  },
  {
   "cell_type": "code",
   "execution_count": null,
   "id": "22e8f9fd-7ab3-42c2-95e9-a20034cb4e79",
   "metadata": {},
   "outputs": [],
   "source": [
    "#load the model\n",
    "model=load_model(\"../models/Inception_model.h5\")\n",
    "\n",
    "# Compile the model\n",
    "model.compile(loss='categorical_crossentropy',\n",
    "             optimizer=SGD(lr=1e-6),\n",
    "             metrics=tf.keras.metrics.TopKCategoricalAccuracy(k=5))\n",
    "#train the model\n",
    "batch_size=64\n",
    "model_history_2=model.fit_generator(\n",
    "        train_generator,\n",
    "    #! BEWARE: steps_per_epoch needs to be adapted: containing number of images in train // batch_size\n",
    "        steps_per_epoch=1822//batch_size,\n",
    "        epochs=20,\n",
    "        validation_data=val_generator,\n",
    "        validation_steps= 300// batch_size,\n",
    "        callbacks=callbacks_list)"
   ]
  },
  {
   "cell_type": "code",
   "execution_count": null,
   "id": "178b7a59-ef3a-4bc7-89e1-0d88c27e7b3b",
   "metadata": {},
   "outputs": [],
   "source": [
    "#size of the plots\n",
    "fig=plt.figure(figsize=(15,5))\n",
    "columns = 2\n",
    "rows = 1\n",
    "\n",
    "#plot loss\n",
    "#the accuracy and loss are stored in the \"model_history\"\n",
    "fig.add_subplot(rows, columns, 1)\n",
    "plt.plot(model_history.history['loss']+ model_history_2.history['loss']) #merge the loss from the two training steps\n",
    "plt.plot(model_history.history['val_loss']+ model_history_2.history['val_loss'])\n",
    "plt.title('loss')\n",
    "plt.ylabel('loss')\n",
    "plt.xlabel('epoch')\n",
    "plt.legend(['train', 'val'], loc='upper left')\n",
    "\n",
    "#plot accuracy\n",
    "fig.add_subplot(rows, columns, 2)\n",
    "plt.plot(model_history.history['acc']+ model_history_2.history['acc'])\n",
    "plt.plot(model_history.history['val_acc']+ model_history_2.history['val_acc'])\n",
    "plt.title('accuracy')\n",
    "plt.ylabel('accuracy')\n",
    "plt.xlabel('epoch')\n",
    "plt.legend(['train', 'val'], loc='upper left')\n",
    "plt.show()\n"
   ]
  },
  {
   "cell_type": "markdown",
   "id": "13cdcd68-f094-45c6-b9d2-6b15140e147c",
   "metadata": {},
   "source": [
    "### Testing the model + submission\n",
    "\n",
    "Prepare the data for submission"
   ]
  },
  {
   "cell_type": "code",
   "execution_count": null,
   "id": "0d11ddf2-56cf-4906-aebc-29866ab840a6",
   "metadata": {},
   "outputs": [],
   "source": [
    "#load the best saved trained model\n",
    "model=load_model(\"../models/inception_model_cropped_lre-6.h5\")"
   ]
  },
  {
   "cell_type": "code",
   "execution_count": null,
   "id": "996fab5b-aea7-4a40-809b-f18fb0ea9311",
   "metadata": {},
   "outputs": [],
   "source": [
    "val_sony_datagen1 = ImageDataGenerator(rescale = 1./255)\n",
    "val_sony_datagen = val_sony_datagen1.flow_from_directory(\n",
    "        directory=\"../cropped_sorted/test\", #This folder should contain pictures of each bird in a different subfolder (similar to the training data set)\n",
    "        target_size=(224, 224),\n",
    "        class_mode=None,\n",
    "        batch_size=490, #number of images in the testing dataset\n",
    "        shuffle=False)"
   ]
  },
  {
   "cell_type": "code",
   "execution_count": null,
   "id": "c28a46c8-d176-4d06-824b-252659f2851c",
   "metadata": {},
   "outputs": [],
   "source": [
    "#load the pictures in the testing folder. The x_batch contains the pictures and the y_batch contains the\n",
    "#identities of the individuals\n",
    "x_batch=next(val_sony_datagen)"
   ]
  },
  {
   "cell_type": "code",
   "execution_count": null,
   "id": "eea16d5e-720b-4bd0-af61-6994d31b54a8",
   "metadata": {},
   "outputs": [],
   "source": [
    "x_batch.shape"
   ]
  },
  {
   "cell_type": "code",
   "execution_count": null,
   "id": "09562fa8-122e-4c1d-93f3-44eb1a1dd216",
   "metadata": {},
   "outputs": [],
   "source": [
    "predictions_index = []\n",
    "predictions_probabilities = []\n",
    "results = []\n",
    "\n",
    "#for i in range(0,len(x_batch)):\n",
    "for i in range(0,len(x_batch)):    \n",
    "    probabilities_sorted = []\n",
    "    index_sorted = [] \n",
    "    image=np.expand_dims(x_batch[i], axis=0)\n",
    "    result=model.predict(image)\n",
    "    results.append(result)\n",
    "    y_preds_indices = np.argsort(result)[:,-5:]\n",
    "    top_5_values = [result[0][j] for j in y_preds_indices]\n",
    "    \n",
    "    for index in range(1,6):\n",
    "        probabilities_sorted.append(top_5_values[0][-index])\n",
    "        index_sorted.append(y_preds_indices[0][-index])\n",
    "    predictions_probabilities.append(probabilities_sorted)\n",
    "    predictions_index.append(index_sorted)"
   ]
  },
  {
   "cell_type": "code",
   "execution_count": null,
   "id": "356998f1-9f28-4150-983d-5d0a75f294fa",
   "metadata": {},
   "outputs": [],
   "source": [
    "predictions_probabilities"
   ]
  },
  {
   "cell_type": "code",
   "execution_count": null,
   "id": "1007481f-e87e-4557-a327-7ee656e4036a",
   "metadata": {
    "tags": []
   },
   "outputs": [],
   "source": [
    "'''\n",
    "#This code creates a new predictions_indices list with taking:\n",
    "# If first and second probabilities have a difference more than 80%, take only first prediction for top5\n",
    "# If two probabilities differ more than 50%, take the higher probability thrice\n",
    "# If two probabilities differ more than 20%, take the higher probability twice\n",
    "\n",
    "new_predictions_indices = []\n",
    "for i in range(0,len(predictions_probabilities)):   \n",
    "    list = []\n",
    "    j = 0\n",
    "    numbers_taken = 0\n",
    "    while j < 4 and numbers_taken < 4:\n",
    "        if predictions_probabilities[i][j] < 0.03:\n",
    "            list.append(100)\n",
    "            j = j + 1\n",
    "            numbers_taken = numbers_taken + 1\n",
    "        \n",
    "        elif predictions_probabilities[i][j] - predictions_probabilities[i][j+1] > 0.8:\n",
    "            for times in range(5):\n",
    "                list.append(predictions_index[i][j])\n",
    "            j = j + 5\n",
    "            numbers_taken = numbers_taken + 5\n",
    "            \n",
    "        elif predictions_probabilities[i][j] - predictions_probabilities[i][j+1] > 0.5 and numbers_taken < 3:\n",
    "            for times in range(3):\n",
    "                list.append(predictions_index[i][j])\n",
    "            j = j + 1\n",
    "            numbers_taken = numbers_taken + 3\n",
    "            \n",
    "        elif predictions_probabilities[i][j] - predictions_probabilities[i][j+1] > 0.2 and numbers_taken < 4:\n",
    "            for times in range(2):\n",
    "                list.append(predictions_index[i][j])\n",
    "            j = j + 1\n",
    "            numbers_taken = numbers_taken + 2\n",
    "            \n",
    "        elif numbers_taken < 4:\n",
    "            list.append(predictions_index[i][j])\n",
    "            j = j + 1\n",
    "            numbers_taken = numbers_taken + 1\n",
    "        else:\n",
    "            j = j + 1\n",
    "    if numbers_taken < 5:\n",
    "        if predictions_probabilities[i][j] < 0.03:\n",
    "            list.append(100)\n",
    "        else:\n",
    "            list.append(predictions_index[i][j])\n",
    "    new_predictions_indices.append(list)    "
   ]
  },
  {
   "cell_type": "code",
   "execution_count": null,
   "id": "ec58b934-da57-4879-829f-8892cbf5d8c1",
   "metadata": {},
   "outputs": [],
   "source": [
    "#Create labels to connect indices with turtle_ids (folder structure in train)\n",
    "labels = list(train_generator.class_indices.keys())"
   ]
  },
  {
   "cell_type": "code",
   "execution_count": null,
   "id": "d6134220-7a9d-4383-8e31-d5e8f5cc6bcb",
   "metadata": {},
   "outputs": [],
   "source": [
    "#Check if labels contains anything which is not correct, e.g. .ipynb_checkpoints\n",
    "#The correct order would be as order of sub-folders in \"sorted_images/train\"\n",
    "#labels"
   ]
  },
  {
   "cell_type": "code",
   "execution_count": null,
   "id": "3953f7ed-f889-43df-a010-5adf8f3a36a2",
   "metadata": {},
   "outputs": [],
   "source": [
    "#Create dataframe for image_ids in order of validation generator (folder structure in val)\n",
    "images_ids = list(val_sony_datagen.class_indices.keys())\n",
    "titles = ['image_id']\n",
    "test_data = pd.DataFrame(images_ids,columns=titles)"
   ]
  },
  {
   "cell_type": "code",
   "execution_count": null,
   "id": "385e78da-efea-4321-9db7-cb00b3431e17",
   "metadata": {},
   "outputs": [],
   "source": [
    "#train_data = pd.read_csv('../data/train_corrected.csv')\n",
    "#unique_turtle_ids = list(train_data['turtle_id'].unique())\n",
    "\n",
    "list = []\n",
    "array = []\n",
    "for line in predictions_index:\n",
    "    for id in line:\n",
    "        list.append(labels[id])\n",
    "    array.append(list)\n",
    "    list = []\n",
    "    \n",
    "titles = ['prediction1', 'prediction2','prediction3','prediction4','prediction5']\n",
    "submission = pd.DataFrame(array, columns= titles)\n",
    "\n",
    "#Insert image_ids from test_data\n",
    "\n",
    "submission.insert(loc=0, column='image_id', value=test_data['image_id'])\n",
    "submission"
   ]
  },
  {
   "cell_type": "code",
   "execution_count": null,
   "id": "0ded02b2-6878-4d25-a241-b0a191f2f035",
   "metadata": {},
   "outputs": [],
   "source": [
    "#Save submission data as CSV\n",
    "submission.to_csv('../data/submission_canny.csv', index = False)"
   ]
  },
  {
   "cell_type": "markdown",
   "id": "b0543ba5-d5b0-4693-880f-2f317081db38",
   "metadata": {
    "tags": []
   },
   "source": [
    "## Random list for submission\n",
    "\n",
    "If you want to compare the results with random turtles, use the following code"
   ]
  },
  {
   "cell_type": "code",
   "execution_count": null,
   "id": "111cb4b4-c20f-412d-98ff-1f3a1f2e7b10",
   "metadata": {
    "tags": []
   },
   "outputs": [],
   "source": [
    "import random"
   ]
  },
  {
   "cell_type": "code",
   "execution_count": null,
   "id": "a6144e6a-d13a-4002-8039-5d64989b145d",
   "metadata": {
    "tags": []
   },
   "outputs": [],
   "source": [
    "list = []\n",
    "predictions_index = []\n",
    "for line in range(0,490):\n",
    "    for number in range(0,5):\n",
    "        list.append(random.randint(0,99))\n",
    "    predictions_index.append(list)\n",
    "    list = []"
   ]
  },
  {
   "cell_type": "code",
   "execution_count": null,
   "id": "9a001a76-dbad-49ea-8e40-27f25b5fbb6b",
   "metadata": {},
   "outputs": [],
   "source": [
    "list = []\n",
    "array = []\n",
    "for line in predictions_index:\n",
    "    for id in line:\n",
    "        list.append(labels[id])\n",
    "    array.append(list)\n",
    "    list = []\n",
    "    \n",
    "titles = ['prediction1', 'prediction2','prediction3','prediction4','prediction5']\n",
    "submission = pd.DataFrame(array, columns= titles)\n",
    "\n",
    "#Insert image_ids from test_data\n",
    "test_data = pd.read_csv(images_ids)\n",
    "submission.insert(loc=0, column='image_id', value=test_data['image_id'])\n",
    "submission"
   ]
  },
  {
   "cell_type": "code",
   "execution_count": null,
   "id": "24347c90-e634-49a8-ab53-76b27010232c",
   "metadata": {},
   "outputs": [],
   "source": [
    "#Save submission data as CSV\n",
    "submission.to_csv('../data/submission_random.csv', index = False)"
   ]
  }
 ],
 "metadata": {
  "kernelspec": {
   "display_name": "Python 3 (ipykernel)",
   "language": "python",
   "name": "python3"
  },
  "language_info": {
   "codemirror_mode": {
    "name": "ipython",
    "version": 3
   },
   "file_extension": ".py",
   "mimetype": "text/x-python",
   "name": "python",
   "nbconvert_exporter": "python",
   "pygments_lexer": "ipython3",
   "version": "3.9.4"
  }
 },
 "nbformat": 4,
 "nbformat_minor": 5
}
