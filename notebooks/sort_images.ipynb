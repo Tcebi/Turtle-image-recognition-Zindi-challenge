{
 "cells": [
  {
   "cell_type": "code",
   "execution_count": null,
   "id": "a32f1139-e183-475c-ae8d-61a2897e514e",
   "metadata": {},
   "outputs": [],
   "source": [
    "#importing the necessary modules\n",
    "import shutil\n",
    "from imutils import paths\n",
    "from random import shuffle\n",
    "import os\n",
    "from datetime import datetime\n",
    "import numpy as np\n",
    "import pathlib\n",
    "import pandas as pd"
   ]
  },
  {
   "cell_type": "code",
   "execution_count": null,
   "id": "48fd1b0f-676f-41ad-85d7-4d165fb5ccae",
   "metadata": {},
   "outputs": [],
   "source": [
    "train_data = pd.read_csv('../data/train_corrected.csv')\n",
    "train_data.image_id = train_data.image_id.apply(lambda x: x.strip()+\".JPG\")\n",
    "train_data['turtle_id-image_id'] = train_data.turtle_id + \"-\" + train_data.image_id\n",
    "train_data['turtle_id-image_location'] = train_data.turtle_id + \"-\" + train_data.image_location"
   ]
  },
  {
   "cell_type": "code",
   "execution_count": null,
   "id": "835d1a2c-96a0-4419-a743-ae9848365bc6",
   "metadata": {},
   "outputs": [],
   "source": [
    "train_data"
   ]
  },
  {
   "cell_type": "code",
   "execution_count": null,
   "id": "5c2b574b-e894-433a-9860-a7551aa8d9f0",
   "metadata": {},
   "outputs": [],
   "source": [
    "#list all pictures in the image_dir\n",
    "image_dir = '../images/'\n",
    "imagePaths = sorted(list(paths.list_images(image_dir)))"
   ]
  },
  {
   "cell_type": "code",
   "execution_count": null,
   "id": "1e895be3-fd96-4662-aa80-6ec5695b793b",
   "metadata": {},
   "outputs": [],
   "source": [
    "# Store all the turtle_ids in train_data\n",
    "turtle_ids = train_data['turtle_id']\n",
    "turtle_ids.head()"
   ]
  },
  {
   "cell_type": "code",
   "execution_count": null,
   "id": "9f26a674-4bad-469d-aecc-938a6dfc0a4d",
   "metadata": {},
   "outputs": [],
   "source": [
    "#after listing all individuals create two empty folders for each individual \n",
    "#one for the training and another for the validaiton dataset\n",
    "\n",
    "#define the folder were the training and validation datasets will be placed\n",
    "root_dir=\"../sorted_images\"\n",
    "\n",
    "#loop through all individuals and create a folder for the training dataset\n",
    "# and a folder for the validation dataset\n",
    "for i in range(0, len(turtle_ids)):\n",
    "    train_dir=root_dir+\"/train/\"+turtle_ids[i]#variable with the full path of the training folder\n",
    "    val_dir=root_dir+\"/val/\"+turtle_ids[i]#variable with the full path of the validation folder\n",
    "    if not os.path.exists(train_dir):#condition for if the folder already exists\n",
    "        os.makedirs(train_dir)#create the folder\n",
    "    if not os.path.exists(val_dir):\n",
    "        os.makedirs(val_dir)   "
   ]
  },
  {
   "cell_type": "code",
   "execution_count": null,
   "id": "a92a27e5-d06b-456b-a0a4-c2ee9da7af77",
   "metadata": {},
   "outputs": [],
   "source": [
    "#Check length of train_data, i.e. number of relevant pictures\n",
    "round(len(train_data))"
   ]
  },
  {
   "cell_type": "code",
   "execution_count": null,
   "id": "667cc778-dd6c-43cb-93ae-680fc8b56307",
   "metadata": {},
   "outputs": [],
   "source": [
    "train_data"
   ]
  },
  {
   "cell_type": "code",
   "execution_count": null,
   "id": "bd66b19b-83ad-4fac-876c-82ee90c4cdcf",
   "metadata": {},
   "outputs": [],
   "source": [
    "train_data['turtle_id-image_location'][0]"
   ]
  },
  {
   "cell_type": "code",
   "execution_count": null,
   "id": "da1fa194-42dc-4bd7-a454-dcf7b5fff1d8",
   "metadata": {},
   "outputs": [],
   "source": [
    "#in this example we are going to select 1822 (approx 86%) pictures for training and 300 (approx 14%) pictures for validation.\n",
    "#We setup the condition that the training pictures should contain at least one picture per turtle_id for each image_location\n",
    "#as per now we have nothing to avoid having pictures that are very similiar in both datasets, which could result in overfitting the CNN\n",
    "\n",
    "#define the number of validation pictures and the number of training pictures\n",
    "N_val_pics=300\n",
    "N_train_pics=1822\n",
    "\n",
    "#create two empty lists to store the pictures files that are going to be moved to the training \n",
    "#and validation fodlers\n",
    "training_pictures=[]\n",
    "validation_pictures=[]\n",
    "\n",
    "#list to check if combination is already used\n",
    "turtle_id_image_location=[]\n",
    "\n",
    "#loop through each individual turtle_id and secondary image_location\n",
    "for index in range(0, len(train_data)):\n",
    "    if train_data['turtle_id-image_location'][index] not in turtle_id_image_location:\n",
    "        validation_pictures.append(train_data['turtle_id-image_id'][index])\n",
    "        turtle_id_image_location.append(train_data['turtle_id-image_location'][index])\n",
    "    else:\n",
    "        training_pictures.append(train_data['turtle_id-image_id'][index])"
   ]
  },
  {
   "cell_type": "code",
   "execution_count": null,
   "id": "633cf98a-d8d6-41f0-9173-76548ee0aa26",
   "metadata": {},
   "outputs": [],
   "source": [
    "len(validation_pictures)"
   ]
  },
  {
   "cell_type": "code",
   "execution_count": null,
   "id": "92407290-a1af-43f1-ae76-402df33094f9",
   "metadata": {},
   "outputs": [],
   "source": [
    "#loop through the list of pictures\n",
    "#move the pictures files to the validation folder\n",
    "for i in range(0, len(validation_pictures)):\n",
    "    #get the picture name (e.g. \"01103F7D5A_2018-11-26_07-56-03.jpg\")\n",
    "    val_file_name = image_dir + validation_pictures[i].split('-')[-1]\n",
    "    image_name = validation_pictures[i].split('-')[-1]\n",
    "\n",
    "    #create a variable with the directory and the name of the pictures file\n",
    "    output_name_val=root_dir+\"/val/\"+validation_pictures[i].split('-')[-0]+\"/\"+image_name\n",
    "       \n",
    "    #move the file\n",
    "    shutil.copy(val_file_name, output_name_val)\n",
    "\n",
    "for i in range(0, len(training_pictures)):\n",
    "    #get the picture name (e.g. \"01103F7D5A_2018-11-26_07-56-03.jpg\")\n",
    "    train_file_name = image_dir + training_pictures[i].split('-')[-1]\n",
    "    image_name = training_pictures[i].split('-')[-1]\n",
    "\n",
    "    #create a variable with the directory and the name of the pictures file\n",
    "    output_name_train=root_dir+\"/train/\"+training_pictures[i].split('-')[-0]+\"/\"+image_name\n",
    "       \n",
    "    #move the file\n",
    "    shutil.copy(train_file_name, output_name_train)    "
   ]
  }
 ],
 "metadata": {
  "kernelspec": {
   "display_name": "Python 3 (ipykernel)",
   "language": "python",
   "name": "python3"
  },
  "language_info": {
   "codemirror_mode": {
    "name": "ipython",
    "version": 3
   },
   "file_extension": ".py",
   "mimetype": "text/x-python",
   "name": "python",
   "nbconvert_exporter": "python",
   "pygments_lexer": "ipython3",
   "version": "3.9.4"
  }
 },
 "nbformat": 4,
 "nbformat_minor": 5
}
