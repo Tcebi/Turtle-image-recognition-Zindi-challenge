{
 "cells": [
  {
   "cell_type": "markdown",
   "id": "719fc9fa-ca52-432a-9148-b156ccd51600",
   "metadata": {},
   "source": [
    "# Train CNN-Model\n",
    "\n",
    "This notebook will train our model based on pictures in our sorted_images folder and sub-folders."
   ]
  },
  {
   "cell_type": "code",
   "execution_count": null,
   "id": "d0d6f5c8-da50-498a-8464-6e795523f78d",
   "metadata": {},
   "outputs": [],
   "source": [
    "#load the modules\n",
    "import keras\n",
    "from keras import models, layers\n",
    "from tensorflow.keras import regularizers\n",
    "from keras.activations import relu, softmax\n",
    "from tensorflow.keras.applications import VGG19\n",
    "from keras.models import Sequential, load_model, Model\n",
    "from tensorflow.keras.optimizers import Adam, SGD\n",
    "from keras.callbacks import ModelCheckpoint, Callback, EarlyStopping\n",
    "from keras.preprocessing.image import ImageDataGenerator\n",
    "from keras.layers import Activation, Dropout, Dense, Flatten, concatenate\n",
    "from matplotlib import pyplot as plt\n",
    "import tensorflow as tf\n",
    "import matplotlib.pyplot as plt\n",
    "import sys\n",
    "import pandas as pd\n",
    "import numpy as np\n",
    "from PIL import Image\n",
    "from tensorflow.keras.metrics import TopKCategoricalAccuracy\n",
    "\n",
    "from sklearn.preprocessing import OneHotEncoder\n",
    "\n",
    "sys.modules['Image'] = Image"
   ]
  },
  {
   "cell_type": "code",
   "execution_count": null,
   "id": "bd44f886-57db-42cf-a4ff-9d38692cfe45",
   "metadata": {},
   "outputs": [],
   "source": [
    "# Keras' data generator can be used to pass the images through the convolutional neural network and apply\n",
    "#rotation and zoom transformations to the images. Check https://keras.io/preprocessing/image/ for more transformations\n",
    "\n",
    "train_data = ImageDataGenerator(\n",
    "        rescale = 1./255,\n",
    "        rotation_range=40,\n",
    "        zoom_range=0.2,\n",
    "        #width_shift_range=0.2,\n",
    "        #height_shift_range=0.2,\n",
    "        #shear_range=0.2,\n",
    "        #fill_mode='nearest'\n",
    ")\n",
    "\n",
    "train_generator = train_data.flow_from_directory(\n",
    "        directory=r\"../sorted_images/train\",\n",
    "        target_size=(224, 224),\n",
    "        batch_size=64,\n",
    "        shuffle=True)"
   ]
  },
  {
   "cell_type": "code",
   "execution_count": null,
   "id": "0b3a8394-2e5a-41e2-967d-3e196cd8cc69",
   "metadata": {},
   "outputs": [],
   "source": [
    "#defining the validation data generator\n",
    "val_data = ImageDataGenerator(rescale = 1./255)\n",
    "                                 \n",
    "val_generator = val_data.flow_from_directory(\n",
    "        directory=r\"../sorted_images/val\",\n",
    "        target_size=(224, 224),\n",
    "        batch_size=64,\n",
    "        shuffle=True)"
   ]
  },
  {
   "cell_type": "markdown",
   "id": "8eaaf752-6af0-45c5-8f5e-95bff033019b",
   "metadata": {},
   "source": [
    "## Convolutional neural network: \n",
    "\n",
    "### Transfer learning Option 1: VGG19"
   ]
  },
  {
   "cell_type": "code",
   "execution_count": null,
   "id": "78b6bc00-3ca4-43f3-a3f4-bd83576cbc8f",
   "metadata": {},
   "outputs": [],
   "source": [
    "#load the pre-trained VGG19 from keras\n",
    "vgg19 = VGG19(input_shape=(224,224,3), weights='imagenet', include_top=False)\n",
    "\n",
    "#the transfer learned model should be not trainable\n",
    "for layer in vgg19.layers:\n",
    "    layer.trainable = False\n",
    "\n",
    "x = vgg19.layers[-1].output\n",
    "#add dropout and the fully connected layer\n",
    "x = Flatten()(x)\n",
    "x = Dense(1024, activation='relu')(x)\n",
    "x = Dropout(0.2)(x)\n",
    "x = Dense(1024, activation='relu')(x)\n",
    "\n",
    "#add a dense layer with a value equal to the number of classes\n",
    "predictors = Dense(100, activation='softmax')(x)\n",
    "# Create the model\n",
    "vgg19model = Model(vgg19.input, predictors)"
   ]
  },
  {
   "cell_type": "markdown",
   "id": "a718d286-de44-4860-ba06-44dc06636e78",
   "metadata": {},
   "source": [
    "### Transfer learning Option 2: Inception model"
   ]
  },
  {
   "cell_type": "code",
   "execution_count": null,
   "id": "a4b44bd9-1a7b-4302-86a1-3f6fbe167267",
   "metadata": {},
   "outputs": [],
   "source": [
    "from tensorflow.keras.optimizers import RMSprop\n",
    "from tensorflow.keras import datasets, layers, models\n",
    "from tensorflow.keras.applications.inception_v3 import InceptionV3"
   ]
  },
  {
   "cell_type": "code",
   "execution_count": null,
   "id": "8232b45a-7f77-4dae-9685-f4b3a7a50d5b",
   "metadata": {},
   "outputs": [],
   "source": [
    "inception = InceptionV3(input_shape = (224, 224, 3), include_top = False, weights = 'imagenet')\n",
    "\n",
    "#the transfer learned model should be not trainable\n",
    "for layer in inception.layers:\n",
    "    layer.trainable = False\n",
    "\n",
    "y = layers.Flatten()(inception.output)\n",
    "y = layers.Dense(1024, activation='relu', kernel_regularizer=regularizers.l2(0.0001))(y)\n",
    "y = layers.Dropout(0.2)(y)\n",
    "y = layers.Dense(1024, activation='relu', kernel_regularizer=regularizers.l2(0.0001))(y)\n",
    "\n",
    "# Add a final softmax layer with 101 nodes for classification output\n",
    "predictors = layers.Dense(100, activation='softmax')(y)\n",
    "\n",
    "inceptionmodel = Model(inception.input, predictors)"
   ]
  },
  {
   "cell_type": "code",
   "execution_count": null,
   "id": "cfd00591-13c3-4b97-9f66-4ba12a7d7ecd",
   "metadata": {},
   "outputs": [],
   "source": [
    "# define where to save the model after each epoch\n",
    "filepath = \"../models/Inception_model.h5\"\n",
    "# add a critera to save only if there was an improvement in the model comparing\n",
    "# to the previous epoch (in this caset the model is saved if there was a decrease in the loss value)\n",
    "checkpoint = ModelCheckpoint(filepath, monitor='val_loss', verbose=1, save_best_only=True, mode='min')\n",
    "# stop training if there is no improvement in model for 4 consecutives epochs.\n",
    "early_stopping_monitor = EarlyStopping(patience=4)\n",
    "callbacks_list = [checkpoint, early_stopping_monitor]"
   ]
  },
  {
   "cell_type": "code",
   "execution_count": null,
   "id": "15f1dfd7-208d-4262-a7e9-f7f409551e99",
   "metadata": {},
   "outputs": [],
   "source": [
    "# Compile the model\n",
    "inceptionmodel.compile(loss='categorical_crossentropy',\n",
    "              optimizer=Adam(lr=1e-5),#define the optimizer and the learning rate\n",
    "              metrics=tf.keras.metrics.TopKCategoricalAccuracy(k=5))"
   ]
  },
  {
   "cell_type": "code",
   "execution_count": null,
   "id": "47d6ef6e-4f05-43e7-ba65-666b29f07077",
   "metadata": {},
   "outputs": [],
   "source": [
    "#train the model\n",
    "batch_size=64\n",
    "model_history=inceptionmodel.fit(\n",
    "        train_generator,\n",
    "        steps_per_epoch=1822//batch_size,#number of pictures in training data set divided by the batch size\n",
    "        epochs=30,\n",
    "        validation_data=val_generator,\n",
    "        validation_steps= 300// batch_size,#number of pictures in validation data set divided by the batch size\n",
    "        callbacks=callbacks_list)"
   ]
  },
  {
   "cell_type": "markdown",
   "id": "825be70c-9b70-4d0d-a14d-3db320984b28",
   "metadata": {},
   "source": [
    "### A second iteration with smaller learning rate "
   ]
  },
  {
   "cell_type": "code",
   "execution_count": null,
   "id": "dffb23b4-02cb-4ef7-b121-b65da260b1b4",
   "metadata": {},
   "outputs": [],
   "source": [
    "# define where to save the model after each epoch\n",
    "filepath = \"../models/Inception_model_lre-6.h5\"\n",
    "# add a critera to save only if there was an improvement in the model comparing\n",
    "# to the previous epoch (in this caset the model is saved if there was a decrease in the loss value)\n",
    "checkpoint = ModelCheckpoint(filepath, monitor='val_loss', verbose=1, save_best_only=True, mode='min')\n",
    "# stop training if there is no improvement in model for 3 consecutives epochs.\n",
    "early_stopping_monitor = EarlyStopping(patience=3)\n",
    "callbacks_list = [checkpoint, early_stopping_monitor]"
   ]
  },
  {
   "cell_type": "code",
   "execution_count": null,
   "id": "4ffdce1d-a8a9-4dc6-9896-a691841ff50c",
   "metadata": {},
   "outputs": [],
   "source": [
    "#load the model\n",
    "model=load_model(\"../models/Inception_model.h5\")\n",
    "\n",
    "# Compile the model\n",
    "model.compile(loss='categorical_crossentropy',\n",
    "             optimizer=SGD(lr=1e-6),\n",
    "             metrics=tf.keras.metrics.TopKCategoricalAccuracy(k=5))\n",
    "#train the model\n",
    "batch_size=64\n",
    "model_history_2=model.fit_generator(\n",
    "        train_generator,\n",
    "    #! BEWARE: steps_per_epoch needs to be adapted: containing number of images in train // batch_size\n",
    "        steps_per_epoch=1822//batch_size,\n",
    "        epochs=20,\n",
    "        validation_data=val_generator,\n",
    "        validation_steps= 300// batch_size,\n",
    "        callbacks=callbacks_list)"
   ]
  },
  {
   "cell_type": "code",
   "execution_count": null,
   "id": "a83677a6-1860-45d5-b196-5b07f8a44adf",
   "metadata": {},
   "outputs": [],
   "source": [
    "#size of the plots\n",
    "fig=plt.figure(figsize=(15,5))\n",
    "columns = 2\n",
    "rows = 1\n",
    "\n",
    "#plot loss\n",
    "#the accuracy and loss are stored in the \"model_history\"\n",
    "fig.add_subplot(rows, columns, 1)\n",
    "plt.plot(model_history.history['loss']+ model_history_2.history['loss']) #merge the loss from the two training steps\n",
    "plt.plot(model_history.history['val_loss']+ model_history_2.history['val_loss'])\n",
    "plt.title('loss')\n",
    "plt.ylabel('loss')\n",
    "plt.xlabel('epoch')\n",
    "plt.legend(['train', 'val'], loc='upper left')\n",
    "\n",
    "#plot accuracy\n",
    "fig.add_subplot(rows, columns, 2)\n",
    "plt.plot(model_history.history['acc']+ model_history_2.history['acc'])\n",
    "plt.plot(model_history.history['val_acc']+ model_history_2.history['val_acc'])\n",
    "plt.title('accuracy')\n",
    "plt.ylabel('accuracy')\n",
    "plt.xlabel('epoch')\n",
    "plt.legend(['train', 'val'], loc='upper left')\n",
    "plt.show()\n"
   ]
  },
  {
   "cell_type": "markdown",
   "id": "a52dba6c-fea2-48b2-a7b5-b9783aeeb1d1",
   "metadata": {},
   "source": [
    "### Testing the model + submission\n",
    "\n",
    "Prepare the data for submission"
   ]
  },
  {
   "cell_type": "code",
   "execution_count": null,
   "id": "28832437-a021-405b-b5ac-7e6b33772f9c",
   "metadata": {},
   "outputs": [],
   "source": [
    "#load the best saved trained model\n",
    "model=load_model(\"../models/Inception_model_lre-6.h5\")"
   ]
  },
  {
   "cell_type": "code",
   "execution_count": null,
   "id": "87a53761-a6c6-41f3-8ae6-ae012106e5f4",
   "metadata": {},
   "outputs": [],
   "source": [
    "val_sony_datagen1 = ImageDataGenerator(rescale = 1./255)\n",
    "val_sony_datagen = val_sony_datagen1.flow_from_directory(\n",
    "        directory=\"../sorted_images/test\", #This folder should contain pictures of each bird in a different subfolder (similar to the training data set)\n",
    "        target_size=(224, 224),\n",
    "        class_mode=None,\n",
    "        batch_size=490, #number of images in the testing dataset\n",
    "        shuffle=False)"
   ]
  },
  {
   "cell_type": "code",
   "execution_count": null,
   "id": "3af7b578-0391-44f6-8c90-40c1e75a8ef2",
   "metadata": {},
   "outputs": [],
   "source": [
    "#load the pictures in the testing folder. The x_batch contains the pictures and the y_batch contains the\n",
    "#identities of the individuals\n",
    "x_batch=next(val_sony_datagen)"
   ]
  },
  {
   "cell_type": "code",
   "execution_count": null,
   "id": "67a31156-80c0-4649-8c92-249a64c8df76",
   "metadata": {},
   "outputs": [],
   "source": [
    "predictions_index = []\n",
    "predictions_probabilities = []\n",
    "results = []\n",
    "\n",
    "#for i in range(0,len(x_batch)):\n",
    "for i in range(0,len(x_batch)):    \n",
    "    probabilities_sorted = []\n",
    "    index_sorted = [] \n",
    "    image=np.expand_dims(x_batch[i], axis=0)\n",
    "    result=model.predict(image)\n",
    "    results.append(result)\n",
    "    y_preds_indices = np.argsort(result)[:,-5:]\n",
    "    top_5_values = [result[0][j] for j in y_preds_indices]\n",
    "    \n",
    "    for index in range(1,6):\n",
    "        probabilities_sorted.append(top_5_values[0][-index])\n",
    "        index_sorted.append(y_preds_indices[0][-index])\n",
    "    predictions_probabilities.append(probabilities_sorted)\n",
    "    predictions_index.append(index_sorted)"
   ]
  },
  {
   "cell_type": "code",
   "execution_count": null,
   "id": "fa38c457-4a16-4d16-b578-56489019bdaf",
   "metadata": {},
   "outputs": [],
   "source": [
    "#Create labels to connect indices with turtle_ids (folder structure in train)\n",
    "labels = list(train_generator.class_indices.keys())"
   ]
  },
  {
   "cell_type": "code",
   "execution_count": null,
   "id": "d7d4c9eb-f7e3-4727-89fb-5cca6286bed0",
   "metadata": {},
   "outputs": [],
   "source": [
    "#Check if labels contains anything which is not correct, e.g. .ipynb_checkpoints\n",
    "#The correct order would be as order of sub-folders in \"sorted_images/train\"\n",
    "labels"
   ]
  },
  {
   "cell_type": "code",
   "execution_count": null,
   "id": "336201cb-5fee-4be6-94b8-e227e3eec070",
   "metadata": {},
   "outputs": [],
   "source": [
    "#Create dataframe for image_ids in order of validation generator (folder structure in val)\n",
    "images_ids = list(val_sony_datagen.class_indices.keys())\n",
    "titles = ['image_id']\n",
    "test_data = pd.DataFrame(images_ids,columns=titles)"
   ]
  },
  {
   "cell_type": "code",
   "execution_count": null,
   "id": "f2234b4c-ab01-44f3-bfa6-e9a2ecebfb47",
   "metadata": {},
   "outputs": [],
   "source": [
    "#train_data = pd.read_csv('../data/train_corrected.csv')\n",
    "#unique_turtle_ids = list(train_data['turtle_id'].unique())\n",
    "\n",
    "list = []\n",
    "array = []\n",
    "for line in predictions_index:\n",
    "    for id in line:\n",
    "        list.append(labels[id])\n",
    "    array.append(list)\n",
    "    list = []\n",
    "    \n",
    "titles = ['prediction1', 'prediction2','prediction3','prediction4','prediction5']\n",
    "submission = pd.DataFrame(array, columns= titles)\n",
    "\n",
    "#Insert image_ids from test_data\n",
    "\n",
    "submission.insert(loc=0, column='image_id', value=test_data['image_id'])\n",
    "submission"
   ]
  },
  {
   "cell_type": "code",
   "execution_count": null,
   "id": "88b00f62-3559-415d-bc0f-0a81b90df1c3",
   "metadata": {},
   "outputs": [],
   "source": [
    "#Save submission data as CSV\n",
    "submission.to_csv('../data/submission_inception.csv', index = False)"
   ]
  },
  {
   "cell_type": "markdown",
   "id": "9740c96b-8074-4005-8cb9-f9334331bafc",
   "metadata": {
    "tags": []
   },
   "source": [
    "## Random list for submission\n",
    "\n",
    "If you want to compare the results with random turtles, use the following code"
   ]
  },
  {
   "cell_type": "code",
   "execution_count": null,
   "id": "c7b250d0-c0d2-4011-b9ec-6d7e9731d4b8",
   "metadata": {
    "tags": []
   },
   "outputs": [],
   "source": [
    "import random"
   ]
  },
  {
   "cell_type": "code",
   "execution_count": null,
   "id": "9a3a04ef-5124-4371-867c-b17f847877f7",
   "metadata": {
    "tags": []
   },
   "outputs": [],
   "source": [
    "list = []\n",
    "predictions_index = []\n",
    "for line in range(0,490):\n",
    "    for number in range(0,5):\n",
    "        list.append(random.randint(0,99))\n",
    "    predictions_index.append(list)\n",
    "    list = []"
   ]
  },
  {
   "cell_type": "code",
   "execution_count": null,
   "id": "359ff21d-bdc2-438a-a99f-79aeb31f24d8",
   "metadata": {},
   "outputs": [],
   "source": [
    "list = []\n",
    "array = []\n",
    "for line in predictions_index:\n",
    "    for id in line:\n",
    "        list.append(labels[id])\n",
    "    array.append(list)\n",
    "    list = []\n",
    "    \n",
    "titles = ['prediction1', 'prediction2','prediction3','prediction4','prediction5']\n",
    "submission = pd.DataFrame(array, columns= titles)\n",
    "\n",
    "#Insert image_ids from test_data\n",
    "test_data = pd.read_csv(images_ids)\n",
    "submission.insert(loc=0, column='image_id', value=test_data['image_id'])\n",
    "submission"
   ]
  },
  {
   "cell_type": "code",
   "execution_count": null,
   "id": "6ac48842-50bf-433d-ab5a-15a5856a496f",
   "metadata": {},
   "outputs": [],
   "source": [
    "#Save submission data as CSV\n",
    "submission.to_csv('../data/submission_random.csv', index = False)"
   ]
  }
 ],
 "metadata": {
  "kernelspec": {
   "display_name": "Python 3 (ipykernel)",
   "language": "python",
   "name": "python3"
  },
  "language_info": {
   "codemirror_mode": {
    "name": "ipython",
    "version": 3
   },
   "file_extension": ".py",
   "mimetype": "text/x-python",
   "name": "python",
   "nbconvert_exporter": "python",
   "pygments_lexer": "ipython3",
   "version": "3.9.4"
  }
 },
 "nbformat": 4,
 "nbformat_minor": 5
}
