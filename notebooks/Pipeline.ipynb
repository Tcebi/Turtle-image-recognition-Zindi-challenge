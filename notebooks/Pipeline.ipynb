{
 "cells": [
  {
   "cell_type": "markdown",
   "id": "5bc5ef11-45f6-4ecf-a184-7b438e336154",
   "metadata": {},
   "source": [
    "# Image Modelling - Pipeline Creation (Python file)\n",
    "In this notebook we will cover: \n",
    "- how to prepare images for training a neural network and using shell commands instead of pandas to do so\n",
    "- We’ll start by preparing the data in a way that it can be loaded into tensorflow, followed by the loading itself and checking if everything went fine. \n",
    "- Each step will be defined as a function, which we will directly write into a python file. \n",
    "\n",
    "In the second notebook we will import and use those functions in order to train a neural network that classifies our pictures."
   ]
  },
  {
   "cell_type": "code",
   "execution_count": null,
   "id": "47483726-487f-4192-9619-19393cf4344e",
   "metadata": {},
   "outputs": [],
   "source": [
    "# Remove any file that gets constructed by the notebook.\n",
    "## noch anpassen \n",
    "!rm -f image_modeling.py #flowers_train.csv flowers_eval.csv flowers_test.csv"
   ]
  },
  {
   "cell_type": "markdown",
   "id": "3fa45e36-1be0-443b-a8d8-63badf3ce8a7",
   "metadata": {},
   "source": [
    "The following cell defines a register cell magic which lets you write the content of a cell into a python script automatically, while still executing the cell. Mode 'a' (can be set with the -a flag) appends to the file while mode 'w' overwrites all existing lines."
   ]
  },
  {
   "cell_type": "code",
   "execution_count": null,
   "id": "478c688f-64f6-4cfe-a750-a080f3f10a23",
   "metadata": {},
   "outputs": [],
   "source": [
    "# Let's make some dark cell magic. Why not!\n",
    "from IPython.core.magic import register_cell_magic\n",
    "\n",
    "@register_cell_magic\n",
    "def write_and_run(line, cell):\n",
    "    argz = line.split()\n",
    "    file = argz[-1]\n",
    "    mode = 'w'\n",
    "    if len(argz) == 2 and argz[0] == '-a':\n",
    "        mode = 'a'\n",
    "        print(\"Appended to file \", file)\n",
    "    else:\n",
    "        print('Written to file:', file)\n",
    "    with open(file, mode) as f:\n",
    "        f.write(cell.format(**globals()))        \n",
    "    get_ipython().run_cell(cell)"
   ]
  },
  {
   "cell_type": "markdown",
   "id": "a6104569-ca79-4fd5-a5f9-ad2df66c84b8",
   "metadata": {},
   "source": [
    "Import needed libraries. `%%write_and_run image_modeling.py` is the call of the register cell magic from above in 'w' mode (default). It writes the imports at the beginning of the `image_modeling.py`."
   ]
  },
  {
   "cell_type": "code",
   "execution_count": null,
   "id": "d5228ad7-33bd-4840-8a7a-557150bb82a5",
   "metadata": {},
   "outputs": [],
   "source": [
    "%%write_and_run image_modeling.py\n",
    "import pathlib\n",
    "import IPython.display as display\n",
    "from PIL import Image\n",
    "import matplotlib.pyplot as plt\n",
    "import numpy as np\n",
    "import tensorflow as tf\n",
    "import os"
   ]
  },
  {
   "cell_type": "markdown",
   "id": "d83dd2d4-bed3-456a-874d-f89bad655b57",
   "metadata": {},
   "source": [
    "Print the tensorflow version and set the threshold for what messages will be logged. "
   ]
  },
  {
   "cell_type": "code",
   "execution_count": null,
   "id": "4a1d8952-d5e8-47a3-8f20-ceb2ff358df6",
   "metadata": {},
   "outputs": [],
   "source": [
    "print(tf.__version__)\n",
    "tf.compat.v1.logging.set_verbosity(v=tf.compat.v1.logging.INFO)"
   ]
  },
  {
   "cell_type": "markdown",
   "id": "62518635-52d3-4e86-8e80-979c756b1c72",
   "metadata": {},
   "source": [
    "Get the absolute path to the data folder, count all images and get the class names. "
   ]
  },
  {
   "cell_type": "code",
   "execution_count": null,
   "id": "2321ec69-7efd-4193-b5ea-f3e595b75309",
   "metadata": {},
   "outputs": [],
   "source": [
    "# Get paths as POSIX paths\n",
    "#home_path = str(pathlib.Path.home())\n",
    "data_dir = '../images'\n",
    "data_dir = pathlib.Path(data_dir)\n",
    "print(f'The total number of images is: {len(os.listdir(data_dir))}')"
   ]
  },
  {
   "cell_type": "markdown",
   "id": "fee0c00a-73ba-4071-b4f4-60f40564a5a8",
   "metadata": {},
   "source": [
    "Let's have a look at some images"
   ]
  },
  {
   "cell_type": "code",
   "execution_count": null,
   "id": "574b60cf-fd0d-4dfa-8886-78f088daeaea",
   "metadata": {},
   "outputs": [],
   "source": [
    "# Get all turtles images\n",
    "turtles = list(data_dir.glob('*'))\n",
    "\n",
    "for image in turtles[:2]:\n",
    "    display.display(Image.open(str(image)))"
   ]
  },
  {
   "cell_type": "markdown",
   "id": "9a411827-4128-4e48-8077-ff9b5073083d",
   "metadata": {},
   "source": [
    "## Data preparation using shell commands\n",
    "\n",
    "Now we will use shell commands to look at the data, clean the paths to the images and split our data into train and evaluation set.\n",
    "\n",
    "Let's look at the first five entries. \n",
    "First we use the [head](https://linuxhint.com/bash_head_tail_command/) command to generate the first five lines of the `train.csv`. Then we redirect the output of the [head](https://linuxhint.com/bash_head_tail_command/) command to the `/tmp/input.csv` via the ['>'](https://www.cs.ait.ac.th/~on/O/oreilly/unix/upt/ch13_01.htm#UPT-ART-1023) operator. We now print the content of this file with the [cat](https://www.interserver.net/tips/kb/linux-cat-command-usage-examples/?__cf_chl_f_tk=sbsfrwcq2e.iPk93oGmvT0LSXdGVW7BuzsZsRhl85GI-1642513145-0-gaNycGzNCOU) command."
   ]
  },
  {
   "cell_type": "code",
   "execution_count": null,
   "id": "ddd750e6-05be-4835-9d36-c53c590d1073",
   "metadata": {},
   "outputs": [],
   "source": [
    "# Let us take a look into the training set\n",
    "!head -5 ../data/train.csv > /tmp/input.csv \n",
    "!cat /tmp/input.csv"
   ]
  },
  {
   "cell_type": "markdown",
   "id": "d194427a-4991-4257-953d-a201b6e545ef",
   "metadata": {},
   "source": [
    "Save a copy from train.csv to train_split.csv and conduct the split (remove X images from train_split and save as test_split)"
   ]
  },
  {
   "cell_type": "code",
   "execution_count": null,
   "id": "70576e4d-cc28-4d97-b8be-9f4ea196c9ab",
   "metadata": {},
   "outputs": [],
   "source": [
    "#%%bash\n",
    "!cat ../data/train.csv > ../data/train_split.csv \n",
    "\n",
    "#sort -R ../data/train_split.csv --random-source=random.seed | \n",
    "#split -l $(( $(wc -l <../data/train_split.csv) - 10)) - ../data/train_split\n",
    "\n",
    "#csvfile = open('../data/train_split.csv', 'r').readlines()\n",
    "#open(str(\"../data/1\") + '.csv', 'w+').writelines(csvfile[i:(int(len(\"../data/train_split.csv\")*0.7))])\n",
    "\n",
    "#mv 1.csv ../data/train_split.csv\n",
    "#mv 2.csv ../data/test_split.csv"
   ]
  },
  {
   "cell_type": "code",
   "execution_count": null,
   "id": "88ade388-3100-43b8-a60e-de5726a07d4c",
   "metadata": {},
   "outputs": [],
   "source": [
    "#%%bash\n",
    "#wc -l ../data/train_split.csv\n",
    "#wc -l ../data/test_split.csv"
   ]
  },
  {
   "cell_type": "code",
   "execution_count": null,
   "id": "d31277f7-ffe9-4462-826d-5948a59044df",
   "metadata": {},
   "outputs": [],
   "source": []
  }
 ],
 "metadata": {
  "kernelspec": {
   "display_name": "Python 3 (ipykernel)",
   "language": "python",
   "name": "python3"
  },
  "language_info": {
   "codemirror_mode": {
    "name": "ipython",
    "version": 3
   },
   "file_extension": ".py",
   "mimetype": "text/x-python",
   "name": "python",
   "nbconvert_exporter": "python",
   "pygments_lexer": "ipython3",
   "version": "3.9.4"
  }
 },
 "nbformat": 4,
 "nbformat_minor": 5
}
