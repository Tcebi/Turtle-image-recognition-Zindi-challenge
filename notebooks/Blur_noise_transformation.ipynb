{
 "cells": [
  {
   "cell_type": "code",
   "execution_count": null,
   "id": "72480ada-37d1-4092-87eb-ec5a57176354",
   "metadata": {},
   "outputs": [],
   "source": [
    "#!pip install imutils\n",
    "#!pip install opencv-python"
   ]
  },
  {
   "cell_type": "code",
   "execution_count": null,
   "id": "ef1f3a8f-3afb-4a0d-a6ed-b8b0ed17fc89",
   "metadata": {},
   "outputs": [],
   "source": [
    "#load the modules\n",
    "from imutils import paths\n",
    "import random\n",
    "import numpy as np\n",
    "import os\n",
    "import cv2\n",
    "import matplotlib.pyplot as plt"
   ]
  },
  {
   "cell_type": "code",
   "execution_count": null,
   "id": "6ee52716-5fb9-42df-b4f3-a39ea585bfa1",
   "metadata": {},
   "outputs": [],
   "source": [
    "#function for motion blur\n",
    "#adapted from Joshi, P. (2015). OpenCV with Python by example. Packt Publishing Ltd.\n",
    "def blurpic(img, size):\n",
    "    kernel_motion_blur = np.zeros((size, size))\n",
    "    kernel_motion_blur[int((size-1)/2), :] = np.ones(size)\n",
    "    kernel_motion_blur = kernel_motion_blur / size\n",
    "    img = cv2.filter2D(img, -1, kernel_motion_blur)\n",
    "    return img"
   ]
  },
  {
   "cell_type": "code",
   "execution_count": null,
   "id": "b91e1327-2b7e-4495-bec9-aa5fc0465801",
   "metadata": {},
   "outputs": [],
   "source": [
    "#function to resize picture\n",
    "def resizing(img, x, y, n,m):\n",
    "    #x and y as the width and height of the image\n",
    "    #n and m define the interval by which the image will be downsized\n",
    "    t=round(random.uniform(n, m),2)\n",
    "    img = cv2.resize(img, (int(x/t), int(y/t))) \n",
    "    return img"
   ]
  },
  {
   "cell_type": "code",
   "execution_count": null,
   "id": "72e8ffea-0b62-4f42-b5f8-97a544bfd3a8",
   "metadata": {},
   "outputs": [],
   "source": [
    "#function for gaussian noise transformation\n",
    "def gnoise(img, mean, sd):\n",
    "    img = img+ np.random.normal(mean,sd, img.shape)\n",
    "    img = np.clip(img, 0, 255)\n",
    "    return img"
   ]
  },
  {
   "cell_type": "code",
   "execution_count": null,
   "id": "04337c24-ad2c-49ca-97f7-e94c444300c4",
   "metadata": {},
   "outputs": [],
   "source": [
    "#function for gaussian blur transformation\n",
    "def gblur(img, size):\n",
    "    img=cv2.GaussianBlur(img,(size,size),0)\n",
    "    return img"
   ]
  },
  {
   "cell_type": "code",
   "execution_count": null,
   "id": "b01679f5-0fc7-4a64-9ffc-c1443ec812cf",
   "metadata": {},
   "outputs": [],
   "source": [
    "#load a test image to check the different transformations\n",
    "#plot after resizing to 224x224 (the image size used for training the VGG19)\n",
    "img =cv2.imread('../images/ID_009TNNQ8.JPG')\n",
    "fig=plt.figure(figsize=(5, 5))\n",
    "plt.imshow(cv2.cvtColor(cv2.resize(img, (224,224)), cv2.COLOR_BGR2RGB))\n",
    "plt.title(\"original\")\n",
    "plt.show()"
   ]
  },
  {
   "cell_type": "code",
   "execution_count": null,
   "id": "54cae544-7323-4aba-aa57-442affed8b6e",
   "metadata": {},
   "outputs": [],
   "source": [
    "#plot the different transformations for comparison\n",
    "fig=plt.figure(figsize=(10, 10))\n",
    "columns = 2\n",
    "rows = 2\n",
    "x=img.shape[1]\n",
    "y=img.shape[0]\n",
    "images_list=[]\n",
    "images_list.append(blurpic(img, 15))\n",
    "images_list.append(gblur(img, 7))\n",
    "images_list.append(resizing(img, x, y ,1.5,2.5))\n",
    "\n",
    "transformations_titles=[ \"motion_blur\", \"gaussian_blur\", \"resizing\"]\n",
    "p=0\n",
    "for i in range(1, columns*rows):\n",
    "    fig.add_subplot(rows, columns, i)\n",
    "    plt.title(transformations_titles[p])\n",
    "    plt.imshow(cv2.cvtColor(cv2.resize(images_list[p], (224,224)), cv2.COLOR_BGR2RGB))\n",
    "    p=p+1\n",
    "\n",
    "#extra step to plot the gnoise transformation\n",
    "#which only properly plots after converting to .astype(np.uint8)\n",
    "fig.add_subplot(rows, columns, 4)\n",
    "imgnoise=gnoise(img,15,25).astype(np.uint8)\n",
    "plt.title(\"gaussian_noise\")\n",
    "plt.imshow(cv2.cvtColor(cv2.resize(imgnoise, (224,224)), cv2.COLOR_BGR2RGB))\n",
    "\n",
    "plt.show()"
   ]
  },
  {
   "cell_type": "code",
   "execution_count": null,
   "id": "74fbdf86-e741-4459-be9b-5114a92f1af4",
   "metadata": {},
   "outputs": [],
   "source": [
    "#directory containing the original dataset\n",
    "dataset=\"../images\"\n",
    "#list all images in the original dataset\n",
    "imagePaths = sorted(list(paths.list_images(dataset)))\n",
    "\n",
    "#loop through all images to apply the transformations\n",
    "for imagePath in imagePaths:\n",
    "    #define the output folder and add the name of the image file\n",
    "    directory_output=\"../images/TO/OUPUT_DATASET_FOLDER/\"+imagePath.split(os.path.sep)[-1][:-4]\n",
    "    #load the image\n",
    "    img =cv2.imread(imagePath)\n",
    "    #apply the motion blur transformation\n",
    "    imgb=blurpic(img, 15)\n",
    "    #save the image\n",
    "    cv2.imwrite(str(directory_output+\"b\"+\".jpg\"), imgb)\n",
    "    \n",
    "    #apply the resizing  transformation\n",
    "    x=img.shape[1]\n",
    "    y=img.shape[0]\n",
    "    imgr=resizing(img,x, y, 2,3.5)\n",
    "    #save the image\n",
    "    cv2.imwrite(str(directory_output+\"r\"+\".jpg\"), imgr)\n",
    "    \n",
    "    #apply the gaussian noise transformation\n",
    "    imgg=gnoise(img,15,25)\n",
    "    #save the image\n",
    "    cv2.imwrite(str(directory_output+\"g\"+\".jpg\"), imgg)\n",
    "    #apply the gaussian blur transformation\n",
    "    imggb=gblur(img, 7)\n",
    "    #save the image\n",
    "    cv2.imwrite(str(directory_output+\"gb\"+\".jpg\"), imggb)\n",
    "    \n",
    "    #in order to apply a mixture of transformations to the same image\n",
    "    #generate two random numbers that will define which transformation\n",
    "    #will be applied\n",
    "    transformations=random.sample(set([1,2,3,4]), 2)\n",
    "    \n",
    "    for t in range(0,1):\n",
    "        if transformations[t]==1:\n",
    "            img=blurpic(img, 15)\n",
    "        if transformations[t]==2:\n",
    "            img=gnoise(img,15,25)\n",
    "        if transformations[t]==3:\n",
    "            img=gblur(img, 7)\n",
    "        if transformations[t]==4:\n",
    "            img=resizing(img, x, y ,1.5,2.5)\n",
    "    #save the image after applying to different transformations\n",
    "    cv2.imwrite(str(directory_output+\"m\"+\".jpg\"), img)"
   ]
  },
  {
   "cell_type": "code",
   "execution_count": null,
   "id": "b4e222be-25a4-4525-a0b3-b64c978c4cd0",
   "metadata": {},
   "outputs": [],
   "source": []
  },
  {
   "cell_type": "code",
   "execution_count": null,
   "id": "8ac0e743-7aab-44d3-9288-46e3bc17b63f",
   "metadata": {},
   "outputs": [],
   "source": []
  }
 ],
 "metadata": {
  "kernelspec": {
   "display_name": "Python 3 (ipykernel)",
   "language": "python",
   "name": "python3"
  },
  "language_info": {
   "codemirror_mode": {
    "name": "ipython",
    "version": 3
   },
   "file_extension": ".py",
   "mimetype": "text/x-python",
   "name": "python",
   "nbconvert_exporter": "python",
   "pygments_lexer": "ipython3",
   "version": "3.9.4"
  }
 },
 "nbformat": 4,
 "nbformat_minor": 5
}
