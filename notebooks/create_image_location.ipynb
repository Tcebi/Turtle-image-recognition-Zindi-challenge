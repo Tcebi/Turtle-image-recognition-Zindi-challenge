{
 "cells": [
  {
   "cell_type": "code",
   "execution_count": 1,
   "id": "428939dc-1c6b-4654-9aa9-d75e4cdb4624",
   "metadata": {},
   "outputs": [
    {
     "name": "stderr",
     "output_type": "stream",
     "text": [
      "/Users/tobiasengbring/neuefische/Capstone_Project_Turtle_Recall/.venv/lib/python3.9/site-packages/jax/_src/lib/__init__.py:32: UserWarning: JAX on Mac ARM machines is experimental and minimally tested. Please see https://github.com/google/jax/issues/5501 in the event of problems.\n",
      "  warnings.warn(\"JAX on Mac ARM machines is experimental and minimally tested. \"\n"
     ]
    }
   ],
   "source": [
    "# Import required packages \n",
    "import tensorflow as tf\n",
    "import find_image_location   # import find_image_location.py file\n",
    "import tensorflow_hub as hub\n",
    "import datetime\n",
    "import csv\n",
    "import numpy as np\n",
    "import pandas as pd\n",
    "# Load the TensorBoard notebook extension\n",
    "%load_ext tensorboard"
   ]
  },
  {
   "cell_type": "code",
   "execution_count": 2,
   "id": "1c9ffabd-37f7-437a-beca-f6a1677807ed",
   "metadata": {},
   "outputs": [],
   "source": [
    "# Clear any logs from previous runs\n",
    "!rm -rf ./logs/"
   ]
  },
  {
   "cell_type": "markdown",
   "id": "850de411-a1c5-41ee-b333-b3a9aada847b",
   "metadata": {},
   "source": [
    "# Look at the data"
   ]
  },
  {
   "cell_type": "code",
   "execution_count": 20,
   "id": "cbd6412e-f626-46c9-9fff-dd15c96c959a",
   "metadata": {},
   "outputs": [
    {
     "data": {
      "text/html": [
       "<div>\n",
       "<style scoped>\n",
       "    .dataframe tbody tr th:only-of-type {\n",
       "        vertical-align: middle;\n",
       "    }\n",
       "\n",
       "    .dataframe tbody tr th {\n",
       "        vertical-align: top;\n",
       "    }\n",
       "\n",
       "    .dataframe thead th {\n",
       "        text-align: right;\n",
       "    }\n",
       "</style>\n",
       "<table border=\"1\" class=\"dataframe\">\n",
       "  <thead>\n",
       "    <tr style=\"text-align: right;\">\n",
       "      <th></th>\n",
       "      <th>image_id</th>\n",
       "      <th>image_location</th>\n",
       "      <th>turtle_id</th>\n",
       "    </tr>\n",
       "  </thead>\n",
       "  <tbody>\n",
       "    <tr>\n",
       "      <th>0</th>\n",
       "      <td>ID_009TNNQ8</td>\n",
       "      <td>left</td>\n",
       "      <td>t_id_Kf73l69A</td>\n",
       "    </tr>\n",
       "    <tr>\n",
       "      <th>1</th>\n",
       "      <td>ID_010JDNBL</td>\n",
       "      <td>right</td>\n",
       "      <td>t_id_GrxmyS59</td>\n",
       "    </tr>\n",
       "    <tr>\n",
       "      <th>2</th>\n",
       "      <td>ID_01L54J3D</td>\n",
       "      <td>left</td>\n",
       "      <td>t_id_d6aYXtor</td>\n",
       "    </tr>\n",
       "    <tr>\n",
       "      <th>3</th>\n",
       "      <td>ID_02445SY2</td>\n",
       "      <td>top</td>\n",
       "      <td>t_id_GrxmyS59</td>\n",
       "    </tr>\n",
       "    <tr>\n",
       "      <th>4</th>\n",
       "      <td>ID_026RZIZ9</td>\n",
       "      <td>right</td>\n",
       "      <td>t_id_hRzOoJ2t</td>\n",
       "    </tr>\n",
       "    <tr>\n",
       "      <th>...</th>\n",
       "      <td>...</td>\n",
       "      <td>...</td>\n",
       "      <td>...</td>\n",
       "    </tr>\n",
       "    <tr>\n",
       "      <th>2117</th>\n",
       "      <td>ID_ZWHZBX92</td>\n",
       "      <td>top</td>\n",
       "      <td>t_id_Kc1tXDbJ</td>\n",
       "    </tr>\n",
       "    <tr>\n",
       "      <th>2118</th>\n",
       "      <td>ID_ZXM8MLS2</td>\n",
       "      <td>top</td>\n",
       "      <td>t_id_2QmcRkNj</td>\n",
       "    </tr>\n",
       "    <tr>\n",
       "      <th>2119</th>\n",
       "      <td>ID_ZY15TQYT</td>\n",
       "      <td>left</td>\n",
       "      <td>t_id_stWei2Uq</td>\n",
       "    </tr>\n",
       "    <tr>\n",
       "      <th>2120</th>\n",
       "      <td>ID_ZYTRP3VN</td>\n",
       "      <td>left</td>\n",
       "      <td>t_id_ip3jsrYo</td>\n",
       "    </tr>\n",
       "    <tr>\n",
       "      <th>2121</th>\n",
       "      <td>ID_ZZEGHRM5</td>\n",
       "      <td>left</td>\n",
       "      <td>t_id_m2JvEcsg</td>\n",
       "    </tr>\n",
       "  </tbody>\n",
       "</table>\n",
       "<p>2122 rows × 3 columns</p>\n",
       "</div>"
      ],
      "text/plain": [
       "         image_id image_location      turtle_id\n",
       "0     ID_009TNNQ8           left  t_id_Kf73l69A\n",
       "1     ID_010JDNBL          right  t_id_GrxmyS59\n",
       "2     ID_01L54J3D           left  t_id_d6aYXtor\n",
       "3     ID_02445SY2            top  t_id_GrxmyS59\n",
       "4     ID_026RZIZ9          right  t_id_hRzOoJ2t\n",
       "...           ...            ...            ...\n",
       "2117  ID_ZWHZBX92            top  t_id_Kc1tXDbJ\n",
       "2118  ID_ZXM8MLS2            top  t_id_2QmcRkNj\n",
       "2119  ID_ZY15TQYT           left  t_id_stWei2Uq\n",
       "2120  ID_ZYTRP3VN           left  t_id_ip3jsrYo\n",
       "2121  ID_ZZEGHRM5           left  t_id_m2JvEcsg\n",
       "\n",
       "[2122 rows x 3 columns]"
      ]
     },
     "execution_count": 20,
     "metadata": {},
     "output_type": "execute_result"
    }
   ],
   "source": [
    "corrected = pd.read_csv('../data/train_corrected.csv')\n",
    "corrected"
   ]
  },
  {
   "cell_type": "code",
   "execution_count": 22,
   "id": "503e48d1-f29f-40e4-9bb0-8c6acc29a47e",
   "metadata": {},
   "outputs": [
    {
     "data": {
      "text/plain": [
       "1485"
      ]
     },
     "execution_count": 22,
     "metadata": {},
     "output_type": "execute_result"
    }
   ],
   "source": [
    "train_data = pd.read_csv('../data/train_corrected.csv')\n",
    "train_data.image_id = train_data.image_id.apply(lambda x: x.strip()+\".JPG\")\n",
    "lines = round(len(train_data)*0.7)\n",
    "lines"
   ]
  },
  {
   "cell_type": "code",
   "execution_count": 23,
   "id": "c9982939-eb85-4c8b-b61b-671e4f7433d5",
   "metadata": {},
   "outputs": [
    {
     "data": {
      "text/plain": [
       "1485"
      ]
     },
     "execution_count": 23,
     "metadata": {},
     "output_type": "execute_result"
    }
   ],
   "source": [
    "# Import variables from image_modelling.py file\n",
    "file = open(\"../data/train_corrected.csv\")\n",
    "reader = csv.reader(file)\n",
    "\n",
    "HEIGHT = find_image_location.HEIGHT\n",
    "WIDTH = find_image_location.WIDTH\n",
    "NCLASSES = 3\n",
    "CLASS_NAMES = ['left', 'top', 'right']\n",
    "BATCH_SIZE = find_image_location.BATCH_SIZE\n",
    "TRAINING_SIZE = find_image_location.TRAINING_SIZE\n",
    "TRAINING_STEPS = (TRAINING_SIZE // BATCH_SIZE)\n",
    "TRAINING_SIZE"
   ]
  },
  {
   "cell_type": "code",
   "execution_count": 24,
   "id": "acae935c-1f7b-484e-92aa-ade64627b9b0",
   "metadata": {},
   "outputs": [
    {
     "name": "stdout",
     "output_type": "stream",
     "text": [
      "Metal device set to: Apple M1\n"
     ]
    }
   ],
   "source": [
    "from tensorflow.keras.applications.inception_v3 import InceptionV3\n",
    "base_model = InceptionV3(input_shape = (224, 224, 3), include_top = False, weights = 'imagenet')\n",
    "\n",
    "from tensorflow.keras.optimizers import RMSprop\n",
    "from tensorflow.keras import datasets, layers, models"
   ]
  },
  {
   "cell_type": "code",
   "execution_count": null,
   "id": "a05495a3-ed7e-46e4-8cf9-37e5a9b73de2",
   "metadata": {},
   "outputs": [],
   "source": [
    "'''#change the last layer\n",
    "for layer in base_model.layers:\n",
    "    layer.trainable = False\n",
    "\n",
    "x = layers.Flatten()(base_model.output)\n",
    "x = layers.Dense(1024, activation='relu')(x)\n",
    "x = layers.Dropout(0.2)(x)\n",
    "\n",
    "# Add a final softmax layer with 101 nodes for classification output\n",
    "x = layers.Dense(NCLASSES, activation='softmax')(x)\n",
    "\n",
    "model = tf.keras.models.Model(base_model.input, x)\n",
    "\n",
    "model.compile(optimizer = 'adam', loss = 'binary_crossentropy', metrics = 'accuracy')\n",
    "log_dir = \"logs/fit/\" + datetime.datetime.now().strftime(\"%Y%m%d-%H%M%S\")\n",
    "tensorboard_callback = tf.keras.callbacks.TensorBoard(log_dir=log_dir, histogram_freq=1)\n",
    "train_datagen, test_datagen = find_image_location.preprocess()\n",
    "train_generator, validation_generator = find_image_location.use_image_generator(train_datagen, test_datagen, training=True)\n",
    "    \n",
    "inception =  model.fit(\n",
    "        train_generator, \n",
    "        validation_data=validation_generator,\n",
    "        steps_per_epoch=TRAINING_SIZE // 32, \n",
    "        epochs=10,\n",
    "        callbacks=[tensorboard_callback])\n",
    "        '''"
   ]
  },
  {
   "cell_type": "markdown",
   "id": "f412481e-2400-4c48-a5b5-1f9f1d8c2962",
   "metadata": {},
   "source": [
    "## Check with corrected image location"
   ]
  },
  {
   "cell_type": "code",
   "execution_count": 25,
   "id": "ee4ee3d4-58e4-4438-b649-390fcf72935b",
   "metadata": {},
   "outputs": [
    {
     "name": "stdout",
     "output_type": "stream",
     "text": [
      "Found 1485 validated image filenames belonging to 3 classes.\n",
      "Found 637 validated image filenames belonging to 3 classes.\n"
     ]
    },
    {
     "name": "stderr",
     "output_type": "stream",
     "text": [
      "2022-02-07 17:45:14.585003: W tensorflow/core/platform/profile_utils/cpu_utils.cc:128] Failed to get CPU frequency: 0 Hz\n"
     ]
    },
    {
     "name": "stdout",
     "output_type": "stream",
     "text": [
      "Epoch 1/10\n",
      "46/46 [==============================] - 49s 1s/step - loss: 9.7580 - accuracy: 0.5148 - val_loss: 1.5187 - val_accuracy: 0.5636\n",
      "Epoch 2/10\n",
      "46/46 [==============================] - 45s 983ms/step - loss: 1.4840 - accuracy: 0.6098 - val_loss: 0.6922 - val_accuracy: 0.6389\n",
      "Epoch 3/10\n",
      "46/46 [==============================] - 45s 975ms/step - loss: 0.6744 - accuracy: 0.6359 - val_loss: 0.5200 - val_accuracy: 0.6735\n",
      "Epoch 4/10\n",
      "46/46 [==============================] - 46s 995ms/step - loss: 0.5091 - accuracy: 0.6311 - val_loss: 0.4063 - val_accuracy: 0.6672\n",
      "Epoch 5/10\n",
      "46/46 [==============================] - 47s 1s/step - loss: 0.4379 - accuracy: 0.6387 - val_loss: 0.5085 - val_accuracy: 0.5495\n",
      "Epoch 6/10\n",
      "46/46 [==============================] - 48s 1s/step - loss: 0.4318 - accuracy: 0.6593 - val_loss: 0.4529 - val_accuracy: 0.5714\n",
      "Epoch 7/10\n",
      "46/46 [==============================] - 48s 1s/step - loss: 0.4076 - accuracy: 0.6621 - val_loss: 0.3799 - val_accuracy: 0.6546\n",
      "Epoch 8/10\n",
      "46/46 [==============================] - 49s 1s/step - loss: 0.3989 - accuracy: 0.6710 - val_loss: 0.3694 - val_accuracy: 0.6829\n",
      "Epoch 9/10\n",
      "46/46 [==============================] - 49s 1s/step - loss: 0.4063 - accuracy: 0.6607 - val_loss: 0.3949 - val_accuracy: 0.6044\n",
      "Epoch 10/10\n",
      "46/46 [==============================] - 50s 1s/step - loss: 0.3947 - accuracy: 0.6531 - val_loss: 0.4054 - val_accuracy: 0.6091\n"
     ]
    }
   ],
   "source": [
    "#change the last layer\n",
    "for layer in base_model.layers:\n",
    "    layer.trainable = False\n",
    "\n",
    "x = layers.Flatten()(base_model.output)\n",
    "x = layers.Dense(1024, activation='relu')(x)\n",
    "x = layers.Dropout(0.2)(x)\n",
    "\n",
    "# Add a final softmax layer with 101 nodes for classification output\n",
    "x = layers.Dense(NCLASSES, activation='softmax')(x)\n",
    "\n",
    "model = tf.keras.models.Model(base_model.input, x)\n",
    "\n",
    "model.compile(optimizer = 'adam', loss = 'binary_crossentropy', metrics = 'accuracy')\n",
    "log_dir = \"logs/fit/\" + datetime.datetime.now().strftime(\"%Y%m%d-%H%M%S\")\n",
    "tensorboard_callback = tf.keras.callbacks.TensorBoard(log_dir=log_dir, histogram_freq=1)\n",
    "train_datagen, test_datagen = find_image_location.preprocess()\n",
    "train_generator, validation_generator = find_image_location.use_image_generator(train_datagen, test_datagen, training=True)\n",
    "    \n",
    "inception =  model.fit(\n",
    "        train_generator, \n",
    "        validation_data=validation_generator,\n",
    "        steps_per_epoch=TRAINING_SIZE // 32, \n",
    "        epochs=10,\n",
    "        callbacks=[tensorboard_callback])"
   ]
  },
  {
   "cell_type": "code",
   "execution_count": null,
   "id": "c0b66f49-950a-4b94-9ef5-39bf9ab72f36",
   "metadata": {},
   "outputs": [],
   "source": [
    "test_generator = find_image_location.use_image_generator(train_datagen, test_datagen, training=False)"
   ]
  },
  {
   "cell_type": "code",
   "execution_count": null,
   "id": "4b34345a-f9f2-4f0b-89cf-5c4928210abd",
   "metadata": {},
   "outputs": [],
   "source": [
    "#Get probabilities for all turtle id's\n",
    "y_preds = model.predict(test_generator)\n",
    "print(y_preds[0])\n",
    "#Get indices from 3 predictions\n",
    "y_preds = np.argsort(y_preds, axis=1)[:,:-4:-1]\n",
    "\n",
    "#Save indices of 3 predictions as dataframe\n",
    "df = pd.DataFrame(y_preds)"
   ]
  },
  {
   "cell_type": "code",
   "execution_count": null,
   "id": "95d44d66-d0cb-43a6-94c8-6a67ed61640a",
   "metadata": {},
   "outputs": [],
   "source": [
    "#Create a DataFrame with top 5 predictions in submission form\n",
    "list = []\n",
    "array = []\n",
    "for line in y_preds:\n",
    "    for location in line:\n",
    "        list.append(CLASS_NAMES[location])\n",
    "    array.append(list)\n",
    "    list = []\n",
    "\n",
    "titles = ['prediction1', 'prediction2','prediction3']\n",
    "\n",
    "submission = pd.DataFrame(array, columns= titles)\n",
    "\n",
    "#Insert image_ids from test_data\n",
    "test_data = pd.read_csv('../data/test.csv')\n",
    "submission.insert(loc=0, column='image_id', value=test_data['image_id'])\n",
    "submission"
   ]
  },
  {
   "cell_type": "code",
   "execution_count": null,
   "id": "c4ab6396-d8c1-4599-b151-5e19eccb3844",
   "metadata": {},
   "outputs": [],
   "source": [
    "#Save submission data as CSV\n",
    "submission.to_csv('../data/submission.csv', index = False)"
   ]
  },
  {
   "cell_type": "code",
   "execution_count": null,
   "id": "86c68d0a-b1ed-4094-80b6-1d9b7dc9752f",
   "metadata": {},
   "outputs": [],
   "source": []
  }
 ],
 "metadata": {
  "kernelspec": {
   "display_name": "Python 3 (ipykernel)",
   "language": "python",
   "name": "python3"
  },
  "language_info": {
   "codemirror_mode": {
    "name": "ipython",
    "version": 3
   },
   "file_extension": ".py",
   "mimetype": "text/x-python",
   "name": "python",
   "nbconvert_exporter": "python",
   "pygments_lexer": "ipython3",
   "version": "3.9.4"
  }
 },
 "nbformat": 4,
 "nbformat_minor": 5
}
