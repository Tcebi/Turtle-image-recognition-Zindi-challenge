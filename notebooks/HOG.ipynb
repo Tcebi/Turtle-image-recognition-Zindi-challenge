{
 "cells": [
  {
   "cell_type": "markdown",
   "id": "afb166f6-3d9f-4f07-b32a-4c0c257fbc0a",
   "metadata": {
    "tags": []
   },
   "source": [
    "## Histogram of Gradients (HOG)"
   ]
  },
  {
   "cell_type": "markdown",
   "id": "08a80454-b84d-4e5f-99e3-217528e16904",
   "metadata": {},
   "source": [
    "The aim of this notebook is to obtain merely HOG images out of the original images. The HOG images are being used as the 4th channel, next to the 3 channels RGB."
   ]
  },
  {
   "cell_type": "markdown",
   "id": "c5ec8160-7f7b-471d-a657-57368bcdc08b",
   "metadata": {},
   "source": [
    "### Importing"
   ]
  },
  {
   "cell_type": "code",
   "execution_count": 20,
   "id": "a1d8a6c4-8f26-4711-84e0-7584791d47d0",
   "metadata": {},
   "outputs": [
    {
     "name": "stdout",
     "output_type": "stream",
     "text": [
      "The tensorboard extension is already loaded. To reload it, use:\n",
      "  %reload_ext tensorboard\n"
     ]
    }
   ],
   "source": [
    "# Import required packages \n",
    "import tensorflow as tf\n",
    "import image_modeling   # import image_modeling.py file\n",
    "import tensorflow_hub as hub\n",
    "import datetime\n",
    "import csv\n",
    "import numpy as np\n",
    "import pandas as pd\n",
    "import matplotlib.pyplot as plt\n",
    "from skimage.feature import hog\n",
    "from skimage import data, exposure\n",
    "import cv2 as cv2\n",
    "import pickle\n",
    "\n",
    "# Load the TensorBoard notebook extension\n",
    "%load_ext tensorboard"
   ]
  },
  {
   "cell_type": "code",
   "execution_count": 19,
   "id": "f756697b-3d59-46d7-a0be-5930e5e9ce83",
   "metadata": {},
   "outputs": [
    {
     "name": "stdout",
     "output_type": "stream",
     "text": [
      "\u001b[31mERROR: Could not find a version that satisfies the requirement pickle (from versions: none)\u001b[0m\u001b[31m\n",
      "\u001b[0m\u001b[31mERROR: No matching distribution found for pickle\u001b[0m\u001b[31m\n",
      "\u001b[0m\u001b[33mWARNING: You are using pip version 22.0.2; however, version 22.0.3 is available.\n",
      "You should consider upgrading via the '/Users/lee/neuefische/Capstone_Project_Turtle_Recall/.venv/bin/python -m pip install --upgrade pip' command.\u001b[0m\u001b[33m\n",
      "\u001b[0m"
     ]
    }
   ],
   "source": [
    "#!python -m pip install -U scikit-image\n",
    "#!pip install opencv-python"
   ]
  },
  {
   "cell_type": "code",
   "execution_count": 3,
   "id": "0e7fdf30-85ca-4116-8678-91d327409d73",
   "metadata": {},
   "outputs": [],
   "source": [
    "# Clear any logs from previous runs\n",
    "!rm -rf ./logs/"
   ]
  },
  {
   "cell_type": "code",
   "execution_count": 4,
   "id": "c5dc8bf5-967a-41a3-b77b-9f474ab46906",
   "metadata": {},
   "outputs": [],
   "source": [
    "# Import variables from image_modelling.py file\n",
    "HEIGHT = image_modeling.HEIGHT\n",
    "WIDTH = image_modeling.WIDTH\n",
    "NCLASSES = image_modeling.NCLASSES\n",
    "CLASS_NAMES = image_modeling.CLASS_NAMES\n",
    "BATCH_SIZE = image_modeling.BATCH_SIZE\n",
    "TRAINING_SIZE = image_modeling.TRAINING_SIZE\n",
    "TRAINING_STEPS = (TRAINING_SIZE // BATCH_SIZE)\n",
    "\n",
    "train_data = image_modeling.train_data\n",
    "lines = image_modeling.lines\n",
    "image_dir = image_modeling.image_dir\n",
    "length_data = image_modeling.length_data"
   ]
  },
  {
   "cell_type": "markdown",
   "id": "083a0118-d3c3-49c4-9be2-35e0821c7296",
   "metadata": {},
   "source": [
    "### Rescaling"
   ]
  },
  {
   "cell_type": "markdown",
   "id": "d036baa3-10ad-4e9f-a29a-2f5f32395013",
   "metadata": {},
   "source": [
    "To create HOG images out of the original images, they have to be preprocessed: rescaled, but not augmentated, hence augment = False. Here, train_datagen and test_datagen are identical, just the information of rescaling, the images itself are not involved yet."
   ]
  },
  {
   "cell_type": "code",
   "execution_count": 5,
   "id": "3a8cb083-66b8-4b9c-b07b-e703480e5344",
   "metadata": {},
   "outputs": [],
   "source": [
    "train_datagen, test_datagen = image_modeling.preprocess(augment=False)"
   ]
  },
  {
   "cell_type": "markdown",
   "id": "9c9d377a-bcde-4a3c-bd97-2e2a1f970dfe",
   "metadata": {},
   "source": [
    "### From dataframe to arrays: train validation split and batches"
   ]
  },
  {
   "cell_type": "markdown",
   "id": "201f3659-5c7d-46ee-864f-db2d90e4d9a2",
   "metadata": {},
   "source": [
    "The function use_image_generator is also used in the notebook \"Create Pipeline\" and copied into image_modeling.py. Now the data were split into a test and validation dataset. However, much has to be changed here, that's why use_image_generator is defined newly with updated changes: class_mode = None, because the label data are cumbersome, therefore also shuffle = False."
   ]
  },
  {
   "cell_type": "code",
   "execution_count": 7,
   "id": "279c4743-357c-46bb-b8eb-c6a2056ac5ce",
   "metadata": {},
   "outputs": [],
   "source": [
    "def use_image_generator(train_datagen, test_datagen): \n",
    "        train_generator = train_datagen.flow_from_dataframe(dataframe =train_data[0:lines], \n",
    "                directory   = image_dir,\n",
    "                x_col       = \"image_id\" ,\n",
    "                target_size = (HEIGHT, WIDTH),\n",
    "                batch_size  = BATCH_SIZE,\n",
    "                classes     = CLASS_NAMES,\n",
    "                class_mode  = None,\n",
    "                #color_mode  = 'grayscale',                                            \n",
    "                shuffle     = False)\n",
    "        \n",
    "        validation_generator = test_datagen.flow_from_dataframe(dataframe = train_data[lines:], \n",
    "                directory    = image_dir,\n",
    "                x_col        = \"image_id\",\n",
    "                target_size  = (HEIGHT, WIDTH),\n",
    "                batch_size   = BATCH_SIZE,\n",
    "                classes      = CLASS_NAMES,\n",
    "                class_mode   = None,\n",
    "                #color_mode  = 'grayscale',                                                \n",
    "                shuffle      = False)\n",
    "        \n",
    "        return train_generator, validation_generator"
   ]
  },
  {
   "cell_type": "markdown",
   "id": "b5a80848-345c-423c-808d-8896917c2892",
   "metadata": {},
   "source": [
    "Now the images were loaded from the dataframe using the use_image_generator function above. They are loaded into batches with the size BATCH_SIZE. The batching process is unnecessary but uncommenting \"batch_size\" didn't help to avoid batching."
   ]
  },
  {
   "cell_type": "code",
   "execution_count": 11,
   "id": "269cbcc7-2ae8-44f6-9a98-0011e43cffb9",
   "metadata": {},
   "outputs": [
    {
     "name": "stdout",
     "output_type": "stream",
     "text": [
      "Found 1502 validated image filenames.\n",
      "Found 643 validated image filenames.\n"
     ]
    },
    {
     "name": "stderr",
     "output_type": "stream",
     "text": [
      "/Users/lee/neuefische/Capstone_Project_Turtle_Recall/.venv/lib/python3.9/site-packages/keras_preprocessing/image/dataframe_iterator.py:219: UserWarning: `classes` will be ignored given the class_mode=\"None\"\n",
      "  warnings.warn('`classes` will be ignored given the class_mode=\"{}\"'\n"
     ]
    }
   ],
   "source": [
    "train_generator, validation_generator = use_image_generator(train_datagen, test_datagen)"
   ]
  },
  {
   "cell_type": "markdown",
   "id": "bf8c14ff-07f9-4fdc-954b-318bb9b7d02a",
   "metadata": {},
   "source": [
    "### Get the labels"
   ]
  },
  {
   "cell_type": "code",
   "execution_count": 12,
   "id": "3bcbcf81-283c-42ad-a866-14ee5867ef7a",
   "metadata": {},
   "outputs": [],
   "source": [
    "train_labels_list = list(train_data.iloc[0:lines][\"turtle_id\"])\n",
    "validation_labels_list = list(train_data.iloc[lines:][\"turtle_id\"])"
   ]
  },
  {
   "cell_type": "markdown",
   "id": "ef5d01ee-202c-4275-9ce6-294305cf9381",
   "metadata": {},
   "source": [
    "### Create HOG images"
   ]
  },
  {
   "cell_type": "markdown",
   "id": "731be132-8791-414e-8c75-8a8d8523cc4d",
   "metadata": {},
   "source": [
    "The function get_hog takes the generators generated by the use_image_generator function as input. The outputs are all 1D HOG images and all 2D images, if visualize = True."
   ]
  },
  {
   "cell_type": "code",
   "execution_count": 13,
   "id": "95878b1a-769f-4617-8c36-a131c7a640d7",
   "metadata": {},
   "outputs": [],
   "source": [
    "def get_hog(images_in_batches, visualize=True):    \n",
    "    if visualize == True:\n",
    "        hog_images = []\n",
    "        bilder = []\n",
    "        _ = 0\n",
    "        for i in range(len(images_in_batches)):\n",
    "            for j in range(BATCH_SIZE):\n",
    "                fd, bild = hog(images_in_batches[i][j], orientations=9, pixels_per_cell=(16, 16),cells_per_block=(2, 2), channel_axis=-1, visualize=True)\n",
    "                hog_images.append(fd)\n",
    "                bilder.append(bild)\n",
    "                _ += 1\n",
    "                if _ >= images_in_batches.samples:\n",
    "                    break\n",
    "        hog_images = np.array(hog_images)\n",
    "        bilder = np.array(bilder)\n",
    "        return hog_images, bilder\n",
    "\n",
    "    else:\n",
    "        hog_images = []\n",
    "        _ = 0\n",
    "        for i in range(len(images_in_batches)):\n",
    "            for j in range(BATCH_SIZE):\n",
    "                fd = hog(images_in_batches[i][j], orientations=9, pixels_per_cell=(16, 16),cells_per_block=(2, 2), channel_axis=-1)\n",
    "                hog_images.append(fd)\n",
    "                _ += 1\n",
    "                if _ >= images_in_batches.samples:\n",
    "                    break\n",
    "        hog_images = np.array(hog_images)            \n",
    "        return hog_images"
   ]
  },
  {
   "cell_type": "markdown",
   "id": "979cd12b-62bd-4218-803c-d6045182f543",
   "metadata": {},
   "source": [
    "As a next step, the get_hoc function can be used. Attention, it takes long time to run through:"
   ]
  },
  {
   "cell_type": "code",
   "execution_count": 14,
   "id": "c7919d15-0ec0-4dfa-bc8d-f9448997bb00",
   "metadata": {},
   "outputs": [],
   "source": [
    "# 15 Minuten ACHTUNG\n",
    "train_hog, train_hog_2d = get_hog(train_generator)\n",
    "validation_hog, validation_hog_2d = get_hog(validation_generator)"
   ]
  },
  {
   "cell_type": "markdown",
   "id": "6c87ab80-b1da-40c7-b68e-6feb27d1a680",
   "metadata": {},
   "source": [
    "### Add HOG images as a 4th channel"
   ]
  },
  {
   "cell_type": "code",
   "execution_count": 15,
   "id": "d2a82c61-4eaa-4ee6-9a63-cafacb2caeae",
   "metadata": {},
   "outputs": [],
   "source": [
    "def add_fourth_channel(existing_images_in_batches,new_images_2d):    \n",
    "    merged_all = []\n",
    "    _ = 0\n",
    "    for i in range(len(existing_images_in_batches)):\n",
    "        for j in range(BATCH_SIZE):\n",
    "            c1,c2,c3 = cv2.split(existing_images_in_batches[i][j])\n",
    "            merged_image = cv2.merge((c1,c2,c3,new_images_2d[_]))\n",
    "            merged_all.append(merged_image)\n",
    "            _ += 1\n",
    "            if _ >= existing_images_in_batches.samples:\n",
    "                break        \n",
    "    return np.array(merged_all)"
   ]
  },
  {
   "cell_type": "code",
   "execution_count": 16,
   "id": "6dee18ee-2821-49b5-9950-69a6691da5ca",
   "metadata": {},
   "outputs": [],
   "source": [
    "alles = add_fourth_channel(train_generator,train_hog_2d)"
   ]
  },
  {
   "cell_type": "code",
   "execution_count": 17,
   "id": "6ed04a02-5ebc-447e-868e-72e441d77077",
   "metadata": {},
   "outputs": [],
   "source": [
    "alles_validation = add_fourth_channel(validation_generator,validation_hog_2d)"
   ]
  },
  {
   "cell_type": "markdown",
   "id": "3a8df238-d9d4-4e59-b0cc-309998f3fa41",
   "metadata": {},
   "source": [
    "### Save files with pickle"
   ]
  },
  {
   "cell_type": "code",
   "execution_count": 21,
   "id": "94032555-1a2f-4114-9fe4-0331fe041200",
   "metadata": {},
   "outputs": [],
   "source": [
    "# train data\n",
    "pickle_out_four_channels_train = open(\"../data/pickles/four_channels_train.pickle\",\"wb\") #wb write binary\n",
    "pickle.dump(alles,pickle_out_four_channels_train) #dump train to pickle_out\n",
    "pickle_out_four_channels_train.close()"
   ]
  },
  {
   "cell_type": "code",
   "execution_count": 22,
   "id": "da550347-610b-41dc-9fad-c24c2d3bf618",
   "metadata": {},
   "outputs": [],
   "source": [
    "# validation data\n",
    "pickle_out_four_channels_validation = open(\"../data/pickles/four_channels_validation.pickle\",\"wb\") #wb write binary\n",
    "pickle.dump(alles_validation,pickle_out_four_channels_validation) #dump train to pickle_out\n",
    "pickle_out_four_channels_validation.close()"
   ]
  },
  {
   "cell_type": "markdown",
   "id": "7d2a3ce2-e4e5-4c24-88fe-6f6b887aa226",
   "metadata": {},
   "source": [
    "### Load files with pickle"
   ]
  },
  {
   "cell_type": "code",
   "execution_count": null,
   "id": "cf65a78c-9774-4a0e-9809-398228aece1f",
   "metadata": {},
   "outputs": [],
   "source": [
    "# load pickled train data\n",
    "pickle_in_four_channels_train = open(\"../data/pickles/four_channels_train.pickle\",\"rb\") #read binary\n",
    "pickle_in_four_channels_train_load =  pickle.load(pickle_in_four_channels_train) #load pickle file"
   ]
  },
  {
   "cell_type": "code",
   "execution_count": null,
   "id": "a299a46a-c67d-49a2-ae51-b5fda464e5b7",
   "metadata": {},
   "outputs": [],
   "source": [
    "# load pickled validation data\n",
    "pickle_in_four_channels_validation = open(\"../data/pickles/four_channels_validation.pickle\",\"rb\") #read binary\n",
    "pickle_in_four_channels_validation_load =  pickle.load(pickle_in_four_channels_validation) #load pickle file"
   ]
  },
  {
   "cell_type": "markdown",
   "id": "af9a514e-1200-40dc-be69-25a6fae69b81",
   "metadata": {},
   "source": [
    "### Resnet50"
   ]
  },
  {
   "cell_type": "code",
   "execution_count": 27,
   "id": "2ae97931-7512-4e60-9cfd-56932b1adf53",
   "metadata": {},
   "outputs": [],
   "source": [
    "from tensorflow.keras.applications import ResNet50V2\n",
    "\n",
    "from tensorflow.keras import layers\n",
    "from tensorflow.keras.layers import Dropout, MaxPooling2D, Conv2D, Conv2DTranspose, UpSampling2D\n",
    "from tensorflow.keras.layers import Input, concatenate\n",
    "from tensorflow.keras.models import Model\n",
    "from tensorflow.keras.regularizers import l2\n",
    "from tensorflow.keras.optimizers import Adam\n",
    "from tensorflow.keras.metrics import MeanIoU\n",
    "from tensorflow.keras import backend as K\n",
    "from tensorflow.keras.layers import BatchNormalization\n",
    "from tensorflow.keras.layers import Dropout, MaxPooling2D, Conv2D, AveragePooling2D\n",
    "from tensorflow.keras.layers import Conv2DTranspose, UpSampling2D, GlobalAveragePooling2D\n",
    "from tensorflow.keras.layers import LeakyReLU, ReLU\n",
    "\n",
    "import random\n",
    "\n",
    "from tensorflow.keras.callbacks import CSVLogger, ModelCheckpoint, EarlyStopping, ReduceLROnPlateau\n",
    "#import glob2"
   ]
  },
  {
   "cell_type": "code",
   "execution_count": 23,
   "id": "6b4b390a-b31d-4906-bff8-b4fcf104d871",
   "metadata": {},
   "outputs": [
    {
     "name": "stdout",
     "output_type": "stream",
     "text": [
      "Metal device set to: Apple M1\n",
      "Downloading data from https://storage.googleapis.com/tensorflow/keras-applications/resnet/resnet50v2_weights_tf_dim_ordering_tf_kernels_notop.h5\n",
      "94674944/94668760 [==============================] - 39s 0us/step\n",
      "94683136/94668760 [==============================] - 39s 0us/step\n"
     ]
    }
   ],
   "source": [
    "resnet50 = ResNet50V2(weights='imagenet', include_top=False)"
   ]
  },
  {
   "cell_type": "code",
   "execution_count": 28,
   "id": "ac513859-c2fb-4af7-a1aa-f00e104c9f59",
   "metadata": {},
   "outputs": [],
   "source": [
    "def semantic_segmentation(img_height, img_width, input_channel):\n",
    "  inputs = Input((img_height, img_width, input_channel))\n",
    "  conv1 = Conv2D(16, 3, activation = 'relu', padding = 'same', kernel_initializer = 'he_normal')(inputs)\n",
    "  pool1 = MaxPooling2D(pool_size=(2, 2))(conv1)\n",
    "\n",
    "\n",
    "  conv5 = Conv2D(64, 3, activation = 'relu', padding = 'same', kernel_initializer = 'he_normal')(pool1)\n",
    "  drop5 = Dropout(0.5)(conv5)\n",
    "\n",
    "\n",
    "\n",
    "  up9 = Conv2D(16, 2, activation = 'relu', padding = 'same', kernel_initializer = 'he_normal')(UpSampling2D(size = (2,2))(drop5))\n",
    "  merge9 = concatenate([conv1,up9], axis = 3)\n",
    "  conv9 = Conv2D(16, 3, activation = 'relu', padding = 'same', kernel_initializer = 'he_normal')(merge9)\n",
    "\n",
    "  conv10 = Conv2D(3, 1, activation = 'softmax')(conv9)\n",
    "\n",
    "  model = Model(inputs, conv10)\n",
    "\n",
    "  model.compile(optimizer=Adam(lr=3e-5), loss=\"categorical_crossentropy\")\n",
    "\n",
    "  return(model)"
   ]
  },
  {
   "cell_type": "code",
   "execution_count": 29,
   "id": "3f9232a0-d6c9-4aa9-bfc3-60fc5f12c3e3",
   "metadata": {},
   "outputs": [
    {
     "name": "stdout",
     "output_type": "stream",
     "text": [
      "Model: \"model\"\n",
      "__________________________________________________________________________________________________\n",
      " Layer (type)                   Output Shape         Param #     Connected to                     \n",
      "==================================================================================================\n",
      " input_2 (InputLayer)           [(None, 224, 224, 4  0           []                               \n",
      "                                )]                                                                \n",
      "                                                                                                  \n",
      " conv2d (Conv2D)                (None, 224, 224, 16  592         ['input_2[0][0]']                \n",
      "                                )                                                                 \n",
      "                                                                                                  \n",
      " max_pooling2d_3 (MaxPooling2D)  (None, 112, 112, 16  0          ['conv2d[0][0]']                 \n",
      "                                )                                                                 \n",
      "                                                                                                  \n",
      " conv2d_1 (Conv2D)              (None, 112, 112, 64  9280        ['max_pooling2d_3[0][0]']        \n",
      "                                )                                                                 \n",
      "                                                                                                  \n",
      " dropout (Dropout)              (None, 112, 112, 64  0           ['conv2d_1[0][0]']               \n",
      "                                )                                                                 \n",
      "                                                                                                  \n",
      " up_sampling2d (UpSampling2D)   (None, 224, 224, 64  0           ['dropout[0][0]']                \n",
      "                                )                                                                 \n",
      "                                                                                                  \n",
      " conv2d_2 (Conv2D)              (None, 224, 224, 16  4112        ['up_sampling2d[0][0]']          \n",
      "                                )                                                                 \n",
      "                                                                                                  \n",
      " concatenate (Concatenate)      (None, 224, 224, 32  0           ['conv2d[0][0]',                 \n",
      "                                )                                 'conv2d_2[0][0]']               \n",
      "                                                                                                  \n",
      " conv2d_3 (Conv2D)              (None, 224, 224, 16  4624        ['concatenate[0][0]']            \n",
      "                                )                                                                 \n",
      "                                                                                                  \n",
      " conv2d_4 (Conv2D)              (None, 224, 224, 3)  51          ['conv2d_3[0][0]']               \n",
      "                                                                                                  \n",
      "==================================================================================================\n",
      "Total params: 18,659\n",
      "Trainable params: 18,659\n",
      "Non-trainable params: 0\n",
      "__________________________________________________________________________________________________\n"
     ]
    },
    {
     "name": "stderr",
     "output_type": "stream",
     "text": [
      "/Users/lee/neuefische/Capstone_Project_Turtle_Recall/.venv/lib/python3.9/site-packages/keras/optimizer_v2/adam.py:105: UserWarning: The `lr` argument is deprecated, use `learning_rate` instead.\n",
      "  super(Adam, self).__init__(name, **kwargs)\n"
     ]
    }
   ],
   "source": [
    "semantic_segmentation(224, 224, 4).summary()"
   ]
  },
  {
   "cell_type": "code",
   "execution_count": null,
   "id": "ac01a2a6-9580-4dc0-9cd9-342d3a1213d3",
   "metadata": {},
   "outputs": [],
   "source": [
    "resnet50 = ResNet50V2(weights='imagenet', include_top=False)\n",
    "\n",
    "# Get Resnet config in dictionary format\n",
    "config = resnet50.get_config()\n",
    "    \n",
    "# Change input shape to new dimensions\n",
    "config[\"layers\"][0][\"config\"][\"batch_input_shape\"] = (None, 224, 224, 4)\n",
    "    \n",
    "# Create new model with config\n",
    "resnet_new = tf.keras.models.Model.from_config(config)"
   ]
  },
  {
   "cell_type": "code",
   "execution_count": null,
   "id": "8aaeeedf-6654-4d5b-b7c5-e9ca25d9b1c8",
   "metadata": {},
   "outputs": [],
   "source": []
  },
  {
   "cell_type": "code",
   "execution_count": null,
   "id": "4480309d-9eb4-40ed-b1c0-4c66fba96048",
   "metadata": {},
   "outputs": [],
   "source": []
  },
  {
   "cell_type": "code",
   "execution_count": null,
   "id": "0fc693cf-e34f-467f-aaeb-0d222c704ea6",
   "metadata": {},
   "outputs": [],
   "source": []
  },
  {
   "cell_type": "code",
   "execution_count": null,
   "id": "6792fe8e-e645-4581-a2d3-4cccd106da82",
   "metadata": {},
   "outputs": [],
   "source": [
    "for i in range(10):\n",
    "    fig, (ax1, ax2) = plt.subplots(1, 2, figsize=(8, 4), sharex=True, sharey=True)\n",
    "\n",
    "    ax1.axis('off')\n",
    "    ax1.imshow(train_generator[0][i], cmap=plt.cm.gray)\n",
    "    ax1.set_title('Input image')\n",
    "\n",
    "# Rescale histogram for better display\n",
    "    hog_image_rescaled = exposure.rescale_intensity(train_hog[1][i], in_range=(0, 10))\n",
    "\n",
    "    ax2.axis('off')\n",
    "    ax2.imshow(hog_image_rescaled, cmap=plt.cm.gray)\n",
    "    ax2.set_title('Histogram of Oriented Gradients')\n",
    "    plt.show()"
   ]
  },
  {
   "cell_type": "code",
   "execution_count": null,
   "id": "5d56d51d-27f2-41e0-8910-77df4c3eda55",
   "metadata": {},
   "outputs": [],
   "source": [
    "#split images into two\n",
    "#img is our picture\n",
    "#arr is the 4th channel\n",
    "c1,c2 = cv2.split(img)\n",
    "#then merge it into one again with another channel\n",
    "merged = cv2.merge((c1,c2,arr))"
   ]
  },
  {
   "cell_type": "code",
   "execution_count": 55,
   "id": "a929908c-8d98-4c46-9fdf-d8b6f4a0841d",
   "metadata": {},
   "outputs": [],
   "source": []
  },
  {
   "cell_type": "code",
   "execution_count": 57,
   "id": "2dde813a-c394-4ed3-81ca-0e753e463c12",
   "metadata": {},
   "outputs": [],
   "source": [
    "c1,c2,c3 = cv2.split(train_generator[0][0])\n",
    "merged_first = cv2.merge((c1,c2,c3,train_hog[1][0]))"
   ]
  },
  {
   "cell_type": "code",
   "execution_count": 81,
   "id": "2daafd7c-8915-4b61-a0e2-c2f9006adec2",
   "metadata": {},
   "outputs": [
    {
     "data": {
      "text/plain": [
       "(224, 224, 3)"
      ]
     },
     "execution_count": 81,
     "metadata": {},
     "output_type": "execute_result"
    }
   ],
   "source": [
    "train_generator[0][0].shape"
   ]
  },
  {
   "cell_type": "code",
   "execution_count": 67,
   "id": "befb1410-e6a0-4cf0-b28a-b79a17469403",
   "metadata": {},
   "outputs": [
    {
     "data": {
      "text/plain": [
       "(224, 224)"
      ]
     },
     "execution_count": 67,
     "metadata": {},
     "output_type": "execute_result"
    }
   ],
   "source": [
    "merged_first[:,:,1].shape"
   ]
  },
  {
   "cell_type": "code",
   "execution_count": 82,
   "id": "689e65f2-ead3-4486-a4a6-d30ef71876ce",
   "metadata": {},
   "outputs": [
    {
     "data": {
      "image/png": "[encoded data removed]",
      "text/plain": [
       "<Figure size 576x288 with 2 Axes>"
      ]
     },
     "metadata": {
      "needs_background": "light"
     },
     "output_type": "display_data"
    }
   ],
   "source": [
    "    fig, (ax1, ax2) = plt.subplots(1, 2, figsize=(8, 4), sharex=True, sharey=True)\n",
    "\n",
    "    ax1.axis('off')\n",
    "    ax1.imshow(merged_first[:,:,3])\n",
    "    ax1.set_title('Input image')\n",
    "\n",
    "    plt.show()"
   ]
  },
  {
   "cell_type": "code",
   "execution_count": null,
   "id": "1ca1058e-75bc-45a5-ba93-0157f7017f67",
   "metadata": {},
   "outputs": [],
   "source": []
  },
  {
   "cell_type": "code",
   "execution_count": null,
   "id": "dc04251b-5533-448c-996b-55f069d8dd36",
   "metadata": {},
   "outputs": [],
   "source": []
  },
  {
   "cell_type": "code",
   "execution_count": null,
   "id": "c0524882-90e8-44e0-a057-d3b5f16d111e",
   "metadata": {},
   "outputs": [],
   "source": []
  },
  {
   "cell_type": "code",
   "execution_count": null,
   "id": "658a2b82-7a5b-4d80-97d5-303597c6faa1",
   "metadata": {},
   "outputs": [],
   "source": []
  },
  {
   "cell_type": "code",
   "execution_count": null,
   "id": "b6ebac9d-8b67-40f8-b05e-6b73b9f5299f",
   "metadata": {},
   "outputs": [],
   "source": []
  },
  {
   "cell_type": "code",
   "execution_count": null,
   "id": "bc6fbf58-c980-46f0-969f-be3dd59b517b",
   "metadata": {},
   "outputs": [],
   "source": []
  },
  {
   "cell_type": "code",
   "execution_count": null,
   "id": "739c07fe-ab57-47a5-908e-b930c91f998f",
   "metadata": {},
   "outputs": [],
   "source": []
  },
  {
   "cell_type": "code",
   "execution_count": null,
   "id": "61386c9e-1b1f-4d75-a1a4-824a46668153",
   "metadata": {},
   "outputs": [],
   "source": [
    "from sklearn.svm import LinearSVC\n",
    "from sklearn.metrics import classification_report\n",
    "model = LinearSVC()\n",
    "model.fit(train_hog1, train_labels_list)\n",
    "#%% Evaluate the classifier\n",
    "print(\" Evaluating classifier on test data ...\")\n",
    "predictions = model.predict(validation_hog1)\n",
    "print(classification_report(validation_labels_list, predictions))"
   ]
  }
 ],
 "metadata": {
  "kernelspec": {
   "display_name": "Python 3 (ipykernel)",
   "language": "python",
   "name": "python3"
  },
  "language_info": {
   "codemirror_mode": {
    "name": "ipython",
    "version": 3
   },
   "file_extension": ".py",
   "mimetype": "text/x-python",
   "name": "python",
   "nbconvert_exporter": "python",
   "pygments_lexer": "ipython3",
   "version": "3.9.4"
  }
 },
 "nbformat": 4,
 "nbformat_minor": 5
}
